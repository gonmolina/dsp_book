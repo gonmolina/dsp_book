{
 "cells": [
  {
   "cell_type": "markdown",
   "id": "a8583603",
   "metadata": {},
   "source": [
    "# Filtros (parte 2)"
   ]
  },
  {
   "cell_type": "markdown",
   "id": "7c2e61b1",
   "metadata": {},
   "source": [
    "En la primera parte del temario de filtros vimos una herramienta de modelado de sistemas dinámicos: *la función transferencia*. Vimos que la función trnasferencia la podemos pensar de dos formas:\n",
    "\n",
    "- La transformada de Laplace de la salida del sistema sobre la transformada de Laplace de la entrada del sistema.\n",
    "- La transformada de Laplace de la respuseta al impulso del sistema.\n",
    "\n",
    "Sin embargo, hemos dejado pasar una propiedad de la transformada de Laplace muy importante, pero que si hemos visto en la transformada de Fourier, y es la convolución. Está propiedad nos dice que la multiplicación de dos funciones en el dominio transformado de Laplace es la convolución en el dominio sin transformar. Es decir:\n",
    "\n",
    "$$G_1(s).G_2(s)=g_1(t) * g_2(t)=\\int_0^t g(\\tau)h_1(t-\\tau)\\text d\\tau$$"
   ]
  },
  {
   "cell_type": "markdown",
   "id": "413036ab",
   "metadata": {},
   "source": [
    "## Cálculo de la respuesta temporal de un sistema en el dominio temporal\n",
    "\n",
    "Recordando lo visto en la clase anterior podemos notar que la salida del sistema en el dominio de Laplace lo podemos calcular como:\n",
    "\n",
    "$$Y(s)=H(s)U(s)$$\n",
    "\n",
    "donde $H(s)$ es la función transferencia, $U(s)$ es la transformada de Laplace de la entrada y $Y(s)$ es la transformada de Laplace de la salida.\n",
    "\n",
    "Utilizando la propiedad de convolución se puede ver muy facilmente que:\n",
    "\n",
    "$$y(t) = h(t)*u(t)=\\int_0^th(\\tau)u(t-\\tau)\\text d \\tau$$\n",
    "\n",
    "La salida de un sistema lineal e invariente en el tiempo se puede calcular como la convolución de la respuesta al impulso y la entrada aplicada.\n",
    "\n",
    "De esta manera podemos que el la respuesta al impulso también caraceriza la sistema, es decir, que conociendo la respuesta al impulso podemos obtener la respuesta a cualquier entrada arbitraría."
   ]
  },
  {
   "cell_type": "markdown",
   "id": "b64822c5",
   "metadata": {},
   "source": [
    "## Ejemplo respuesta al impulso del sistema masa resorte\n",
    "\n",
    "Volvamos al sistema masa resorte anterior. Recordemos que la función trnasferencia es:\n",
    "\n",
    "$$X_{\\delta}(s)=\\frac{1}{ms^2+bs+k}$$\n",
    "\n",
    "Para poder antitransformarla facilmente, lo que se suele hacer es separar la función en fracciones simples. Para hacer estor debemos tener en cuenta la posición de los polos (ceros del denominador) del sistema. Podemos separar el problema en dos casos:"
   ]
  },
  {
   "cell_type": "markdown",
   "id": "3422a773",
   "metadata": {},
   "source": [
    "1. Si el sistema tiene polos complejos conjugados, entonces las freacciones simples se pueden escribir como:\n",
    "\n",
    "$$H(s)=\\frac{As+B}{(s-(-\\sigma+j\\omega))(s-(-\\sigma-j\\omega))}$$\n",
    "\n",
    "2.  El caso de se tengan polos reales simples:\n",
    "\n",
    "$$H(s)=\\frac{A}{s-p_1}+\\frac{B}{s-p_2}$$\n",
    "\n",
    "Luego aplicando superopisción podemos resovler los dos términos de la respuesta la transformada de la respuesta al impulso mediante la suma de las transformadas de cada una de las fracciones simples.\n",
    "\n",
    "```{note}\n",
    "Todas las funciones transferencias de sistemas físicos tienen el orden del denominado mayor o igual que el del denominador, por lo tanto todos son factibles de aplicar fracciones, y encontrar de esta manera su antitransformada o respuesta al impulso \n",
    "```\n",
    "\n",
    "Volvamos al caso de una masa y un resorte, y obtengamos la antitrasformada para una combinación de valores de $m$, $b$ y $k$ en que sean complejos cojugados y otro para el caso en que sean reales simples.\n",
    "\n",
    "Supondremos que saben aplicar fracciones simples y utilizar las tablas (son problemas matemáticos que no son cubiertos en este curso), lo haremos mediante el paquete de simbólico de Python `sympy`."
   ]
  },
  {
   "cell_type": "markdown",
   "id": "b83555cf",
   "metadata": {},
   "source": [
    "### Caso 1: Polos complejos conjugados\n",
    "\n",
    "Supongamos que $m=1, b=0.2 y k=5$. Entonces los polos resultan:"
   ]
  },
  {
   "cell_type": "code",
   "execution_count": 1,
   "id": "dc608f56",
   "metadata": {},
   "outputs": [
    {
     "data": {
      "text/plain": [
       "array([-0.1+0.7j, -0.1-0.7j])"
      ]
     },
     "execution_count": 1,
     "metadata": {},
     "output_type": "execute_result"
    }
   ],
   "source": [
    "import numpy as np\n",
    "m=1\n",
    "b=0.2\n",
    "k=0.5\n",
    "\n",
    "np.roots([m,b,k]) "
   ]
  },
  {
   "cell_type": "markdown",
   "id": "b3fca7ac",
   "metadata": {},
   "source": [
    "Para resolver la antitransformada entonces:"
   ]
  },
  {
   "cell_type": "code",
   "execution_count": 2,
   "id": "d0a2d233",
   "metadata": {},
   "outputs": [],
   "source": [
    "import sympy as sp\n",
    "\n",
    "s, t=sp.symbols('s, t')"
   ]
  },
  {
   "cell_type": "code",
   "execution_count": 3,
   "id": "600a3157",
   "metadata": {},
   "outputs": [
    {
     "data": {
      "text/latex": [
       "$\\displaystyle \\frac{1.0}{1.0 s^{2} + 0.2 s + 0.5}$"
      ],
      "text/plain": [
       "1.0/(1.0*s**2 + 0.2*s + 0.5)"
      ]
     },
     "execution_count": 3,
     "metadata": {},
     "output_type": "execute_result"
    }
   ],
   "source": [
    "H = 1/(m*s**2+b*s+k)\n",
    "\n",
    "sp.apart(H, s)"
   ]
  },
  {
   "cell_type": "code",
   "execution_count": 4,
   "id": "3051fa67",
   "metadata": {},
   "outputs": [
    {
     "data": {
      "text/latex": [
       "$\\displaystyle 1.42857142857143 e^{- 0.1 t} \\sin{\\left(0.7 t \\right)} \\theta\\left(t\\right)$"
      ],
      "text/plain": [
       "1.42857142857143*exp(-0.1*t)*sin(0.7*t)*Heaviside(t)"
      ]
     },
     "execution_count": 4,
     "metadata": {},
     "output_type": "execute_result"
    }
   ],
   "source": [
    "sp.inverse_laplace_transform(H, s, t)"
   ]
  },
  {
   "cell_type": "markdown",
   "id": "f9bed113",
   "metadata": {},
   "source": [
    "### para el caso en que los polos sean reales simples \n",
    "\n",
    "Hagamos que $b=2$"
   ]
  },
  {
   "cell_type": "code",
   "execution_count": 5,
   "id": "56e3ff6c",
   "metadata": {},
   "outputs": [
    {
     "data": {
      "text/plain": [
       "array([-1.70710678, -0.29289322])"
      ]
     },
     "execution_count": 5,
     "metadata": {},
     "output_type": "execute_result"
    }
   ],
   "source": [
    "b2 = 2\n",
    "np.roots([m, b2, k])"
   ]
  },
  {
   "cell_type": "code",
   "execution_count": 6,
   "id": "cd397f50",
   "metadata": {},
   "outputs": [],
   "source": [
    "H2 = 1/(m*s*s+b2*s+k)"
   ]
  },
  {
   "cell_type": "markdown",
   "id": "325a9eca",
   "metadata": {},
   "source": [
    "Ahora la separación por facciones simples es:"
   ]
  },
  {
   "cell_type": "code",
   "execution_count": 7,
   "id": "b504bf04",
   "metadata": {},
   "outputs": [
    {
     "data": {
      "text/latex": [
       "$\\displaystyle - \\frac{0.707106781186547}{s + 1.70710678118655} + \\frac{0.707106781186547}{s + 0.292893218813452}$"
      ],
      "text/plain": [
       "-0.707106781186547/(s + 1.70710678118655) + 0.707106781186547/(s + 0.292893218813452)"
      ]
     },
     "execution_count": 7,
     "metadata": {},
     "output_type": "execute_result"
    }
   ],
   "source": [
    "H2a = sp.apart(H2, s, full=True).doit()\n",
    "H2a"
   ]
  },
  {
   "cell_type": "markdown",
   "id": "eda31c61",
   "metadata": {},
   "source": [
    "Hagamos la antitranformada de H2"
   ]
  },
  {
   "cell_type": "code",
   "execution_count": 8,
   "id": "378d15d3",
   "metadata": {},
   "outputs": [
    {
     "data": {
      "text/latex": [
       "$\\displaystyle 1.41421356237309 e^{- 1.0 t} \\sinh{\\left(0.707106781186548 t \\right)} \\theta\\left(t\\right)$"
      ],
      "text/plain": [
       "1.41421356237309*exp(-1.0*t)*sinh(0.707106781186548*t)*Heaviside(t)"
      ]
     },
     "execution_count": 8,
     "metadata": {},
     "output_type": "execute_result"
    }
   ],
   "source": [
    "sp.inverse_laplace_transform(H2, s, t)"
   ]
  },
  {
   "cell_type": "code",
   "execution_count": 9,
   "id": "603f66b7",
   "metadata": {},
   "outputs": [
    {
     "data": {
      "text/latex": [
       "$\\displaystyle - 0.707106781186547 e^{- 1.70710678118655 t} \\theta\\left(t\\right) + 0.707106781186547 e^{- 0.292893218813452 t} \\theta\\left(t\\right)$"
      ],
      "text/plain": [
       "-0.707106781186547*exp(-1.70710678118655*t)*Heaviside(t) + 0.707106781186547*exp(-0.292893218813452*t)*Heaviside(t)"
      ]
     },
     "execution_count": 9,
     "metadata": {},
     "output_type": "execute_result"
    }
   ],
   "source": [
    "sp.inverse_laplace_transform(H2a, s, t)"
   ]
  },
  {
   "cell_type": "markdown",
   "id": "a63207c9",
   "metadata": {},
   "source": [
    "Podemos ver que aunque `sympy` resuelve correctamente la antitrasformadas, a veces es conveniete procesar la funciones para que el cálculo simbólico sea más simple, como por ejemplo es realizar la separación por fracciones simples."
   ]
  },
  {
   "cell_type": "markdown",
   "id": "8a1173e6",
   "metadata": {},
   "source": [
    "```note\n",
    "La forma numérica de calcular la antiformada de Laplace de la función trnasferencia es simpemente calcular la respuesta al impulso\n",
    "```"
   ]
  },
  {
   "cell_type": "markdown",
   "id": "7d4a0c3e",
   "metadata": {},
   "source": [
    "## Sistemas en tiempo discreto\n",
    "\n",
    "Cuando representamos nuestros sistema masa resorte en tiempo continuo, las ecuaciones resultantes eran ecuaciones diferenciales.\n",
    " \n",
    "En tiempo discreto estas ecuaciones no puede ser usadas para describir nuestro sistema.  En general un sistema discreto se representa como un conjunto de ecuaciones en difrencia. Es decir:"
   ]
  },
  {
   "cell_type": "markdown",
   "id": "35b6d752",
   "metadata": {},
   "source": [
    "Utilizando esta herramienta vimos que un sistema masa resorte, donde la entrada es la fuerza y la salida la posición del sistema se puede pensar como un filtro pasa-bajos."
   ]
  },
  {
   "cell_type": "markdown",
   "id": "7a4f57d0",
   "metadata": {},
   "source": [
    "Utilizando esta herramienta vimos que un sistema masa resorte, donde la entrada es la fuerza y la salida la posición del sistema se puede pensar como un filtro pasa-bajos."
   ]
  }
 ],
 "metadata": {
  "jupytext": {
   "formats": "ipynb,md:myst",
   "text_representation": {
    "extension": ".md",
    "format_name": "myst",
    "format_version": 0.13,
    "jupytext_version": "1.16.2"
   }
  },
  "kernelspec": {
   "display_name": "Python 3 (ipykernel)",
   "language": "python",
   "name": "python3"
  },
  "language_info": {
   "codemirror_mode": {
    "name": "ipython",
    "version": 3
   },
   "file_extension": ".py",
   "mimetype": "text/x-python",
   "name": "python",
   "nbconvert_exporter": "python",
   "pygments_lexer": "ipython3",
   "version": "3.12.3"
  },
  "source_map": [
   13,
   17,
   28,
   46,
   56,
   76,
   82,
   89,
   93,
   99,
   105,
   107,
   113,
   118,
   120,
   124,
   127,
   131,
   135,
   137,
   141,
   147,
   155,
   159
  ]
 },
 "nbformat": 4,
 "nbformat_minor": 5
}