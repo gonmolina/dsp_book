{
 "cells": [
  {
   "cell_type": "markdown",
   "id": "1aac2661",
   "metadata": {
    "editable": true,
    "slideshow": {
     "slide_type": "slide"
    }
   },
   "source": [
    "## Sistemas en tiempo discreto\n",
    "\n",
    "En la figura siguiente podemos ver una representación de un sistema discreto:\n",
    "\n",
    "![Sistema en tiempo discreto](sis_z.png)"
   ]
  },
  {
   "cell_type": "markdown",
   "id": "55c46ccc",
   "metadata": {
    "editable": true,
    "slideshow": {
     "slide_type": "slide"
    }
   },
   "source": [
    "Tenemos dos formas de analizar la respuesta a cualquier entrada de un sistema discreto:"
   ]
  },
  {
   "cell_type": "markdown",
   "id": "deffc9cc",
   "metadata": {
    "editable": true,
    "slideshow": {
     "slide_type": "fragment"
    }
   },
   "source": [
    "1. Resolviendo explicitamente la ecuación que describe el comportamiento del sistema. En general para sistemas LTI es:\n",
    "\n",
    "$$y(n) = -\\sum_{k=1}^N a_k y(n-k)+ \\sum_{k=0}^M b_k(n-k)$$"
   ]
  },
  {
   "cell_type": "markdown",
   "id": "28d5d015",
   "metadata": {
    "editable": true,
    "slideshow": {
     "slide_type": "notes"
    }
   },
   "source": [
    "donde ${a_k}$ y ${b_k}$ son parámetros constantes del sistema."
   ]
  },
  {
   "cell_type": "markdown",
   "id": "4068e93f",
   "metadata": {
    "editable": true,
    "slideshow": {
     "slide_type": "fragment"
    }
   },
   "source": [
    "A la forma de la ecuación anterior se la denomina **ecuación en diferencias**."
   ]
  },
  {
   "cell_type": "markdown",
   "id": "85823a18",
   "metadata": {
    "editable": true,
    "slideshow": {
     "slide_type": "slide"
    }
   },
   "source": [
    "2. Si el sistema es lineal, podemos descomponer la señal de entrada en una combinación lineal de señales elementales para las cuales sea más fácil calcular la respuesta, y luego aplicamos superposición. Entonces matemáticamente sería:\n",
    "\n",
    "$$u(n) = \\sum_k c_k u_k(n)$$"
   ]
  },
  {
   "cell_type": "markdown",
   "id": "97b2ad73",
   "metadata": {
    "editable": true,
    "slideshow": {
     "slide_type": "fragment"
    }
   },
   "source": [
    "donde $c_k$ son los coeficientes de la combinación lineal y $u_k(n)$ son las señales elementales."
   ]
  },
  {
   "cell_type": "markdown",
   "id": "7f468cf8",
   "metadata": {
    "editable": true,
    "slideshow": {
     "slide_type": "subslide"
    }
   },
   "source": [
    "Si llamamos  $y_k(n)$ a la respuesta del sistema a la señal $u_k(n)$, entonces:\n",
    "\n",
    "$$y_k(n) = H(u_k(n))$$"
   ]
  },
  {
   "cell_type": "markdown",
   "id": "5a5d6c26",
   "metadata": {
    "editable": true,
    "slideshow": {
     "slide_type": "subslide"
    }
   },
   "source": [
    "Y la salida la podemos escribir como la combinación lineal de las respuestas:\n",
    "\n",
    "$$\n",
    "\\begin{align*}\n",
    "y(n) &= H(u(n))\\\\\n",
    "y(n) &= H\\left(\\sum c_ku_k(n)\\right)\\\\\n",
    "y(n) &= \\sum\\left(H\\left[c_ku_k(n)\\right]\\right)\\\\\n",
    "y(n) &= \\sum c_k\\left(H\\left[u_k(n)\\right]\\right)\\\\\n",
    "y(n) &= \\sum c_ky_k(n)\n",
    "\\end{align*}\n",
    "$$"
   ]
  },
  {
   "cell_type": "markdown",
   "id": "ae407c3a",
   "metadata": {
    "editable": true,
    "slideshow": {
     "slide_type": "subslide"
    }
   },
   "source": [
    "Una señal util que podemos elegir para descomponer $u(k)$ podría ser el impulso. En tiempo discreto el impulso se define:\n",
    "\n",
    "$$\n",
    "\\delta(n)= \\left\\{\n",
    "    \\begin{align*}\n",
    "    1,\\qquad &\\text{si } n=0\\\\\n",
    "    0,\\qquad &\\text{si } n\\neq k\n",
    "    \\end{align*}\n",
    "\\right.\n",
    "$$\n",
    "\n",
    "Esto implica que\n",
    "\n",
    "$$\n",
    "\\delta(n-k)= \\left\\{\n",
    "    \\begin{align*}\n",
    "    1,\\qquad &\\text{si } n=k\\\\\n",
    "    0,\\qquad &\\text{si } n\\neq k\n",
    "    \\end{align*}\n",
    "\\right.\n",
    "$$"
   ]
  },
  {
   "cell_type": "markdown",
   "id": "f02f2584",
   "metadata": {
    "editable": true,
    "slideshow": {
     "slide_type": "subslide"
    }
   },
   "source": [
    "Entonces adoptamos:\n",
    "\n",
    "$$u_k(n)=\\delta(n-k)$$"
   ]
  },
  {
   "cell_type": "markdown",
   "id": "1e912596",
   "metadata": {
    "editable": true,
    "slideshow": {
     "slide_type": "fragment"
    }
   },
   "source": [
    "debemos encontrar los $c_k$ para cada uno de los $u_k$,\n",
    "\n",
    "$$u(n) = \\sum c_ku_k(n) = \\sum c_k \\delta(n-k)$$"
   ]
  },
  {
   "cell_type": "markdown",
   "id": "e18d3079",
   "metadata": {
    "editable": true,
    "slideshow": {
     "slide_type": "fragment"
    }
   },
   "source": [
    "Podemos notar que\n",
    "\n",
    "$$ x(n)\\delta(n-k)= x(k)\\delta(n-k) $$"
   ]
  },
  {
   "cell_type": "markdown",
   "id": "22293023",
   "metadata": {
    "editable": true,
    "slideshow": {
     "slide_type": "fragment"
    }
   },
   "source": [
    "Entonces la señal $u(n)$ resulta\n",
    "\n",
    "$$u(n) = \\sum_{k=-\\infty}^{\\infty}u(k)\\delta(n-k)$$"
   ]
  },
  {
   "cell_type": "markdown",
   "id": "2449ecdb",
   "metadata": {
    "editable": true,
    "slideshow": {
     "slide_type": "subslide"
    }
   },
   "source": [
    "La respuesta a $u(n)$ será  \n",
    "\n",
    "$$ y(n) = H\\left[u(n)\\right] = H \\left[\\sum_{k=-\\infty}^\\infty u(k)\\delta(n-k)\\right]$$"
   ]
  },
  {
   "cell_type": "markdown",
   "id": "de05a81d",
   "metadata": {
    "editable": true,
    "slideshow": {
     "slide_type": "fragment"
    }
   },
   "source": [
    "Aplicamos superposición:\n",
    "\n",
    "$$ y(n) = \\sum_{k=-\\infty}^\\infty H \\left[u(k)\\delta(n-k)\\right]$$\n",
    "\n",
    "$$ y(n) = \\sum_{k=-\\infty}^\\infty u(k) H \\left[\\delta(n-k)\\right]$$"
   ]
  },
  {
   "cell_type": "markdown",
   "id": "4f3d7455",
   "metadata": {
    "editable": true,
    "slideshow": {
     "slide_type": "subslide"
    }
   },
   "source": [
    "Definimos la repuesa al impulso aplicado en $k$ en el instante $n$ como:\n",
    "\n",
    "$$ h(n,k) \\triangleq H \\left[\\delta(n-k)\\right]$$"
   ]
  },
  {
   "cell_type": "markdown",
   "id": "43298385",
   "metadata": {
    "editable": true,
    "slideshow": {
     "slide_type": "fragment"
    }
   },
   "source": [
    "y la respuesta es ahora:\n",
    "\n",
    "$$y(n)=\\sum_{k=-\\infty}^{\\infty} u(k)h(n,k)$$"
   ]
  },
  {
   "cell_type": "markdown",
   "id": "a07a0cce",
   "metadata": {
    "editable": true,
    "slideshow": {
     "slide_type": "subslide"
    }
   },
   "source": [
    "Si el sistema es invariante en el tiempo entonces:\n",
    "\n",
    "$$\\delta(n) \\implies h(n,0) = h(n)$$\n",
    "\n",
    "$$\\delta(n-k)\\implies h(n,k) = h(n-k)$$"
   ]
  },
  {
   "cell_type": "markdown",
   "id": "e085db8d",
   "metadata": {
    "editable": true,
    "slideshow": {
     "slide_type": "subslide"
    }
   },
   "source": [
    "Con lo que resulta:\n",
    "\n",
    "$$y(n) = \\sum_{k=-\\infty}^{\\infty} u(k)h(n-k)$$\n",
    "\n",
    "Que es lo que se conoce como **suma de convolución**."
   ]
  },
  {
   "cell_type": "markdown",
   "id": "11c47735",
   "metadata": {
    "editable": true,
    "slideshow": {
     "slide_type": ""
    }
   },
   "source": [
    "## Ecuaciones en diferencias\n",
    "\n",
    "### Sistemas IIR y FIR\n",
    "\n",
    "Un sistema FIR es un sistema que tiene un número finitos de términos en su respuesta al impulso.\n",
    "\n",
    "$$h(n)=0 \\text{ para } n<0 \\text{ y } n>N$$\n",
    "\n",
    "$$ y(n) = \\sum_{k=0}^{N-1} h(n)u(n-k) $$\n",
    "\n",
    "![Diagrama de Bloques de un Sistemas FIR](bd_sisz.png)\n",
    "\n",
    "- $q$: operador dezplazamiento directo\n",
    "- $q^{-1}$: operador dezplazamiento inverso (retardo)\n",
    "\n",
    "$$qx(n) = x(1+n)$$\n",
    "$$q^{-1}x(n) = x(n-1)$$"
   ]
  },
  {
   "cell_type": "markdown",
   "id": "bb8581cd",
   "metadata": {
    "editable": true,
    "slideshow": {
     "slide_type": ""
    }
   },
   "source": [
    "IIR causal significa que $h(n) = 0$ para $n<0$ y\n",
    "\n",
    "$$h(n)=\\sum_{k=0}^{\\infty}h(k)u(n-k)$$\n",
    "\n",
    "A cualquier sistema IIR los podemos aproximar hasta el coeficiente $k$ y partir de ahi lo representamos como un sistema FIR. Esto representación se conoce como implementación FIR no recursiva.\n",
    "\n",
    "Es importante destacar a no cualquier sistema IIR puede ser representado como ecuaciones en direferencias."
   ]
  },
  {
   "cell_type": "markdown",
   "id": "85a23892",
   "metadata": {},
   "source": [
    "## Implemetación de filtros digitales a partir de ecuaciones en diferencias\n",
    "\n",
    "Si escribimos la ecuación en diferencia en función del operador retardo, la misma resulta:\n",
    "\n",
    "$$y(n) = -\\sum_{k=1}^N a_k q^{-k} y(n)+ \\sum_{k=0}^M b_k q^{-k}u(n)$$\n",
    "\n",
    "La función transferencia la podemos escribir en tiempo discreto como:\n",
    "\n",
    "$$\\frac{y(n)}{u(n)} = \\dfrac{\\sum_{k=0}^M b_k q^{-k}}{\\sum_{k=1}^N a_k q^{-k}} = q^{n-m} \\dfrac{\\sum_{k=0}^M b_k q^{m-k}}{\\sum_{k=1}^N a_k q^{n-k}}$$\n",
    "\n",
    "Esta funcionestransferencia las hemos obtenido haciendo unas trampa. Hmeos considerado el operador $q^{-1}$ como el retardo. Este operador no existe en el dominio temporal. Sin embargo, existe una transformada de señales en tiempo discreto, en la que la variable del dominio transformado resulta en el translado temporal. Esta transformada se la conoce como transformada $Z$. Por lo tanto, la forma correcta de escribir la función anterior sería utilizando las expresiones en este dominio, que resultan:\n",
    "\n",
    "$$\\frac{Y(z)}{U(z)} = z^{n-m} \\dfrac{\\sum_{k=0}^M b_k z^{m-k}}{\\sum_{k=1}^N a_k z^{n-k}}$$\n",
    "\n",
    "Esta transformada $Z$ es en el dominio de tiempo discreto análoga a la transformda de Laplace en el dominio de tiempo continuo.\n",
    "\n",
    "La implemtanción de un filtro discreto se puede hacer facilmente con un algoritmo que calcule la salida $y$ para cada instante $n$ a partir del valor actual y los $m$ valores anteriores de la entrada junto con los $n$ valores anteriores de la salida.\n",
    "\n",
    "De esta manera, hemos mucho más directo o cercano a la imlementación, la función transferencia en tiempo discreto que lo que es la función transferencia en el dominio continuo."
   ]
  },
  {
   "cell_type": "code",
   "execution_count": null,
   "id": "ecff205e",
   "metadata": {},
   "outputs": [],
   "source": []
  }
 ],
 "metadata": {
  "jupytext": {
   "formats": "ipynb,md:myst",
   "text_representation": {
    "extension": ".md",
    "format_name": "myst",
    "format_version": 0.13,
    "jupytext_version": "1.16.1"
   }
  },
  "kernelspec": {
   "display_name": "Python 3 (ipykernel)",
   "language": "python",
   "name": "python3"
  },
  "source_map": [
   15,
   23,
   27,
   33,
   37,
   41,
   47,
   51,
   57,
   71,
   95,
   101,
   107,
   113,
   119,
   125,
   133,
   139,
   145,
   153,
   161,
   181,
   191,
   213
  ]
 },
 "nbformat": 4,
 "nbformat_minor": 5
}