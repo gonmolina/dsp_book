{
 "cells": [
  {
   "cell_type": "markdown",
   "id": "2805539e",
   "metadata": {
    "editable": true,
    "slideshow": {
     "slide_type": "slide"
    }
   },
   "source": [
    "# FILTROS"
   ]
  },
  {
   "cell_type": "markdown",
   "id": "184165df",
   "metadata": {
    "editable": true,
    "slideshow": {
     "slide_type": "slide"
    }
   },
   "source": [
    "## Temario\n",
    "\n",
    "1. Transformada de Laplace\n",
    "2. Funciones transferencias\n",
    "3. Caracterización de los filtros\n",
    "    1. Pasa-bajos\n",
    "    2. Pasa-altos\n",
    "    3. Pasa-banda\n",
    "    4. Elimina-banda\n",
    "    5. Pasa-todo\n",
    "4. Tipos de filtros con LTI. Butterworth, Chebyshev I y II, Elípticos (Cauer), Bessel\n",
    "5. Obtención de la función transferencia con SciPy  (`sicpy.signal`)\n",
    "6. Simulación del filtro en Python\n",
    "7. Presentación de herramienta web para diseño de filtros electrónicos activos: [Web Bench Filter Design Tool](https://webench.ti.com/filter-design-tool/)."
   ]
  },
  {
   "cell_type": "markdown",
   "id": "511c4ec4",
   "metadata": {
    "editable": true,
    "slideshow": {
     "slide_type": "slide"
    }
   },
   "source": [
    "## Transformada de Laplace\n",
    "\n",
    "Hasa el momento en la materia estuvimos trabajando con la transformada de Fourier.\n",
    "A esta transformada la podemos pensar como la correlación de la señal que se desea transformar con senos y cosenos de diferentes frecuencias que hacemos variar entre $-\\infty$ e $\\infty$.\n",
    "\n",
    "La principal desventaja de está transformada, por la características periódicas del seno y del coseno, es que no permite capturar las componentes transitorias de las señales.\n",
    "Para salvar esta dificultad se define la transformada de Laplace.\n",
    "Se define a transformada de Laplace $F(s)$ de una función definida para $t\\in\\mathbb R \\ge 0$ como:\n",
    "\n",
    "$$F(s) = \\int_{0}^{\\infty} e^{-st}f(t)dt$$\n",
    "\n",
    "La función de tranformación anterior se la conoce como transformada unilateral de Laplace."
   ]
  },
  {
   "cell_type": "markdown",
   "id": "7aaee769",
   "metadata": {
    "editable": true,
    "slideshow": {
     "slide_type": ""
    }
   },
   "source": [
    "Es importante notar que la transformada de Laplace es una generalización de la transformada de Fourier. Analizando la expresión anterior y sabiendo que la variable es un número complejo que podemos escribir como:\n",
    "\n",
    "$$s=\\sigma  \\pm j\\omega$$\n",
    "\n",
    "podemos ver que si tomamos $\\sigma=0$ lo que tenemos es exactamente la transformada de Fourier."
   ]
  },
  {
   "cell_type": "markdown",
   "id": "4816d603",
   "metadata": {
    "editable": true,
    "slideshow": {
     "slide_type": "slide"
    }
   },
   "source": [
    "## Tabla de transformadas de Laplace\n",
    "\n",
    "Para funciones típicas, existen tablas de transformada de Laplace que nos permiten rápidamente ir del dominio $t$ (en general tiempo) al dominio de Laplace $s$, que se lo conoce como dominio de frecuencia generalizada.\n",
    "\n",
    "![Tabla de transformadas de Laplace](bg2.png)"
   ]
  },
  {
   "cell_type": "markdown",
   "id": "35485d85",
   "metadata": {
    "editable": true,
    "slideshow": {
     "slide_type": "slide"
    }
   },
   "source": [
    "### Propiedades\n",
    "\n",
    "La trasformada de Laplace tiene propiedades similares a la de la transformada de Fourier.\n",
    "\n",
    "Siendo $\\alpha$, $\\beta$ $\\in$ $\\mathbb R$ y $f(t)$ $g(t)$ dos funciones definidas para $t \\ge 0$ entonces la transformada de Laplace satisface las siguientes propiedades:"
   ]
  },
  {
   "cell_type": "markdown",
   "id": "9e01454a",
   "metadata": {
    "editable": true,
    "slideshow": {
     "slide_type": "subslide"
    }
   },
   "source": [
    "#### Linealidad\n",
    "\n",
    "$$\\mathcal {L}\\{\\alpha f(t)+\\beta g(t)\\}=\\alpha {\\mathcal {L}}\\{f(t)\\}+\\beta {\\mathcal {L}}\\{g(t)\\}$$"
   ]
  },
  {
   "cell_type": "markdown",
   "id": "01bf9633",
   "metadata": {
    "editable": true,
    "slideshow": {
     "slide_type": "subslide"
    }
   },
   "source": [
    "#### Primer teorema de traslación\n",
    "\n",
    "Esta propiedad se obtiene aplicando la definición de transformada y a través del cambio de variable $u=s-a$.\n",
    "\n",
    " $$\\mathcal {L}\\{e^{at}f(t)\\}=F(s-a)$$"
   ]
  },
  {
   "cell_type": "markdown",
   "id": "05f963b8",
   "metadata": {
    "editable": true,
    "slideshow": {
     "slide_type": "subslide"
    }
   },
   "source": [
    "#### Segundo teorema de traslación\n",
    "\n",
    "Esta propiedad se demuestra por definición y teniendo en cuenta la definición de la función escalón unitario\n",
    "\n",
    "$$\\mathcal {L}\\{f(t-a)u(t-a)\\}=e^{-as}\\mathcal {L}\\{f\\}$$"
   ]
  },
  {
   "cell_type": "markdown",
   "id": "20ee25cb",
   "metadata": {
    "editable": true,
    "slideshow": {
     "slide_type": "subslide"
    }
   },
   "source": [
    "#### Transformada de una derivada de primer orden\n",
    "\n",
    "$\\mathcal{L}\\left\\{\\dfrac{df(t)}{dt}\\right\\}=sF(s)-f(0)$"
   ]
  },
  {
   "cell_type": "markdown",
   "id": "e2bca32c",
   "metadata": {
    "editable": true,
    "slideshow": {
     "slide_type": "subslide"
    }
   },
   "source": [
    "#### Transformada de una derivada de segundo orden\n",
    "\n",
    "- $\\mathcal{L} \\left\\{ \\dfrac{d^2f(t)}{dt^2} \\right\\}=s^2F(s)-sf(0)-f'(0)$"
   ]
  },
  {
   "cell_type": "markdown",
   "id": "8a409632",
   "metadata": {
    "editable": true,
    "slideshow": {
     "slide_type": "subslide"
    }
   },
   "source": [
    "#### Transformada de una derivada de orden n\n",
    "\n",
    "$\\mathcal{L} \\left\\{ \\dfrac{d^nf(t)}{dt^n} \\right\\}= s^n F(s)- s^{n-1}f(0) - s^{n-2}f'(0) - \\ldots - sf^{n-2}(0)-f^{n-1}(0)$"
   ]
  },
  {
   "cell_type": "markdown",
   "id": "590d8933",
   "metadata": {
    "editable": true,
    "slideshow": {
     "slide_type": "subslide"
    }
   },
   "source": [
    "#### Transformada de la Integral de una función\n",
    "\n",
    "$$\\mathcal{L} \\left\\{ \\int_0^tf(\\tau)d\\tau \\right\\} =\\dfrac{F(s)}{s}$$"
   ]
  },
  {
   "cell_type": "markdown",
   "id": "8a2812c0",
   "metadata": {
    "editable": true,
    "slideshow": {
     "slide_type": "subslide"
    }
   },
   "source": [
    "#### Valor final de una función: teorema de valor final\n",
    "\n",
    "$$f(\\infty)=\\lim_{s\\rightarrow 0}sF(s)$$"
   ]
  },
  {
   "cell_type": "markdown",
   "id": "b86892e4",
   "metadata": {
    "editable": true,
    "slideshow": {
     "slide_type": "subslide"
    }
   },
   "source": [
    "#### Valor inicial de una función: teorema de valor inicial\n",
    "\n",
    "$$f(0)=\\lim_{s\\rightarrow \\infty}sF(s)$$"
   ]
  },
  {
   "cell_type": "markdown",
   "id": "008cbfd2",
   "metadata": {
    "editable": true,
    "slideshow": {
     "slide_type": "notes"
    }
   },
   "source": [
    "Usando la tabla anterior junto con las propiedades, podemos obtener rapidamente la transformada de Laplace de un conjunto muy grande de funciones temporales."
   ]
  },
  {
   "cell_type": "markdown",
   "id": "1e734fe2",
   "metadata": {
    "editable": true,
    "slideshow": {
     "slide_type": ""
    }
   },
   "source": [
    "## Función transferencia"
   ]
  },
  {
   "cell_type": "markdown",
   "id": "c2a04d65",
   "metadata": {
    "editable": true,
    "slideshow": {
     "slide_type": "notes"
    }
   },
   "source": [
    "Para definir la función transferencia vamos a comenzar estudiando un ejemplo mecánico simple: un sistema lineal de una masa y un resorte. Vamos a estudiar la velocidad de la masa según una entrada fuerza aplicada a la misma.\n",
    "\n",
    "![Sistema masa resorte](ejemplo_sis_mec.png)"
   ]
  },
  {
   "cell_type": "markdown",
   "id": "8231557a",
   "metadata": {
    "editable": true,
    "slideshow": {
     "slide_type": "slide"
    }
   },
   "source": [
    "Las ecuaciones que gobiernan el movimiento de la masa son principalmente las leyes de Newton:\n",
    "\n",
    "$$f(t) - bv(t) - kx(t) = ma(t)$$\n",
    "\n",
    "A esta misma ecuación la podemos expresar como:\n",
    "\n",
    "$$ f(t) - b\\frac{\\text{d}x(t)}{dt} - kx(t) = m \\frac{\\text{d}^2x(t)}{dt^2} $$\n",
    "\n",
    "donde $f(t)$ es la fuerza aplicada a la masa (entrada del sistema) y $x(t)$ es la posición de la masa (salida del sistema)."
   ]
  },
  {
   "cell_type": "markdown",
   "id": "96b5f374",
   "metadata": {
    "editable": true,
    "slideshow": {
     "slide_type": "notes"
    }
   },
   "source": [
    "Obtener la respuesta temporal del sistema a partir de esta ecuación puede resultar complejo ya que requiere resolver la ecuación diferencial anterior. Por otro lado, es difícil de estudiar en forma genérica que pasa para diferentes funciones de la entrada $f(t)$.\n",
    "Aquí es donde la transformada de Laplace comienza a ser de gran utilidad."
   ]
  },
  {
   "cell_type": "markdown",
   "id": "84effcf7",
   "metadata": {
    "editable": true,
    "slideshow": {
     "slide_type": "notes"
    }
   },
   "source": [
    "Suponiendo que existen las transformadas de Laplace de $f(t)$ y $x(t)$ y que las mismas son $F(s)$ y $X(s)$ respectivamente, podemos escribir la misma ecuación anterior en el dominio transformado de Laplace utilizando las propiedades vistas anteriormente:"
   ]
  },
  {
   "cell_type": "markdown",
   "id": "eeee2e5d",
   "metadata": {
    "editable": true,
    "slideshow": {
     "slide_type": ""
    }
   },
   "source": [
    "$$ F(s) - b sX(s) - kX(s) = m s^2 X(s)$$\n",
    "\n",
    "Podemos notar que pasamos de una ecuación diferencial en el dominio temporal a una ecuación algebraica en el dominio temporal. Además, a la ecuación anterior la podemos reescribir como:\n",
    "\n",
    "$$ \\frac{X(s)}{F(s)} = \\frac{1}{ms^2+bs+k} $$"
   ]
  },
  {
   "cell_type": "markdown",
   "id": "80ad0bc2",
   "metadata": {
    "editable": true,
    "slideshow": {
     "slide_type": "notes"
    }
   },
   "source": [
    "Esta última ecuación es la descripción del sistema escrita como la relación entre la salida y la entrada del sistema en el dominio transformado de Laplace. A esta realación de la conoce como **función transferencia** del sistema."
   ]
  },
  {
   "cell_type": "markdown",
   "id": "c8ce1ecb",
   "metadata": {
    "editable": true,
    "slideshow": {
     "slide_type": "slide"
    }
   },
   "source": [
    "## Ejercicio (5 minutos)\n",
    "\n",
    "Usando la tabla de propiedades, obtener la función transferencia del sistema si la salida es la velocidad $v(t)$"
   ]
  },
  {
   "cell_type": "markdown",
   "id": "df98999f",
   "metadata": {
    "editable": true,
    "slideshow": {
     "slide_type": ""
    }
   },
   "source": [
    "## Anti tranformada de Laplace de la función transferencia"
   ]
  },
  {
   "cell_type": "markdown",
   "id": "0eb575b8",
   "metadata": {
    "editable": true,
    "slideshow": {
     "slide_type": "slide"
    }
   },
   "source": [
    "Por otro lado, dijimos que la transformada de Laplace es, en general, la transformada de señales temporales.\n",
    "Entonces, podríamos preguntarnos, ¿qué señal temporal es la antitransformada de la función transferencia?\n",
    "\n",
    "Para responder a esta pregunta lo que haremos es analizar que excitación se necesita el sistema para que la salida sea, en el dominio de Laplace, la función transferencia. Dejando la salida n función de la entrada, tenemos que:"
   ]
  },
  {
   "cell_type": "markdown",
   "id": "cdb95d84",
   "metadata": {
    "editable": true,
    "slideshow": {
     "slide_type": "fragment"
    }
   },
   "source": [
    "$$X(s)=\\frac{1}{ms^2+bs}F(s)$$\n",
    "\n",
    "Si $F(s)$ es 1 entonces la respuesta del sistema es la función transferencia. Ahora, de la tablas de transformadas de Laplace podemos ver que la señal temporal cuya transformada es 1 es el impulso unitario. Por lo tanto tenemos que:\n",
    "\n",
    "$$X_{\\delta}(s)=\\frac{1}{ms^2+bs}$$\n",
    "\n",
    "donde $X_{\\delta}(s)$ es la transformada de Laplace de la salida del sistema cuando la entada es un impulso unitario. \n",
    "\n",
    "Por lo tanto podemos decir que **la función transferencia es la transformada de Laplace  de la respuesta al impulso de un sistema LTI**."
   ]
  },
  {
   "cell_type": "markdown",
   "id": "b9279c56",
   "metadata": {
    "editable": true,
    "slideshow": {
     "slide_type": ""
    }
   },
   "source": [
    "## Ejercicio de simulación del sistema mecánico\n",
    "\n",
    "El pauqete de control instalado con las herramientas del curso nos brinda la posibildad de implementar sistemas descriptos a partir de su función transferencia y simularlos frente a entradas.\n",
    "\n",
    "El paquete de control aprovecha la particularidad de que las funciones transferencias transferencias son, en general, relaciónes de polinomios en $s$, por lo tanto se definen con los coficientes del polinomio numerador y los coeficientes del polinomio numerador."
   ]
  },
  {
   "cell_type": "code",
   "execution_count": 1,
   "id": "cc820d0e",
   "metadata": {
    "editable": true,
    "slideshow": {
     "slide_type": ""
    }
   },
   "outputs": [
    {
     "data": {
      "text/latex": [
       "$$\\frac{1}{s^2 + 0.2 s + 0.5}$$"
      ],
      "text/plain": [
       "TransferFunction(array([1]), array([1. , 0.2, 0.5]))"
      ]
     },
     "execution_count": 1,
     "metadata": {},
     "output_type": "execute_result"
    }
   ],
   "source": [
    "from control import tf, step_response\n",
    "m=1\n",
    "b=0.2\n",
    "k=0.5\n",
    "\n",
    "H=tf([1],[m,b,k]) # primer arg coef. de pol. den y seg arg coef. del pol. den.\n",
    "H"
   ]
  },
  {
   "cell_type": "code",
   "execution_count": 2,
   "id": "31186781",
   "metadata": {
    "editable": true,
    "raw_mimetype": "",
    "slideshow": {
     "slide_type": ""
    }
   },
   "outputs": [
    {
     "data": {
      "text/plain": [
       "<control.timeresp.TimeResponseData at 0x7f395514e810>"
      ]
     },
     "execution_count": 2,
     "metadata": {},
     "output_type": "execute_result"
    }
   ],
   "source": [
    "r = step_response(H) # simula al sistema anterior con una entrada escalón \n",
    "                     # unitario en t=0\n",
    "r"
   ]
  },
  {
   "cell_type": "markdown",
   "id": "b5522bd5",
   "metadata": {
    "editable": true,
    "slideshow": {
     "slide_type": ""
    }
   },
   "source": [
    "En `r` se encuentra la información relevante de la respuesta al escalón del este sistema. Si queremos graficar la señal de salida del sistema, luego del escalón podremos hacerlo usando `matplotlib`."
   ]
  },
  {
   "cell_type": "code",
   "execution_count": 3,
   "id": "58d25767",
   "metadata": {
    "editable": true,
    "slideshow": {
     "slide_type": ""
    }
   },
   "outputs": [],
   "source": [
    "import matplotlib.pyplot as plt\n",
    "%matplotlib inline"
   ]
  },
  {
   "cell_type": "code",
   "execution_count": 4,
   "id": "e9b53d7a",
   "metadata": {
    "editable": true,
    "slideshow": {
     "slide_type": ""
    }
   },
   "outputs": [
    {
     "data": {
      "image/png": "[encoded data removed]",
      "text/plain": [
       "<Figure size 800x300 with 1 Axes>"
      ]
     },
     "metadata": {},
     "output_type": "display_data"
    }
   ],
   "source": [
    "plt.figure(figsize=(8,3))\n",
    "plt.plot(r.t, r.y[0,0])\n",
    "plt.grid()\n",
    "plt.title('Respuesta al escalón')\n",
    "plt.xlabel('Tiempo [s]')\n",
    "plt.ylabel('Desplazamiento[m]');"
   ]
  },
  {
   "cell_type": "markdown",
   "id": "4121328a",
   "metadata": {
    "editable": true,
    "slideshow": {
     "slide_type": ""
    }
   },
   "source": [
    "Si se observa el código detenidamente podrán ver que la salida se usa con el indice [0,0]. Para entender esto veamos la forma que tiene el `y` de la respuesta al escalón."
   ]
  },
  {
   "cell_type": "code",
   "execution_count": 5,
   "id": "da5ee2c4",
   "metadata": {
    "editable": true,
    "slideshow": {
     "slide_type": ""
    }
   },
   "outputs": [
    {
     "data": {
      "text/plain": [
       "(1, 1, 196)"
      ]
     },
     "execution_count": 5,
     "metadata": {},
     "output_type": "execute_result"
    }
   ],
   "source": [
    "r.y.shape"
   ]
  },
  {
   "cell_type": "markdown",
   "id": "28d5b9fe",
   "metadata": {
    "editable": true,
    "slideshow": {
     "slide_type": ""
    }
   },
   "source": [
    "Podemos ver que el la respuesta tiene 3 dimensiones.\n",
    "En tercera dimensión se encuentran los puntos de la respuesta al escalón, las primeras dos dimensiones se usan en casos de que el sistema simulado tenga muchas entras/salidas.\n",
    "Con la primera dimensión se seleccion la salida, y con la segunda dimensión la entrada a la cual se aplica el escalón.\n",
    "En este caso como el sistema tiene solo una entrada y una salida debemos seleccionar obliagoriamente la salida 0 para la primer dimensión y la entrada 0 para la segunda dimensión."
   ]
  },
  {
   "cell_type": "markdown",
   "id": "0d998ca3",
   "metadata": {
    "editable": true,
    "slideshow": {
     "slide_type": ""
    }
   },
   "source": [
    "## Ejercicio (5 minutos)\n",
    "\n",
    "Usando la función `impulse_response` graficar la respueta al impulso (o lo que es lo mismo, la antitrasformada de la función transferencia)"
   ]
  },
  {
   "cell_type": "markdown",
   "id": "b270f3fc",
   "metadata": {
    "editable": true,
    "slideshow": {
     "slide_type": ""
    }
   },
   "source": [
    "## Ejercicio (15 minutos)\n",
    "\n",
    "Obtener la transformada de Laplace del sistema del pizarrón sabiendo que la entrada de la tensión $u(t)$ en bornes de la fuente, la salida es la tensión $y(t)$ en bornes de la resistencia, y que la ecuación que gobierna la tensión en un capacitor es \n",
    "\n",
    "$$v_c(t) = \\frac{1}{C}\\int_0^ti_C(t)dt$$ \n",
    "\n",
    "y la tensión en la resistencia es \n",
    "\n",
    "$$v_R(t)=i_R(t)R$$\n",
    "\n",
    "Ayudas:\n",
    "1. Aplicar ley de Kirchoff de tensiones teniendo en cuenta que $i_R(t) = i_C(t)$ escribiendola $u(t)= v_c(t)+v_R(t)$ \n",
    "2. Transformar por Laplace la ecuación anterior y obtener la función transferencia $\\frac{I_R(s)}{U(s)}$\n",
    "3. A partir de la ecuación anterior se puede obtener $\\frac{V_C(s)}{U(s)}$ y $\\frac{V_R(s)}{U(s)}$"
   ]
  },
  {
   "cell_type": "markdown",
   "id": "19cdab82",
   "metadata": {
    "editable": true,
    "slideshow": {
     "slide_type": "slide"
    }
   },
   "source": [
    "## Filtros analógicos"
   ]
  },
  {
   "cell_type": "markdown",
   "id": "3e4cc593",
   "metadata": {
    "editable": true,
    "slideshow": {
     "slide_type": "notes"
    }
   },
   "source": [
    "Vamos a describir las características de los tipos de filtros más habituales.\n",
    "Por otra parte, un cierto conocimiento de filtrado analógico es necesario para diseñar las etapas de adquisición (filtros antialising) y reproducción (filtros de reconstrucción) en sistemas de procesamiento digital.\n",
    "Se distinguen por la caída de la respuesta en frecuencia en la primera década, desde la frecuencia de corte y en el retardo de grupo.\n",
    "En la siguiente figura mostramos las respuestas en frecuencia que definen la los filtros analógicos más empleados.\n",
    "\n",
    "En general, para poder sintetizar un filtro análogico, primero vamos a obtener su función transferencia.\n",
    "Según los objetivos del filtro existen distintos tipos entre los cuales podemos elegir para obtener la función transferencia."
   ]
  },
  {
   "cell_type": "markdown",
   "id": "0cc9c682",
   "metadata": {
    "editable": true,
    "slideshow": {
     "slide_type": "slide"
    }
   },
   "source": [
    "## Tipos de filtros según su rango de frecuencias de paso\n",
    "\n",
    "- pasa-bajos: permite el paso de bajas frecuencias eliminando las altas\n",
    "- pasa-altos: permite el paso de las altes frecuencias elimando las altas\n",
    "- pasa-banda: permite el paso de un rango de frencuencias, elimando las altas y las bajas\n",
    "- elimina-banda: rechaza un rango de frecuencias, permitiendo el paso de frecuencias altas y bajas\n",
    "- pasa-todos: son filtro que lo que buscar es modificar la fase más que la ganancia del sistema."
   ]
  },
  {
   "cell_type": "markdown",
   "id": "45fee317",
   "metadata": {
    "editable": true,
    "slideshow": {
     "slide_type": "slide"
    }
   },
   "source": [
    "## Parámetros de los filtros \n",
    "\n",
    "- frecuencia de corte: frecuencia a la cual la ganancia cae 3 db respecto a la ganancia en la freuncia de paso: (frecuencia infinita para el pasa alto, frecuencia 0 para el pasa bajo y frecuencia media para el pasa banda)\n",
    "- ancho de banda: tiene sentido su definición para el pasa-banda y es la resta entre la frecuencia de corte superior y la inferior del filtro. En un pasa-bajos el ancho de banda es la frecuencia de corte del sistema.\n",
    "- atenuación mínima: en general se requiere una atenuación mínima en un rango de frecuencias determinado en la banda de rechazo. Por ejemplo para un filtro pasabajos de frecuencia de corte 100 Hz se le puede pedir una atenuación (inversa de la ganancia) mínima de 100 para frecuencias mayores a 500 Hz."
   ]
  },
  {
   "cell_type": "markdown",
   "id": "8ff54112",
   "metadata": {},
   "source": [
    "## Tipos de filtros según su forma en la banda de paso y de rechazo"
   ]
  },
  {
   "cell_type": "markdown",
   "id": "a2a24b30",
   "metadata": {
    "editable": true,
    "slideshow": {
     "slide_type": "slide"
    }
   },
   "source": [
    "![Tipos de filtro según su forma](tipos_filtros.png)"
   ]
  },
  {
   "cell_type": "markdown",
   "id": "622026bc",
   "metadata": {
    "editable": true,
    "slideshow": {
     "slide_type": "notes"
    }
   },
   "source": [
    "- Filtro de butterworth: Respuesta maximamente plana en la banda de paso y en la banda de eliminación.\n",
    "- Filtro de   filtros Tchebyshev tipo I: consiguen una caída más abrupta a frecuencias bajas en base a permitir un rizado de la respuesta en frecuencia en alguna de las bandas:\n",
    "  - Son filtros solo polos\n",
    "  - Presentan rizado constante en la banda pasante\n",
    "  - Presentan una caída monotónica en la banda no pasante"
   ]
  },
  {
   "cell_type": "markdown",
   "id": "bcb7c157",
   "metadata": {
    "editable": true,
    "slideshow": {
     "slide_type": "notes"
    }
   },
   "source": [
    "- Filtro de filtros Tchebyshev tipo II: consiguen una caída más abrupta a frecuencias bajas en base a permitir un rizado de la respuesta en frecuencia en alguna de las bandas:\n",
    "  - Son filtros polos y ceros\n",
    "  - Presentan rizado constante en la banda atenuación\n",
    "  - Presentan una caída monotónica en la banda de paso\n",
    "- Filtro de Cauer: consiguen una caída más abrupta en base a permitir rizados constantes en ambas bandas.\n",
    "- Filtro de Bessel: son filtros solo polos que no pretenden optimizar la anchura de la zona de transición sino asegurar fase lineal en toda la bandas pasante, ya que los filtros anteriores la degradaban progresivamente con la frecuencia."
   ]
  },
  {
   "cell_type": "markdown",
   "id": "a2bb3b6b",
   "metadata": {
    "editable": true,
    "slideshow": {
     "slide_type": "slide"
    }
   },
   "source": [
    "## Herramienta de diseño de filtro\n",
    "\n",
    "El paquete de `scipy` de Python cuenta con varias herramientas para el diseño de filtros dentro del módulo `signal`.\n",
    "\n",
    "Vamos a mostrar aquí las funciones para un filtro butterworth:\n",
    "\n",
    "- `scipy.signal.buttord`: sirve para obtener el orden del filtro de butterwoth que cumple con los requerimientos en la banda de paso y en la banda de rechazo. Toma como argumento las banda de paso de y rechazo y las ganancias de para esas bandas.\n",
    "- `scipy.signal.butt`: sirve para obtener el filtro a partir de las frecuecnias de corte y el orden obtenido con la función anterior."
   ]
  },
  {
   "cell_type": "markdown",
   "id": "ffaf7e06",
   "metadata": {
    "editable": true,
    "slideshow": {
     "slide_type": "slide"
    }
   },
   "source": [
    "El mismo par de funciones anteriores se puede encontrar para los otros tipos de filtros: Cauer, Chebyshev I y II, y Bessel.\n",
    "\n",
    "Otras dos funciones útiles par el diseño de filtros pueden ser:\n",
    "\n",
    "- `scipy.signal.iirdesign`\n",
    "- `scipy.signal.iirfilter`\n",
    "\n",
    "Todas estas funciones están pensadas para obtener la función transferencia de un filtro, pero se utilizan de manera diferente. Siempre es conveniente chuequear la documentación de `scipy.signal` al respecto."
   ]
  },
  {
   "cell_type": "markdown",
   "id": "5e720a5c",
   "metadata": {
    "editable": true,
    "slideshow": {
     "slide_type": "slide"
    }
   },
   "source": [
    "### Ejemplo\n",
    "\n",
    "Supongamos que queremos realizar un filtro pasa-banda con frecuencias de corte 100 y 500 rad/seg, con ganancia 1 en la banda de paso y una atenuación 20 para ganancias menores a 10 rad/seg y mayores 2500 rad/seg.\n",
    "\n",
    "Para estudiar este filtro voy a utilizar el paquete de control instalado con las herramientas dadas."
   ]
  },
  {
   "cell_type": "code",
   "execution_count": 6,
   "id": "5531173c",
   "metadata": {
    "editable": true,
    "slideshow": {
     "slide_type": "slide"
    }
   },
   "outputs": [
    {
     "data": {
      "text/latex": [
       "$$\\frac{3.144 \\times 10^{5} s^2}{s^4 + 793 s^3 + 4.144 \\times 10^{5} s^2 + 3.965 \\times 10^{7} s + 2.5 \\times 10^{9}}$$"
      ],
      "text/plain": [
       "TransferFunction(array([314436.27653764,      0.        ,      0.        ]), array([1.00000000e+00, 7.93014850e+02, 4.14436277e+05, 3.96507425e+07,\n",
       "       2.50000000e+09]))"
      ]
     },
     "execution_count": 6,
     "metadata": {},
     "output_type": "execute_result"
    }
   ],
   "source": [
    "from control import tf, bode\n",
    "from scipy.signal import iirdesign, iirfilter\n",
    "import matplotlib.pyplot as plt\n",
    "%matplotlib widget\n",
    "\n",
    "b,a= iirdesign([100, 500], [10, 2500], 1, 20, True, 'butter', 'ba')\n",
    "G=tf(b,a)\n",
    "G"
   ]
  },
  {
   "cell_type": "code",
   "execution_count": 7,
   "id": "8ed0c2de",
   "metadata": {},
   "outputs": [],
   "source": [
    "z,p,k= iirdesign([100, 500], [10, 2500], 1, 20, True, 'butter', 'zpk')\n",
    "#G=tf(b,a)\n",
    "#G"
   ]
  },
  {
   "cell_type": "code",
   "execution_count": 8,
   "id": "80cc9e62",
   "metadata": {},
   "outputs": [
    {
     "data": {
      "text/plain": [
       "(array([0.+0.j, 0.+0.j]),\n",
       " array([ -51.34690369 -69.293686j  ,  -51.34690369 +69.293686j  ,\n",
       "        -345.16052154+465.80111124j, -345.16052154-465.80111124j]),\n",
       " 314436.2765376437)"
      ]
     },
     "execution_count": 8,
     "metadata": {},
     "output_type": "execute_result"
    }
   ],
   "source": [
    "z,p,k"
   ]
  },
  {
   "cell_type": "code",
   "execution_count": 9,
   "id": "c60567a1",
   "metadata": {},
   "outputs": [],
   "source": [
    "from control import zpk"
   ]
  },
  {
   "cell_type": "code",
   "execution_count": 10,
   "id": "12958866",
   "metadata": {},
   "outputs": [],
   "source": [
    "Gzpk = zpk(z,p,k)"
   ]
  },
  {
   "cell_type": "code",
   "execution_count": 11,
   "id": "d3f885ca",
   "metadata": {},
   "outputs": [
    {
     "data": {
      "text/plain": [
       "0.0"
      ]
     },
     "execution_count": 11,
     "metadata": {},
     "output_type": "execute_result"
    }
   ],
   "source": [
    "Gzpk.dcgain()"
   ]
  },
  {
   "cell_type": "code",
   "execution_count": null,
   "id": "925d2ed8",
   "metadata": {},
   "outputs": [],
   "source": []
  }
 ],
 "metadata": {
  "jupytext": {
   "formats": "ipynb,md:myst",
   "text_representation": {
    "extension": ".md",
    "format_name": "myst",
    "format_version": 0.13,
    "jupytext_version": "1.16.1"
   }
  },
  "kernelspec": {
   "display_name": "Python 3 (ipykernel)",
   "language": "python",
   "name": "python3"
  },
  "language_info": {
   "codemirror_mode": {
    "name": "ipython",
    "version": 3
   },
   "file_extension": ".py",
   "mimetype": "text/x-python",
   "name": "python",
   "nbconvert_exporter": "python",
   "pygments_lexer": "ipython3",
   "version": "3.12.3"
  },
  "source_map": [
   15,
   19,
   36,
   51,
   59,
   67,
   75,
   81,
   89,
   97,
   103,
   109,
   115,
   121,
   127,
   133,
   137,
   141,
   147,
   159,
   164,
   168,
   176,
   180,
   186,
   190,
   197,
   209,
   217,
   232,
   244,
   248,
   258,
   272,
   276,
   285,
   292,
   298,
   315,
   319,
   329,
   339,
   347,
   351,
   355,
   363,
   372,
   383,
   394,
   402,
   418,
   424,
   428,
   432,
   436,
   440
  ]
 },
 "nbformat": 4,
 "nbformat_minor": 5
}