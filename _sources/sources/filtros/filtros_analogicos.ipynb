{
 "cells": [
  {
   "cell_type": "markdown",
   "id": "1cfcb790",
   "metadata": {
    "editable": true,
    "slideshow": {
     "slide_type": "slide"
    }
   },
   "source": [
    "# FILTROS"
   ]
  },
  {
   "cell_type": "markdown",
   "id": "b1d9cc4d",
   "metadata": {
    "editable": true,
    "slideshow": {
     "slide_type": "slide"
    }
   },
   "source": [
    "## Temario\n",
    "\n",
    "1. Transformada de Laplace\n",
    "2. Funciones transferencias\n",
    "3. Caracterización de los filtros\n",
    "    1. Pasa-bajos\n",
    "    2. Pasa-altos\n",
    "    3. Pasa-banda\n",
    "    4. Elimina-banda\n",
    "    5. Pasa-todo\n",
    "4. Tipos de filtros con LTI. Butterworth, Chebyshev I y II, Elípticos (Cauer), Bessel\n",
    "5. Obtención de la función transferencia de un filtro con SciPy  (`sicpy.signal`)\n",
    "6. Simulación del filtro en Python\n",
    "7. Presentación de herramienta web para diseño de filtros electrónicos activos: [Web Bench Filter Design Tool](https://webench.ti.com/filter-design-tool/)."
   ]
  },
  {
   "cell_type": "markdown",
   "id": "afc5603c",
   "metadata": {
    "editable": true,
    "slideshow": {
     "slide_type": "slide"
    }
   },
   "source": [
    "## Transformada de Laplace"
   ]
  },
  {
   "cell_type": "markdown",
   "id": "c0ec33a8",
   "metadata": {
    "editable": true,
    "slideshow": {
     "slide_type": "notes"
    }
   },
   "source": [
    "Hasa el momento en la materia estuvimos trabajando con la transformada de Fourier.\n",
    "A esta transformada la podemos pensar como la correlación de la señal que se desea transformar con senos y cosenos de diferentes frecuencias que hacemos variar entre $-\\infty$ e $\\infty$."
   ]
  },
  {
   "cell_type": "markdown",
   "id": "b881cd38",
   "metadata": {
    "editable": true,
    "slideshow": {
     "slide_type": "notes"
    }
   },
   "source": [
    "La principal desventaja de está transformada, por la características periódicas del seno y del coseno, es que no permite capturar las componentes transitorias de las señales.\n",
    "Para salvar esta dificultad se define la transformada de Laplace.\n",
    "Se define a transformada de Laplace $F(s)$ de una función definida para $t\\in\\mathbb R \\ge 0$ como:"
   ]
  },
  {
   "cell_type": "markdown",
   "id": "6fe60d56",
   "metadata": {
    "editable": true,
    "slideshow": {
     "slide_type": "fragment"
    }
   },
   "source": [
    "$$F(s) = \\int_{0}^{\\infty} e^{-st}f(t)dt$$\n",
    "\n",
    "La función de tranformación anterior se la conoce como transformada unilateral de Laplace."
   ]
  },
  {
   "cell_type": "markdown",
   "id": "7bba62f1",
   "metadata": {
    "editable": true,
    "slideshow": {
     "slide_type": "slide"
    }
   },
   "source": [
    "Analizando la expresión anterior y sabiendo que la variable $s$ es un número complejo que podemos escribir como:\n",
    "\n",
    "$$s=\\sigma  \\pm j\\omega$$\n",
    "\n",
    "Podemos notar que la transformada de Laplace es una generalización de la transformada de Fourier tomando $\\sigma=0$ ."
   ]
  },
  {
   "cell_type": "markdown",
   "id": "33587549",
   "metadata": {
    "editable": true,
    "slideshow": {
     "slide_type": "slide"
    }
   },
   "source": [
    "## Tabla de transformadas de Laplace"
   ]
  },
  {
   "cell_type": "markdown",
   "id": "0d16ea7d",
   "metadata": {
    "editable": true,
    "slideshow": {
     "slide_type": "notes"
    }
   },
   "source": [
    "Para funciones típicas, existen tablas de transformada de Laplace que nos permiten rápidamente ir del dominio $t$ (en general tiempo) al dominio de Laplace $s$, que se lo conoce como dominio de frecuencia generalizada."
   ]
  },
  {
   "cell_type": "markdown",
   "id": "e3178619",
   "metadata": {
    "editable": true,
    "slideshow": {
     "slide_type": "fragment"
    }
   },
   "source": [
    "![Tabla de transformadas de Laplace](bg2.png)"
   ]
  },
  {
   "cell_type": "markdown",
   "id": "c21106ce",
   "metadata": {
    "editable": true,
    "slideshow": {
     "slide_type": "slide"
    }
   },
   "source": [
    "### Propiedades\n",
    "\n",
    "La trasformada de Laplace tiene propiedades similares a la de la transformada de Fourier.\n",
    "\n",
    "Siendo $\\alpha$, $\\beta$ $\\in$ $\\mathbb R$ y $f(t)$ $g(t)$ dos funciones definidas para $t \\ge 0$ entonces la transformada de Laplace satisface las siguientes propiedades:"
   ]
  },
  {
   "cell_type": "markdown",
   "id": "3f05acb2",
   "metadata": {
    "editable": true,
    "slideshow": {
     "slide_type": "subslide"
    }
   },
   "source": [
    "#### Linealidad\n",
    "\n",
    "$$\\mathcal {L}\\{\\alpha f(t)+\\beta g(t)\\}=\\alpha {\\mathcal {L}}\\{f(t)\\}+\\beta {\\mathcal {L}}\\{g(t)\\}$$"
   ]
  },
  {
   "cell_type": "markdown",
   "id": "0473c9eb",
   "metadata": {
    "editable": true,
    "slideshow": {
     "slide_type": "subslide"
    }
   },
   "source": [
    "#### Primer teorema de traslación\n",
    "\n",
    "Esta propiedad se obtiene aplicando la definición de transformada y a través del cambio de variable $u=s-a$.\n",
    "\n",
    " $$\\mathcal {L}\\{e^{at}f(t)\\}=F(s-a)$$"
   ]
  },
  {
   "cell_type": "markdown",
   "id": "b544530d",
   "metadata": {
    "editable": true,
    "slideshow": {
     "slide_type": "subslide"
    }
   },
   "source": [
    "#### Segundo teorema de traslación\n",
    "\n",
    "Esta propiedad se demuestra por definición y teniendo en cuenta la definición de la función escalón unitario\n",
    "\n",
    "$$\\mathcal {L}\\{f(t-a)u(t-a)\\}=e^{-as}\\mathcal {L}\\{f\\}$$"
   ]
  },
  {
   "cell_type": "markdown",
   "id": "b99136d7",
   "metadata": {
    "editable": true,
    "slideshow": {
     "slide_type": "subslide"
    }
   },
   "source": [
    "#### Transformada de una derivada de primer orden\n",
    "\n",
    "$\\mathcal{L}\\left\\{\\dfrac{df(t)}{dt}\\right\\}=sF(s)-f(0)$"
   ]
  },
  {
   "cell_type": "markdown",
   "id": "984e9d8f",
   "metadata": {
    "editable": true,
    "slideshow": {
     "slide_type": "subslide"
    }
   },
   "source": [
    "#### Transformada de una derivada de segundo orden\n",
    "\n",
    "$\\mathcal{L} \\left\\{ \\dfrac{d^2f(t)}{dt^2} \\right\\}=s^2F(s)-sf(0)-f'(0)$"
   ]
  },
  {
   "cell_type": "markdown",
   "id": "2b869c95",
   "metadata": {
    "editable": true,
    "slideshow": {
     "slide_type": "subslide"
    }
   },
   "source": [
    "#### Transformada de una derivada de orden n\n",
    "\n",
    "$\\mathcal{L} \\left\\{ \\dfrac{d^nf(t)}{dt^n} \\right\\}= s^n F(s)- s^{n-1}f(0) - s^{n-2}f'(0) - \\ldots - sf^{n-2}(0)-f^{n-1}(0)$"
   ]
  },
  {
   "cell_type": "markdown",
   "id": "881bf21d",
   "metadata": {
    "editable": true,
    "slideshow": {
     "slide_type": "subslide"
    }
   },
   "source": [
    "#### Transformada de la Integral de una función\n",
    "\n",
    "$$\\mathcal{L} \\left\\{ \\int_0^tf(\\tau)d\\tau \\right\\} =\\dfrac{F(s)}{s}$$"
   ]
  },
  {
   "cell_type": "markdown",
   "id": "ff7c8b54",
   "metadata": {
    "editable": true,
    "slideshow": {
     "slide_type": "subslide"
    }
   },
   "source": [
    "#### Valor final de una función: teorema de valor final\n",
    "\n",
    "$$f(\\infty)=\\lim_{s\\rightarrow 0}sF(s)$$"
   ]
  },
  {
   "cell_type": "markdown",
   "id": "73012293",
   "metadata": {
    "editable": true,
    "slideshow": {
     "slide_type": "subslide"
    }
   },
   "source": [
    "#### Valor inicial de una función: teorema de valor inicial\n",
    "\n",
    "$$f(0)=\\lim_{s\\rightarrow \\infty}sF(s)$$"
   ]
  },
  {
   "cell_type": "markdown",
   "id": "37819ff0",
   "metadata": {
    "editable": true,
    "slideshow": {
     "slide_type": "notes"
    }
   },
   "source": [
    "Usando la tabla anterior junto con las propiedades, podemos obtener rapidamente la transformada de Laplace de un conjunto muy grande de funciones temporales."
   ]
  },
  {
   "cell_type": "markdown",
   "id": "ed517f9f",
   "metadata": {
    "editable": true,
    "slideshow": {
     "slide_type": "slide"
    }
   },
   "source": [
    "## Función transferencia"
   ]
  },
  {
   "cell_type": "markdown",
   "id": "829f1e4f",
   "metadata": {
    "editable": true,
    "slideshow": {
     "slide_type": "slide"
    }
   },
   "source": [
    "Para definir la función transferencia vamos a comenzar estudiando un ejemplo mecánico simple: un sistema lineal de una masa y un resorte. Vamos a estudiar la velocidad de la masa según una entrada fuerza aplicada a la misma.\n",
    "\n",
    "![Sistema masa resorte](ejemplo_sis_mec.png)"
   ]
  },
  {
   "cell_type": "markdown",
   "id": "d30f214c",
   "metadata": {
    "editable": true,
    "slideshow": {
     "slide_type": "slide"
    }
   },
   "source": [
    "Las ecuaciones que gobiernan el movimiento de la masa son principalmente las leyes de Newton:\n",
    "\n",
    "$$f(t) - bv(t) - kx(t) = ma(t)$$\n",
    "\n",
    "A esta misma ecuación la podemos expresar como:\n",
    "\n",
    "$$ f(t) - b\\frac{\\text{d}x(t)}{dt} - kx(t) = m \\frac{\\text{d}^2x(t)}{dt^2} $$\n",
    "\n",
    "donde $f(t)$ es la fuerza aplicada a la masa (entrada del sistema) y $x(t)$ es la posición de la masa (salida del sistema)."
   ]
  },
  {
   "cell_type": "markdown",
   "id": "5af950d2",
   "metadata": {
    "editable": true,
    "slideshow": {
     "slide_type": "notes"
    }
   },
   "source": [
    "Obtener la respuesta temporal del sistema a partir de esta ecuación puede resultar complejo ya que requiere resolver la ecuación diferencial anterior. Por otro lado, es difícil de estudiar en forma genérica que pasa para diferentes funciones de la entrada $f(t)$.\n",
    "Aquí es donde la transformada de Laplace comienza a ser de gran utilidad."
   ]
  },
  {
   "cell_type": "markdown",
   "id": "4e8bc516",
   "metadata": {
    "editable": true,
    "slideshow": {
     "slide_type": "notes"
    }
   },
   "source": [
    "Suponiendo que existen las transformadas de Laplace de $f(t)$ y $x(t)$ y que las mismas son $F(s)$ y $X(s)$ respectivamente, podemos escribir la misma ecuación anterior en el dominio transformado de Laplace utilizando las propiedades vistas anteriormente:"
   ]
  },
  {
   "cell_type": "markdown",
   "id": "c99df179",
   "metadata": {
    "editable": true,
    "slideshow": {
     "slide_type": "slide"
    }
   },
   "source": [
    "$$ F(s) - b sX(s) - kX(s) = m s^2 X(s)$$"
   ]
  },
  {
   "cell_type": "markdown",
   "id": "f20ef513",
   "metadata": {
    "editable": true,
    "slideshow": {
     "slide_type": "notes"
    }
   },
   "source": [
    "Podemos notar que pasamos de una ecuación diferencial en el dominio temporal a una ecuación algebraica en el dominio temporal. Además, a la ecuación anterior la podemos reescribir como:"
   ]
  },
  {
   "cell_type": "markdown",
   "id": "f3d66c2d",
   "metadata": {
    "editable": true,
    "slideshow": {
     "slide_type": "fragment"
    }
   },
   "source": [
    "$$ \\frac{X(s)}{F(s)} = \\frac{1}{ms^2+bs+k} $$"
   ]
  },
  {
   "cell_type": "markdown",
   "id": "d67cfe80",
   "metadata": {
    "editable": true,
    "slideshow": {
     "slide_type": "fragment"
    }
   },
   "source": [
    "Esta última ecuación es la descripción del sistema escrita como la relación entre la salida y la entrada del sistema en el dominio transformado de Laplace. A esta realación de la conoce como **función transferencia** del sistema."
   ]
  },
  {
   "cell_type": "markdown",
   "id": "83ad8f85",
   "metadata": {
    "editable": true,
    "slideshow": {
     "slide_type": "slide"
    }
   },
   "source": [
    "## Ejercicio (5 minutos)\n",
    "\n",
    "Usando la tabla de propiedades, obtener la función transferencia del sistema si la salida es la velocidad $v(t)$"
   ]
  },
  {
   "cell_type": "markdown",
   "id": "5030de48",
   "metadata": {
    "editable": true,
    "slideshow": {
     "slide_type": "slide"
    }
   },
   "source": [
    "## Anti tranformada de Laplace de la función transferencia"
   ]
  },
  {
   "cell_type": "markdown",
   "id": "10373d84",
   "metadata": {
    "editable": true,
    "slideshow": {
     "slide_type": "notes"
    }
   },
   "source": [
    "Dijimos que la transformada de Laplace es, en general, la transformada de señales temporales.\n",
    "Entonces, podríamos preguntarnos, ¿qué señal temporal es la antitransformada de la función transferencia?\n",
    "\n",
    "Para responder a esta pregunta lo que haremos es analizar que excitación se necesita el sistema para que la salida sea, en el dominio de Laplace, la función transferencia. Dejando la salida n función de la entrada, tenemos que:"
   ]
  },
  {
   "cell_type": "markdown",
   "id": "c041c08e",
   "metadata": {
    "editable": true,
    "slideshow": {
     "slide_type": "fragment"
    }
   },
   "source": [
    "$$X(s)=\\frac{1}{ms^2+bs+k}F(s)$$"
   ]
  },
  {
   "cell_type": "markdown",
   "id": "fa5ae42a",
   "metadata": {
    "editable": true,
    "slideshow": {
     "slide_type": "notes"
    }
   },
   "source": [
    "Si $F(s)$ es 1 entonces la respuesta del sistema es la función transferencia. Ahora, de la tablas de transformadas de Laplace podemos ver que la señal temporal cuya transformada es 1 es el impulso unitario. Por lo tanto tenemos que:"
   ]
  },
  {
   "cell_type": "markdown",
   "id": "de6164c9",
   "metadata": {
    "editable": true,
    "slideshow": {
     "slide_type": "slide"
    }
   },
   "source": [
    "$$X_{\\delta}(s)=\\frac{1}{ms^2+bs+k}$$"
   ]
  },
  {
   "cell_type": "markdown",
   "id": "cdb1b9ac",
   "metadata": {
    "editable": true,
    "slideshow": {
     "slide_type": "notes"
    }
   },
   "source": [
    "donde $X_{\\delta}(s)$ es la transformada de Laplace de la salida del sistema cuando la entada es un impulso unitario."
   ]
  },
  {
   "cell_type": "markdown",
   "id": "fe015d3e",
   "metadata": {
    "editable": true,
    "slideshow": {
     "slide_type": "fragment"
    }
   },
   "source": [
    "Por lo tanto podemos decir que **la función transferencia es la transformada de Laplace  de la respuesta al impulso de un sistema LTI**."
   ]
  },
  {
   "cell_type": "markdown",
   "id": "fa44fe69",
   "metadata": {
    "editable": true,
    "slideshow": {
     "slide_type": "slide"
    }
   },
   "source": [
    "## Ejercicio de simulación del sistema mecánico"
   ]
  },
  {
   "cell_type": "markdown",
   "id": "4f3c5dbb",
   "metadata": {
    "editable": true,
    "slideshow": {
     "slide_type": "fragment"
    }
   },
   "source": [
    "El paquete de control instalado con las herramientas del curso nos brinda la posibildad de implementar sistemas descriptos a partir de su función transferencia y simularlos frente a entradas."
   ]
  },
  {
   "cell_type": "markdown",
   "id": "a2c8d2dc",
   "metadata": {
    "editable": true,
    "slideshow": {
     "slide_type": "notes"
    }
   },
   "source": [
    "El paquete de control aprovecha la particularidad de que las funciones transferencias transferencias son, en general, relaciónes de polinomios en $s$, por lo tanto se definen con los coficientes del polinomio numerador y los coeficientes del polinomio numerador."
   ]
  },
  {
   "cell_type": "code",
   "execution_count": 1,
   "id": "0c4c7106",
   "metadata": {
    "editable": true,
    "slideshow": {
     "slide_type": "slide"
    }
   },
   "outputs": [
    {
     "data": {
      "text/latex": [
       "$$\\frac{1}{s^2 + 0.2 s + 0.5}$$"
      ],
      "text/plain": [
       "TransferFunction(array([1]), array([1. , 0.2, 0.5]))"
      ]
     },
     "execution_count": 1,
     "metadata": {},
     "output_type": "execute_result"
    }
   ],
   "source": [
    "from control import tf, step_response\n",
    "m=1\n",
    "b=0.2\n",
    "k=0.5\n",
    "\n",
    "H=tf([1],[m,b,k]) # primer arg coef. de pol. den y seg arg coef. del pol. den.\n",
    "H"
   ]
  },
  {
   "cell_type": "code",
   "execution_count": 2,
   "id": "17c89a11",
   "metadata": {
    "editable": true,
    "raw_mimetype": "",
    "slideshow": {
     "slide_type": "fragment"
    }
   },
   "outputs": [
    {
     "data": {
      "text/plain": [
       "<control.timeresp.TimeResponseData at 0x7f56cd5b8c80>"
      ]
     },
     "execution_count": 2,
     "metadata": {},
     "output_type": "execute_result"
    }
   ],
   "source": [
    "r = step_response(H) # simula al sistema anterior con una entrada escalón \n",
    "                     # unitario en t=0\n",
    "r"
   ]
  },
  {
   "cell_type": "markdown",
   "id": "c7680387",
   "metadata": {
    "editable": true,
    "slideshow": {
     "slide_type": ""
    }
   },
   "source": [
    "En `r` se encuentra la información relevante de la respuesta al escalón del este sistema. Si queremos graficar la señal de salida del sistema, luego del escalón podremos hacerlo usando `matplotlib`."
   ]
  },
  {
   "cell_type": "code",
   "execution_count": 3,
   "id": "e622f3f0",
   "metadata": {
    "editable": true,
    "slideshow": {
     "slide_type": "skip"
    }
   },
   "outputs": [],
   "source": [
    "import matplotlib.pyplot as plt\n",
    "%matplotlib inline"
   ]
  },
  {
   "cell_type": "code",
   "execution_count": 4,
   "id": "446ad99b",
   "metadata": {
    "editable": true,
    "slideshow": {
     "slide_type": "slide"
    }
   },
   "outputs": [
    {
     "data": {
      "image/png": "[encoded data removed]",
      "text/plain": [
       "<Figure size 800x300 with 1 Axes>"
      ]
     },
     "metadata": {},
     "output_type": "display_data"
    }
   ],
   "source": [
    "plt.figure(figsize=(8,3))\n",
    "plt.plot(r.t, r.y[0,0])\n",
    "plt.grid()\n",
    "plt.title('Respuesta al escalón')\n",
    "plt.xlabel('Tiempo [s]')\n",
    "plt.ylabel('Desplazamiento[m]');"
   ]
  },
  {
   "cell_type": "markdown",
   "id": "654aceba",
   "metadata": {
    "editable": true,
    "slideshow": {
     "slide_type": "notes"
    }
   },
   "source": [
    "Si se observa el código detenidamente podrán ver que la salida se usa con el indice [0,0]. Para entender esto veamos la forma que tiene el `y` de la respuesta al escalón."
   ]
  },
  {
   "cell_type": "code",
   "execution_count": 5,
   "id": "b66d8963",
   "metadata": {
    "editable": true,
    "slideshow": {
     "slide_type": "slide"
    }
   },
   "outputs": [
    {
     "data": {
      "text/plain": [
       "(1, 1, 196)"
      ]
     },
     "execution_count": 5,
     "metadata": {},
     "output_type": "execute_result"
    }
   ],
   "source": [
    "r.y.shape"
   ]
  },
  {
   "cell_type": "markdown",
   "id": "284926d4",
   "metadata": {
    "editable": true,
    "slideshow": {
     "slide_type": "notes"
    }
   },
   "source": [
    "Podemos ver que el la respuesta tiene 3 dimensiones.\n",
    "En tercera dimensión se encuentran los puntos de la respuesta al escalón, las primeras dos dimensiones se usan en casos de que el sistema simulado tenga muchas entras/salidas.\n",
    "Con la primera dimensión se seleccion la salida, y con la segunda dimensión la entrada a la cual se aplica el escalón.\n",
    "En este caso como el sistema tiene solo una entrada y una salida debemos seleccionar obliagoriamente la salida 0 para la primer dimensión y la entrada 0 para la segunda dimensión."
   ]
  },
  {
   "cell_type": "markdown",
   "id": "9f89c9b7",
   "metadata": {
    "editable": true,
    "slideshow": {
     "slide_type": "slide"
    }
   },
   "source": [
    "## Ejercicio (5 minutos)\n",
    "\n",
    "Usando la función `impulse_response` graficar la respuesta al impulso (o lo que es lo mismo, la antitrasformada de la función transferencia)"
   ]
  },
  {
   "cell_type": "markdown",
   "id": "bd8808fb",
   "metadata": {
    "editable": true,
    "slideshow": {
     "slide_type": "slide"
    }
   },
   "source": [
    "## Ejercicio (15 minutos)\n",
    "\n",
    "Obtener la transformada de Laplace del sistema del pizarrón sabiendo que la entrada es la tensión $u(t)$ en bornes de la fuente, la salida es la tensión $y(t)$ en bornes de la resistencia, y que la ecuación que gobierna la tensión en un capacitor es \n",
    "\n",
    "$$v_c(t) = \\frac{1}{C}\\int_0^ti_C(t)dt$$ \n",
    "\n",
    "y la tensión en la resistencia es \n",
    "\n",
    "$$v_R(t)=i_R(t)R$$\n",
    "\n",
    "Ayudas:\n",
    "1. Aplicar ley de Kirchoff de tensiones teniendo en cuenta que $i_R(t) = i_C(t)$ escribiendola $u(t)= v_c(t)+v_R(t)$ \n",
    "2. Transformar por Laplace la ecuación anterior y obtener la función transferencia $\\frac{I_R(s)}{U(s)}$\n",
    "3. A partir de la ecuación anterior se puede obtener $\\frac{V_C(s)}{U(s)}$ y $\\frac{V_R(s)}{U(s)}$"
   ]
  },
  {
   "cell_type": "markdown",
   "id": "7f5aba81",
   "metadata": {
    "editable": true,
    "slideshow": {
     "slide_type": "slide"
    }
   },
   "source": [
    "## Filtros analógicos"
   ]
  },
  {
   "cell_type": "markdown",
   "id": "562b031c",
   "metadata": {
    "editable": true,
    "slideshow": {
     "slide_type": "notes"
    }
   },
   "source": [
    "Vamos a describir las características de los tipos de filtros más habituales.\n",
    "Por otra parte, un cierto conocimiento de filtrado analógico es necesario para diseñar las etapas de adquisición (filtros antialising) y reproducción (filtros de reconstrucción) en sistemas de procesamiento digital.\n",
    "Se distinguen por la caída de la respuesta en frecuencia en la primera década, desde la frecuencia de corte y en el retardo de grupo.\n",
    "En la siguiente figura mostramos las respuestas en frecuencia que definen la los filtros analógicos más empleados.\n",
    "\n",
    "En general, para poder sintetizar un filtro análogico, primero vamos a obtener su función transferencia.\n",
    "Según los objetivos del filtro existen distintos tipos entre los cuales podemos elegir para obtener la función transferencia."
   ]
  },
  {
   "cell_type": "markdown",
   "id": "ec831bdd",
   "metadata": {
    "editable": true,
    "slideshow": {
     "slide_type": "slide"
    }
   },
   "source": [
    "## Tipos de filtros según su rango de frecuencias de paso\n",
    "\n",
    "- pasa-bajos: permite el paso de bajas frecuencias eliminando las altas\n",
    "- pasa-altos: permite el paso de las altes frecuencias elimando las altas\n",
    "- pasa-banda: permite el paso de un rango de frencuencias, elimando las altas y las bajas\n",
    "- elimina-banda: rechaza un rango de frecuencias, permitiendo el paso de frecuencias altas y bajas\n",
    "- pasa-todos: son filtro que lo que buscar es modificar la fase más que la ganancia del sistema."
   ]
  },
  {
   "cell_type": "markdown",
   "id": "309cd544",
   "metadata": {
    "editable": true,
    "slideshow": {
     "slide_type": "slide"
    }
   },
   "source": [
    "## Parámetros de los filtros \n",
    "\n",
    "- frecuencia de corte: frecuencia a la cual la ganancia cae 3 db respecto a la ganancia en la freuncia de paso: (frecuencia infinita para el pasa alto, frecuencia 0 para el pasa bajo y frecuencia media para el pasa banda)\n",
    "- ancho de banda: tiene sentido su definición para el pasa-banda y es la resta entre la frecuencia de corte superior y la inferior del filtro. En un pasa-bajos el ancho de banda es la frecuencia de corte del sistema.\n",
    "- atenuación mínima: en general se requiere una atenuación mínima en un rango de frecuencias determinado en la banda de rechazo. Por ejemplo para un filtro pasabajos de frecuencia de corte 100 Hz se le puede pedir una atenuación (inversa de la ganancia) mínima de 100 para frecuencias mayores a 500 Hz."
   ]
  },
  {
   "cell_type": "markdown",
   "id": "5dd0ef81",
   "metadata": {
    "editable": true,
    "slideshow": {
     "slide_type": "slide"
    }
   },
   "source": [
    "## Tipos de filtros según su forma en la banda de paso y de rechazo"
   ]
  },
  {
   "cell_type": "markdown",
   "id": "dd6bf997",
   "metadata": {
    "editable": true,
    "slideshow": {
     "slide_type": "fragment"
    }
   },
   "source": [
    "![Tipos de filtro según su forma](tipos_filtros.png)"
   ]
  },
  {
   "cell_type": "markdown",
   "id": "6cf68413",
   "metadata": {
    "editable": true,
    "slideshow": {
     "slide_type": "notes"
    }
   },
   "source": [
    "- Filtro de butterworth: Respuesta maximamente plana en la banda de paso y en la banda de eliminación.\n",
    "- Filtro de   filtros Tchebyshev tipo I: consiguen una caída más abrupta a frecuencias bajas en base a permitir un rizado de la respuesta en frecuencia en alguna de las bandas:\n",
    "  - Son filtros solo polos\n",
    "  - Presentan rizado constante en la banda pasante\n",
    "  - Presentan una caída monotónica en la banda no pasante"
   ]
  },
  {
   "cell_type": "markdown",
   "id": "74535366",
   "metadata": {
    "editable": true,
    "slideshow": {
     "slide_type": "notes"
    }
   },
   "source": [
    "- Filtro de filtros Tchebyshev tipo II: consiguen una caída más abrupta a frecuencias bajas en base a permitir un rizado de la respuesta en frecuencia en alguna de las bandas:\n",
    "  - Son filtros polos y ceros\n",
    "  - Presentan rizado constante en la banda atenuación\n",
    "  - Presentan una caída monotónica en la banda de paso\n",
    "- Filtro de Cauer: consiguen una caída más abrupta en base a permitir rizados constantes en ambas bandas.\n",
    "- Filtro de Bessel: son filtros solo polos que no pretenden optimizar la anchura de la zona de transición sino asegurar fase lineal en toda la bandas pasante, ya que los filtros anteriores la degradaban progresivamente con la frecuencia."
   ]
  },
  {
   "cell_type": "markdown",
   "id": "bcadafcd",
   "metadata": {
    "editable": true,
    "slideshow": {
     "slide_type": "slide"
    }
   },
   "source": [
    "## Herramienta de diseño de filtro\n",
    "\n",
    "El paquete de `scipy` de Python cuenta con varias herramientas para el diseño de filtros dentro del módulo `signal`.\n",
    "\n",
    "Vamos a mostrar aquí las funciones para un filtro butterworth:\n",
    "\n",
    "- `scipy.signal.buttord`: sirve para obtener el orden del filtro de butterwoth que cumple con los requerimientos en la banda de paso y en la banda de rechazo. Toma como argumento las banda de paso de y rechazo y las ganancias de para esas bandas.\n",
    "- `scipy.signal.butt`: sirve para obtener el filtro a partir de las frecuecnias de corte y el orden obtenido con la función anterior."
   ]
  },
  {
   "cell_type": "markdown",
   "id": "b6c5598b",
   "metadata": {
    "editable": true,
    "slideshow": {
     "slide_type": "slide"
    }
   },
   "source": [
    "El mismo par de funciones anteriores se puede encontrar para los otros tipos de filtros: Cauer, Chebyshev I y II, y Bessel.\n",
    "\n",
    "Otras dos funciones útiles par el diseño de filtros pueden ser:\n",
    "\n",
    "- `scipy.signal.iirdesign`\n",
    "- `scipy.signal.iirfilter`\n",
    "\n",
    "Todas estas funciones están pensadas para obtener la función transferencia de un filtro, pero se utilizan de manera diferente. Siempre es conveniente chuequear la documentación de `scipy.signal` al respecto."
   ]
  },
  {
   "cell_type": "markdown",
   "id": "8171db20",
   "metadata": {
    "editable": true,
    "slideshow": {
     "slide_type": "slide"
    }
   },
   "source": [
    "### Ejemplo\n",
    "\n",
    "Supongamos que queremos realizar un filtro pasa-banda con frecuencias de corte 100 y 500 rad/seg, con ganancia 1 en la banda de paso y una atenuación 20 para ganancias menores a 10 rad/seg y mayores 2500 rad/seg.\n",
    "\n",
    "Para estudiar este filtro voy a utilizar el paquete de control instalado con las herramientas dadas."
   ]
  },
  {
   "cell_type": "code",
   "execution_count": 6,
   "id": "db51d051",
   "metadata": {
    "editable": true,
    "slideshow": {
     "slide_type": "slide"
    }
   },
   "outputs": [],
   "source": [
    "from control import tf, bode, forced_response\n",
    "from scipy.signal import iirdesign, iirfilter\n",
    "import numpy as np\n",
    "import matplotlib.pyplot as plt\n",
    "\n",
    "b,a= iirdesign([100, 500], [10, 2500], 3, 26, True, 'butter', 'ba')"
   ]
  },
  {
   "cell_type": "markdown",
   "id": "e4f9d3e1",
   "metadata": {},
   "source": [
    "Los argumentos de la función anterior, en el orden en que aparecen son: la banda de paso, la banda de rechazo, la atenuación máxima en la banda de paso, la atenuación mínima en la banda de rechazo, si se trata de un filtro analógico, tipo de filtro y por último el formato en que `scipy` devuelve la función transferencia del filtro. Con este último argumento lo que devuelve son los coeficientes de los polinomios del numerador y denominador.  \n",
    "\n",
    "Estos valores son los que usa la función `tf` del paquete de control de Python para generar funciones transferencia. Definamos entonces la función trnasferencia del filtro con el paquete de Python."
   ]
  },
  {
   "cell_type": "code",
   "execution_count": 7,
   "id": "7c6bb18e",
   "metadata": {
    "editable": true,
    "slideshow": {
     "slide_type": "slide"
    }
   },
   "outputs": [
    {
     "data": {
      "text/latex": [
       "$$\\frac{1.604 \\times 10^{5} s^2}{s^4 + 566.4 s^3 + 2.604 \\times 10^{5} s^2 + 2.832 \\times 10^{7} s + 2.5 \\times 10^{9}}$$"
      ],
      "text/plain": [
       "TransferFunction(array([160380.36688122,      0.        ,      0.        ]), array([1.00000000e+00, 5.66357426e+02, 2.60380367e+05, 2.83178713e+07,\n",
       "       2.50000000e+09]))"
      ]
     },
     "execution_count": 7,
     "metadata": {},
     "output_type": "execute_result"
    }
   ],
   "source": [
    "G=tf(b,a)\n",
    "G"
   ]
  },
  {
   "cell_type": "markdown",
   "id": "c8217ce8",
   "metadata": {},
   "source": [
    "Recordando que la trnasformada de Fourier es lo mismo que la transformada de Laplace con la parte real igualada a 0.  Es decir, si $s =\\sigma\\pm j\\omega$, si hacemos $\\sigma = 0$ la trnasformada de Laplace y de Fourier resultan iguales.\n",
    "\n",
    "Por lo tanto, podemos estudiar de alguna manera, el comportamiento en frecuencia del sistema haciendo $\\sigma = 0$ en la función trnasferencia del filtro. Para esto primero definimos un vector de frecuencias entre 1 y 10000 espaciados logaritmicamente."
   ]
  },
  {
   "cell_type": "code",
   "execution_count": 8,
   "id": "a667e48f",
   "metadata": {},
   "outputs": [],
   "source": [
    "w = np.logspace(0, 4, 1001)"
   ]
  },
  {
   "cell_type": "markdown",
   "id": "af7170ab",
   "metadata": {},
   "source": [
    "Para estudiar el comportamiento del sistema en frecuencia evaluaremos en cada  unos de los valores en `w` el modulo de la función transferencia. Esto se hace de la siguiente manera:"
   ]
  },
  {
   "cell_type": "code",
   "execution_count": 9,
   "id": "a82a58ed",
   "metadata": {},
   "outputs": [],
   "source": [
    "m=np.abs(G(1j*w))"
   ]
  },
  {
   "cell_type": "code",
   "execution_count": 10,
   "id": "62b8c2f5",
   "metadata": {},
   "outputs": [
    {
     "data": {
      "text/plain": [
       "(1001,)"
      ]
     },
     "execution_count": 10,
     "metadata": {},
     "output_type": "execute_result"
    }
   ],
   "source": [
    "w.shape"
   ]
  },
  {
   "cell_type": "code",
   "execution_count": 11,
   "id": "a12621ae",
   "metadata": {},
   "outputs": [
    {
     "data": {
      "image/png": "[encoded data removed]",
      "text/plain": [
       "<Figure size 600x300 with 1 Axes>"
      ]
     },
     "metadata": {},
     "output_type": "display_data"
    }
   ],
   "source": [
    "f, ax = plt.subplots(1,1, figsize=(6,3))\n",
    "ax.semilogx(w, m)\n",
    "ax.grid()"
   ]
  },
  {
   "cell_type": "markdown",
   "id": "103cc3be",
   "metadata": {},
   "source": [
    "Si queremos graficarlo centrado deberemos respetar una simetría logarítmica. Poniedo en el centro de la figura en el centro de la banda de paso y los limites de la figura equidistantes al centro de la banda de paso en escala logaritmica la figura quedará mejor presentada. Esto lo podemos hacer la sigueinte manera:"
   ]
  },
  {
   "cell_type": "code",
   "execution_count": 12,
   "id": "aba5b2bc",
   "metadata": {},
   "outputs": [],
   "source": [
    "wc = np.sqrt(100*500) # centro de la banda de paso\n",
    "ul = wc*40\n",
    "ll = wc/40"
   ]
  },
  {
   "cell_type": "code",
   "execution_count": 13,
   "id": "53f85131",
   "metadata": {},
   "outputs": [
    {
     "data": {
      "image/png": "[encoded data removed]",
      "text/plain": [
       "<Figure size 600x300 with 1 Axes>"
      ]
     },
     "metadata": {},
     "output_type": "display_data"
    }
   ],
   "source": [
    "f, ax = plt.subplots(1,1, figsize=(6,3))\n",
    "ax.semilogx(w, m)\n",
    "ax.set_xlim([ll, ul])\n",
    "ax.set_ylabel(r'|G(j$\\omega$)|')\n",
    "ax.set_xlabel(r'j$\\omega$)[rad/seg]')\n",
    "ax.grid();"
   ]
  },
  {
   "cell_type": "markdown",
   "id": "b399d3c8",
   "metadata": {},
   "source": [
    "Esta grafica nos da la información de la **respuesta en frecuencia del filtro enestado estacionario**. Esto quiere decir que nos data el valor de ganancia del sistema en estado estacionario a señales seniodales para cada una de las frecuencias $\\omega$.\n",
    "\n",
    "Podríamos hacer una grafica de la fase, de de en vez de módulo. Para eso tedremos que hacer:"
   ]
  },
  {
   "cell_type": "code",
   "execution_count": 14,
   "id": "bac8706d",
   "metadata": {},
   "outputs": [
    {
     "data": {
      "application/vnd.jupyter.widget-view+json": {
       "model_id": "f59630d375dd405f98f68b4ff6c02277",
       "version_major": 2,
       "version_minor": 0
      },
      "image/png": "[encoded data removed]",
      "text/html": [
       "\n",
       "            <div style=\"display: inline-block;\">\n",
       "                <div class=\"jupyter-widgets widget-label\" style=\"text-align: center;\">\n",
       "                    Figure\n",
       "                </div>\n",
       "                <img src='data:image/png;base64,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' width=600.0/>\n",
       "            </div>\n",
       "        "
      ],
      "text/plain": [
       "Canvas(toolbar=Toolbar(toolitems=[('Home', 'Reset original view', 'home', 'home'), ('Back', 'Back to previous …"
      ]
     },
     "metadata": {},
     "output_type": "display_data"
    }
   ],
   "source": [
    "%matplotlib widget\n",
    "ang=np.angle(G(1j*w), deg=True)\n",
    "f, ax = plt.subplots(1,1, figsize=(6,3))\n",
    "ax.semilogx(w, ang)\n",
    "ax.set_xlim([ll, ul])\n",
    "ax.set_ylabel(r'$\\angle G(j\\omega)$')\n",
    "ax.set_xlabel(r'j$\\omega$)[rad/seg]')\n",
    "ax.grid();"
   ]
  },
  {
   "cell_type": "markdown",
   "id": "5cb1f583",
   "metadata": {},
   "source": [
    "Lo que indica está figura es el desfasaje entre la salida y la entrada en estado estacionario para entradas senoidales de cada una de las frecuencias."
   ]
  },
  {
   "cell_type": "markdown",
   "id": "7591bb66",
   "metadata": {},
   "source": [
    "Uniendo las dos figuras, pdríamos decir que, por ejemplo, para una señal senoidal de 100 rad/seg y amplitud 1, tedremos como salida una señal senoidal de 100 rad/seg, amplitud 0.7 aproximadamente y un desfasaje con la entrada de unos 90 grados aproximadamente. Para verificarlo podemos **simular** el filtro."
   ]
  },
  {
   "cell_type": "code",
   "execution_count": 15,
   "id": "7220b0d0",
   "metadata": {},
   "outputs": [],
   "source": [
    "# Genero la señal de entrada\n",
    "ws = 100\n",
    "tf= 10\n",
    "t=np.linspace(0, tf, 20001)\n",
    "u=np.sin(ws*t)"
   ]
  },
  {
   "cell_type": "markdown",
   "id": "5a93bc31",
   "metadata": {},
   "source": [
    "Para simular sistemas representados como funciones transferencias en el paquete de control frene a cualquier entrada, podemos usar la función `forced_response`."
   ]
  },
  {
   "cell_type": "code",
   "execution_count": 16,
   "id": "c9c9b084",
   "metadata": {},
   "outputs": [],
   "source": [
    "y=forced_response(G,t,u)"
   ]
  },
  {
   "cell_type": "code",
   "execution_count": 17,
   "id": "d81daf80",
   "metadata": {},
   "outputs": [
    {
     "data": {
      "text/plain": [
       "[<matplotlib.lines.Line2D at 0x7f571951c1d0>]"
      ]
     },
     "execution_count": 17,
     "metadata": {},
     "output_type": "execute_result"
    },
    {
     "data": {
      "application/vnd.jupyter.widget-view+json": {
       "model_id": "ee728ab53d5c45b597aee8472dcb5ea6",
       "version_major": 2,
       "version_minor": 0
      },
      "image/png": "[encoded data removed]",
      "text/html": [
       "\n",
       "            <div style=\"display: inline-block;\">\n",
       "                <div class=\"jupyter-widgets widget-label\" style=\"text-align: center;\">\n",
       "                    Figure\n",
       "                </div>\n",
       "                <img src='data:image/png;base64,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' width=600.0/>\n",
       "            </div>\n",
       "        "
      ],
      "text/plain": [
       "Canvas(toolbar=Toolbar(toolitems=[('Home', 'Reset original view', 'home', 'home'), ('Back', 'Back to previous …"
      ]
     },
     "metadata": {},
     "output_type": "display_data"
    }
   ],
   "source": [
    "f, ax = plt.subplots(1,1, figsize=(6,3))\n",
    "ax.plot(t, u, 'r')\n",
    "ax.plot(t, y.y[0], 'b')"
   ]
  },
  {
   "cell_type": "markdown",
   "id": "89289e5e",
   "metadata": {},
   "source": [
    "Para verificar las conclusiones veremos el final de la onda (estado estacionario) y compararemos la señal de entrada $u$ en rojo con la salida $y$ en azul."
   ]
  },
  {
   "cell_type": "code",
   "execution_count": 18,
   "id": "bec3c131",
   "metadata": {},
   "outputs": [
    {
     "data": {
      "application/vnd.jupyter.widget-view+json": {
       "model_id": "f69c394a902749d3b066054703dfe0b4",
       "version_major": 2,
       "version_minor": 0
      },
      "image/png": "[encoded data removed]",
      "text/html": [
       "\n",
       "            <div style=\"display: inline-block;\">\n",
       "                <div class=\"jupyter-widgets widget-label\" style=\"text-align: center;\">\n",
       "                    Figure\n",
       "                </div>\n",
       "                <img src='data:image/png;base64,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' width=600.0/>\n",
       "            </div>\n",
       "        "
      ],
      "text/plain": [
       "Canvas(toolbar=Toolbar(toolitems=[('Home', 'Reset original view', 'home', 'home'), ('Back', 'Back to previous …"
      ]
     },
     "metadata": {},
     "output_type": "display_data"
    }
   ],
   "source": [
    "%matplotlib widget\n",
    "f, ax = plt.subplots(1,1, figsize=(6,3))\n",
    "ax.plot(t[-500:], u[-500:], 'r')\n",
    "ax.plot(t[-500:], y.y[0,-500:], 'b')\n",
    "ax.grid()"
   ]
  },
  {
   "cell_type": "markdown",
   "id": "6d65ecf9",
   "metadata": {},
   "source": [
    "Haciendo zoom en las zonas de interes, podemos que que la amplitud máxima de la azul es aproximadanete 0.71, lo cual confirma dos cosas:\n",
    "\n",
    "- el diseño del filtro es correcto, ya que 100 rad/seg es la frecuencia de corte y 0.707 significa -3dB.\n",
    "- que el diagrama de amplitud que hicimos nos dio el valor de la ganancia del filtro a esa frecuencia\n",
    "\n",
    "Para ver el desfasaje, veamos el diferencia de tiempos del curce por cero de las dos ondas cuando suben. Haciendo zoom y una regla de tres simple, obtenemos el desfasaje:"
   ]
  },
  {
   "cell_type": "code",
   "execution_count": 19,
   "id": "2dd4adbb",
   "metadata": {},
   "outputs": [
    {
     "data": {
      "text/plain": [
       "89.95437383554334"
      ]
     },
     "execution_count": 19,
     "metadata": {},
     "output_type": "execute_result"
    }
   ],
   "source": [
    "tazul = 9.786\n",
    "trojo= 9.8017\n",
    "(trojo-tazul)/(2*np.pi/100)*360  #(diferencia de tiempos/(periodo de la onda)*360 da el desfasaje en grados)"
   ]
  },
  {
   "cell_type": "markdown",
   "id": "3313c912",
   "metadata": {},
   "source": [
    "Se dice que el el desfasaje es 90 grados positivo. Es decir que la salida adelante a la entada en 90 gados para la freuencia 100 rad/seg."
   ]
  },
  {
   "cell_type": "markdown",
   "id": "b8bcf9b0",
   "metadata": {},
   "source": [
    "##  Teorema de la convolución"
   ]
  },
  {
   "cell_type": "markdown",
   "id": "1a817e5f",
   "metadata": {},
   "source": [
    "En la primera parte del temario de filtros vimos una herramienta de modelado de sistemas dinámicos: *la función transferencia*. Vimos que la función transferencia la podemos pensar de dos formas:\n",
    "\n",
    "- La transformada de Laplace de la salida del sistema sobre la transformada de Laplace de la entrada del sistema.\n",
    "- La transformada de Laplace de la respuesta al impulso del sistema.\n",
    "\n",
    "Sin embargo, hemos dejado pasar una propiedad de la transformada de Laplace muy importante, que es la convolución. Está propiedad nos dice que la multiplicación de dos funciones en el dominio transformado de Laplace es la convolución en el dominio sin transformar. Es decir:\n",
    "\n",
    "$$G_1(s).G_2(s)=g_1(t) * g_2(t)=\\int_0^t g(\\tau)h_1(t-\\tau)\\text d\\tau$$\n",
    "\n",
    "Está propiedad es impratante para el cáculo de las repuestas temporales de los sistemas."
   ]
  },
  {
   "cell_type": "markdown",
   "id": "9c4c8df1",
   "metadata": {},
   "source": [
    "### Cálculo de la respuesta temporal de un sistema\n",
    "\n",
    "Recordando lo visto en la clase anterior podemos notar que la salida del sistema en el dominio de Laplace lo podemos calcular como:\n",
    "\n",
    "$$Y(s)=H(s)U(s)$$\n",
    "\n",
    "donde $H(s)$ es la función transferencia, $U(s)$ es la transformada de Laplace de la entrada y $Y(s)$ es la transformada de Laplace de la salida.\n",
    "\n",
    "Utilizando la propiedad de convolución se puede ver muy facilmente que:\n",
    "\n",
    "$$y(t) = h(t)*u(t)=\\int_0^th(\\tau)u(t-\\tau)\\text d \\tau$$\n",
    "\n",
    "La salida de un sistema lineal e invariente en el tiempo se puede calcular como la convolución de la respuesta al impulso y la entrada aplicada.\n",
    "\n",
    "De esta manera podemos que el la respuesta al impulso también caraceriza la sistema, es decir, que conociendo la respuesta al impulso podemos obtener la respuesta a cualquier entrada arbitraría."
   ]
  },
  {
   "cell_type": "markdown",
   "id": "a8451b85",
   "metadata": {},
   "source": [
    "## Ejemplo respuesta al impulso del sistema masa resorte\n",
    "\n",
    "Volvamos al sistema masa resorte anterior. Recordemos que la función transferencia es:\n",
    "\n",
    "$$X_{\\delta}(s)=\\frac{1}{ms^2+bs+k}$$\n",
    "\n",
    "Para poder antitransformarla facilmente, lo que se suele hacer es separar la función en fracciones simples. Para hacer estor debemos tener en cuenta la posición de los polos (ceros del denominador) del sistema. Podemos separar el problema en dos casos:"
   ]
  },
  {
   "cell_type": "markdown",
   "id": "ac9482a8",
   "metadata": {},
   "source": [
    "1. Si el sistema tiene polos complejos conjugados, entonces las freacciones simples se pueden escribir como:\n",
    "\n",
    "$$H(s)=\\frac{As+B}{(s-(-\\sigma+j\\omega))(s-(-\\sigma-j\\omega))}$$\n",
    "\n",
    "2.  El caso de se tengan polos reales simples:\n",
    "\n",
    "$$H(s)=\\frac{A}{s-p_1}+\\frac{B}{s-p_2}$$"
   ]
  },
  {
   "cell_type": "markdown",
   "id": "239cd235",
   "metadata": {},
   "source": [
    "Luego aplicando superposición podemos resovler los dos términos de la respuesta la transformada de la respuesta al impulso mediante la suma de las transformadas de cada una de las fracciones simples.\n",
    "\n",
    "```{note}\n",
    "Todas las funciones transferencias de sistemas físicos tienen el orden del denominado mayor o igual que el del denominador, por lo tanto todos son factibles de aplicar fracciones, y encontrar de esta manera su antitransformada o respuesta al impulso \n",
    "```"
   ]
  },
  {
   "cell_type": "markdown",
   "id": "31d072b4",
   "metadata": {},
   "source": [
    "Volvamos al caso de una masa y un resorte, y obtengamos la antitrasformada para una combinación de valores de $m$, $b$ y $k$ en que sean complejos cojugados y otro para el caso en que sean reales simples.\n",
    "\n",
    "Supondremos que saben aplicar fracciones simples y utilizar las tablas (son problemas matemáticos que no son cubiertos en este curso), lo haremos mediante el paquete de simbólico de Python `sympy`."
   ]
  },
  {
   "cell_type": "markdown",
   "id": "ecc03a2e",
   "metadata": {},
   "source": [
    "### Caso 1: Polos complejos conjugados\n",
    "\n",
    "Supongamos que $m=1$, $b=0.24$ y $k=5$. Entonces los polos resultan:"
   ]
  },
  {
   "cell_type": "code",
   "execution_count": 20,
   "id": "dc830fa6",
   "metadata": {},
   "outputs": [
    {
     "data": {
      "text/plain": [
       "array([-0.1+0.7j, -0.1-0.7j])"
      ]
     },
     "execution_count": 20,
     "metadata": {},
     "output_type": "execute_result"
    }
   ],
   "source": [
    "import numpy as np\n",
    "m=1\n",
    "b=0.2\n",
    "k=0.5\n",
    "\n",
    "np.roots([m,b,k]) "
   ]
  },
  {
   "cell_type": "markdown",
   "id": "bd2f56e2",
   "metadata": {},
   "source": [
    "Supongamos que queremos la respuesta al escalón del sistema. Para resolver la respusta temporal debemos hacer la antitransformada de la función transferencia por la transformada de la función escalón que es $\\dfrac{1}{s}$. Para no hacer las cuentas a mano utilizaré `sympy`."
   ]
  },
  {
   "cell_type": "code",
   "execution_count": 21,
   "id": "7fc60fb8",
   "metadata": {},
   "outputs": [],
   "source": [
    "import sympy as sp\n",
    "s, t=sp.symbols('s, t') # defino las variables s y t"
   ]
  },
  {
   "cell_type": "code",
   "execution_count": 22,
   "id": "c3472c11",
   "metadata": {},
   "outputs": [
    {
     "data": {
      "text/latex": [
       "$\\displaystyle - \\frac{2.0 \\cdot \\left(1.0 s + 0.2\\right)}{1.0 s^{2} + 0.2 s + 0.5} + \\frac{2.0}{s}$"
      ],
      "text/plain": [
       "-2.0*(1.0*s + 0.2)/(1.0*s**2 + 0.2*s + 0.5) + 2.0/s"
      ]
     },
     "execution_count": 22,
     "metadata": {},
     "output_type": "execute_result"
    }
   ],
   "source": [
    "H = 1/(m*s**2+b*s+k)*(1/s)\n",
    "\n",
    "sp.apart(H, s)"
   ]
  },
  {
   "cell_type": "code",
   "execution_count": 23,
   "id": "788150e8",
   "metadata": {},
   "outputs": [
    {
     "data": {
      "text/latex": [
       "$\\displaystyle \\left(- 0.285714285714286 e^{- 0.1 t} \\sin{\\left(0.7 t \\right)} - 2.0 e^{- 0.1 t} \\cos{\\left(0.7 t \\right)}\\right) \\theta\\left(t\\right) + 2.0 \\theta\\left(t\\right)$"
      ],
      "text/plain": [
       "(-0.285714285714286*exp(-0.1*t)*sin(0.7*t) - 2.0*exp(-0.1*t)*cos(0.7*t))*Heaviside(t) + 2.0*Heaviside(t)"
      ]
     },
     "execution_count": 23,
     "metadata": {},
     "output_type": "execute_result"
    }
   ],
   "source": [
    "rt = sp.inverse_laplace_transform(H, s, t)\n",
    "rt"
   ]
  },
  {
   "cell_type": "markdown",
   "id": "bf6405e5",
   "metadata": {},
   "source": [
    "Se puede ver que está señal no es más que una señal senoidal modulada por una exponencial. La podemos grafica con el módulo de `sympy` de la siguiente manera:"
   ]
  },
  {
   "cell_type": "code",
   "execution_count": 24,
   "id": "9a409edc",
   "metadata": {},
   "outputs": [
    {
     "data": {
      "application/vnd.jupyter.widget-view+json": {
       "model_id": "c005acfe0f454e138f42bb40cd396109",
       "version_major": 2,
       "version_minor": 0
      },
      "image/png": "[encoded data removed]",
      "text/html": [
       "\n",
       "            <div style=\"display: inline-block;\">\n",
       "                <div class=\"jupyter-widgets widget-label\" style=\"text-align: center;\">\n",
       "                    Figure\n",
       "                </div>\n",
       "                <img src='data:image/png;base64,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' width=640.0/>\n",
       "            </div>\n",
       "        "
      ],
      "text/plain": [
       "Canvas(toolbar=Toolbar(toolitems=[('Home', 'Reset original view', 'home', 'home'), ('Back', 'Back to previous …"
      ]
     },
     "metadata": {},
     "output_type": "display_data"
    },
    {
     "data": {
      "text/plain": [
       "<sympy.plotting.plot.Plot at 0x7f56c08615b0>"
      ]
     },
     "execution_count": 24,
     "metadata": {},
     "output_type": "execute_result"
    }
   ],
   "source": [
    "sp.plot(rt, (t,-1,60))"
   ]
  },
  {
   "cell_type": "markdown",
   "id": "2bf51341",
   "metadata": {},
   "source": [
    "### para el caso en que los polos sean reales simples \n",
    "\n",
    "Hagamos que $b=2$"
   ]
  },
  {
   "cell_type": "code",
   "execution_count": 25,
   "id": "ecc35afa",
   "metadata": {},
   "outputs": [
    {
     "data": {
      "text/plain": [
       "array([-1.70710678, -0.29289322])"
      ]
     },
     "execution_count": 25,
     "metadata": {},
     "output_type": "execute_result"
    }
   ],
   "source": [
    "b2 = 2\n",
    "np.roots([m, b2, k])"
   ]
  },
  {
   "cell_type": "code",
   "execution_count": 26,
   "id": "895e9df3",
   "metadata": {},
   "outputs": [],
   "source": [
    "H2 = 1/(m*s*s+b2*s+k)*(1/s)"
   ]
  },
  {
   "cell_type": "markdown",
   "id": "634aed4a",
   "metadata": {},
   "source": [
    "Ahora la separación por facciones simples es:"
   ]
  },
  {
   "cell_type": "code",
   "execution_count": 27,
   "id": "94bf7c19",
   "metadata": {},
   "outputs": [
    {
     "data": {
      "text/latex": [
       "$\\displaystyle \\frac{0.414213562373096}{s + 1.70710678118655} - \\frac{2.4142135623731}{s + 0.292893218813452} + \\frac{2.0}{s}$"
      ],
      "text/plain": [
       "0.414213562373096/(s + 1.70710678118655) - 2.4142135623731/(s + 0.292893218813452) + 2.0/s"
      ]
     },
     "execution_count": 27,
     "metadata": {},
     "output_type": "execute_result"
    }
   ],
   "source": [
    "H2a = sp.apart(H2, s, full=True).doit()\n",
    "H2a"
   ]
  },
  {
   "cell_type": "markdown",
   "id": "a401e9dd",
   "metadata": {},
   "source": [
    "Hagamos la antitranformada de H2"
   ]
  },
  {
   "cell_type": "code",
   "execution_count": 28,
   "id": "f6e0d6a8",
   "metadata": {},
   "outputs": [
    {
     "data": {
      "text/latex": [
       "$\\displaystyle 2.0 \\theta\\left(t\\right) + 0.414213562373096 e^{- 1.70710678118655 t} \\theta\\left(t\\right) - 2.4142135623731 e^{- 0.292893218813452 t} \\theta\\left(t\\right)$"
      ],
      "text/plain": [
       "2.0*Heaviside(t) + 0.414213562373096*exp(-1.70710678118655*t)*Heaviside(t) - 2.4142135623731*exp(-0.292893218813452*t)*Heaviside(t)"
      ]
     },
     "execution_count": 28,
     "metadata": {},
     "output_type": "execute_result"
    }
   ],
   "source": [
    "rta = sp.inverse_laplace_transform(H2a, s, t)\n",
    "rta"
   ]
  },
  {
   "cell_type": "markdown",
   "id": "8254b6a6",
   "metadata": {},
   "source": [
    "Podemos ver que aunque `sympy` resuelve correctamente la antitrasformadas, a veces es conveniete procesar la funciones para que el cálculo simbólico sea más simple, como por ejemplo es realizar la separación por fracciones simples.\n",
    "\n",
    "Graficamos la respuesta igual que antes"
   ]
  },
  {
   "cell_type": "code",
   "execution_count": 29,
   "id": "a676ab3a",
   "metadata": {},
   "outputs": [
    {
     "data": {
      "application/vnd.jupyter.widget-view+json": {
       "model_id": "440ce77b9595425aae3e9a19b0af343f",
       "version_major": 2,
       "version_minor": 0
      },
      "image/png": "[encoded data removed]",
      "text/html": [
       "\n",
       "            <div style=\"display: inline-block;\">\n",
       "                <div class=\"jupyter-widgets widget-label\" style=\"text-align: center;\">\n",
       "                    Figure\n",
       "                </div>\n",
       "                <img src='data:image/png;base64,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' width=640.0/>\n",
       "            </div>\n",
       "        "
      ],
      "text/plain": [
       "Canvas(toolbar=Toolbar(toolitems=[('Home', 'Reset original view', 'home', 'home'), ('Back', 'Back to previous …"
      ]
     },
     "metadata": {},
     "output_type": "display_data"
    },
    {
     "data": {
      "text/plain": [
       "<sympy.plotting.plot.Plot at 0x7f56c02a78c0>"
      ]
     },
     "execution_count": 29,
     "metadata": {},
     "output_type": "execute_result"
    }
   ],
   "source": [
    "sp.plot(rta, (t,-1,60))"
   ]
  },
  {
   "cell_type": "code",
   "execution_count": null,
   "id": "d24de1e4",
   "metadata": {},
   "outputs": [],
   "source": []
  }
 ],
 "metadata": {
  "jupytext": {
   "formats": "ipynb,md:myst",
   "text_representation": {
    "extension": ".md",
    "format_name": "myst",
    "format_version": 0.13,
    "jupytext_version": "1.16.1"
   }
  },
  "kernelspec": {
   "display_name": "Python 3 (ipykernel)",
   "language": "python",
   "name": "python3"
  },
  "language_info": {
   "codemirror_mode": {
    "name": "ipython",
    "version": 3
   },
   "file_extension": ".py",
   "mimetype": "text/x-python",
   "name": "python",
   "nbconvert_exporter": "python",
   "pygments_lexer": "ipython3",
   "version": "3.12.3"
  },
  "source_map": [
   15,
   19,
   36,
   40,
   45,
   51,
   57,
   65,
   69,
   73,
   77,
   85,
   91,
   99,
   107,
   113,
   119,
   125,
   131,
   137,
   143,
   147,
   151,
   157,
   169,
   174,
   178,
   182,
   186,
   190,
   194,
   200,
   204,
   211,
   215,
   219,
   223,
   227,
   231,
   235,
   239,
   243,
   258,
   270,
   274,
   284,
   298,
   302,
   311,
   318,
   324,
   341,
   345,
   355,
   365,
   373,
   377,
   381,
   389,
   398,
   409,
   420,
   428,
   440,
   446,
   454,
   460,
   462,
   466,
   470,
   474,
   478,
   482,
   488,
   495,
   501,
   510,
   514,
   518,
   524,
   528,
   532,
   536,
   540,
   546,
   555,
   559,
   563,
   567,
   580,
   598,
   608,
   618,
   626,
   632,
   638,
   645,
   649,
   654,
   660,
   663,
   667,
   669,
   675,
   680,
   682,
   686,
   689,
   693,
   696,
   702,
   706
  ],
  "widgets": {
   "application/vnd.jupyter.widget-state+json": {
    "state": {
     "128c3eee714341d9b783dc6eb2bf8f74": {
      "model_module": "jupyter-matplotlib",
      "model_module_version": "^0.11",
      "model_name": "ToolbarModel",
      "state": {
       "_current_action": "",
       "_dom_classes": [],
       "_model_module": "jupyter-matplotlib",
       "_model_module_version": "^0.11",
       "_model_name": "ToolbarModel",
       "_view_count": null,
       "_view_module": "jupyter-matplotlib",
       "_view_module_version": "^0.11",
       "_view_name": "ToolbarView",
       "button_style": "",
       "collapsed": true,
       "layout": "IPY_MODEL_90d03ebd78724918abcc48376d0e6345",
       "orientation": "vertical",
       "tabbable": null,
       "toolitems": [
        [
         "Home",
         "Reset original view",
         "home",
         "home"
        ],
        [
         "Back",
         "Back to previous view",
         "arrow-left",
         "back"
        ],
        [
         "Forward",
         "Forward to next view",
         "arrow-right",
         "forward"
        ],
        [
         "Pan",
         "Left button pans, Right button zooms\nx/y fixes axis, CTRL fixes aspect",
         "arrows",
         "pan"
        ],
        [
         "Zoom",
         "Zoom to rectangle\nx/y fixes axis",
         "square-o",
         "zoom"
        ],
        [
         "Download",
         "Download plot",
         "floppy-o",
         "save_figure"
        ]
       ],
       "tooltip": null
      }
     },
     "14f1394054fe4c368e654873756b08d5": {
      "model_module": "@jupyter-widgets/base",
      "model_module_version": "2.0.0",
      "model_name": "LayoutModel",
      "state": {
       "_model_module": "@jupyter-widgets/base",
       "_model_module_version": "2.0.0",
       "_model_name": "LayoutModel",
       "_view_count": null,
       "_view_module": "@jupyter-widgets/base",
       "_view_module_version": "2.0.0",
       "_view_name": "LayoutView",
       "align_content": null,
       "align_items": null,
       "align_self": null,
       "border_bottom": null,
       "border_left": null,
       "border_right": null,
       "border_top": null,
       "bottom": null,
       "display": null,
       "flex": null,
       "flex_flow": null,
       "grid_area": null,
       "grid_auto_columns": null,
       "grid_auto_flow": null,
       "grid_auto_rows": null,
       "grid_column": null,
       "grid_gap": null,
       "grid_row": null,
       "grid_template_areas": null,
       "grid_template_columns": null,
       "grid_template_rows": null,
       "height": null,
       "justify_content": null,
       "justify_items": null,
       "left": null,
       "margin": null,
       "max_height": null,
       "max_width": null,
       "min_height": null,
       "min_width": null,
       "object_fit": null,
       "object_position": null,
       "order": null,
       "overflow": null,
       "padding": null,
       "right": null,
       "top": null,
       "visibility": null,
       "width": null
      }
     },
     "2b411bc732cc4704b6e1279181b76494": {
      "model_module": "@jupyter-widgets/base",
      "model_module_version": "2.0.0",
      "model_name": "LayoutModel",
      "state": {
       "_model_module": "@jupyter-widgets/base",
       "_model_module_version": "2.0.0",
       "_model_name": "LayoutModel",
       "_view_count": null,
       "_view_module": "@jupyter-widgets/base",
       "_view_module_version": "2.0.0",
       "_view_name": "LayoutView",
       "align_content": null,
       "align_items": null,
       "align_self": null,
       "border_bottom": null,
       "border_left": null,
       "border_right": null,
       "border_top": null,
       "bottom": null,
       "display": null,
       "flex": null,
       "flex_flow": null,
       "grid_area": null,
       "grid_auto_columns": null,
       "grid_auto_flow": null,
       "grid_auto_rows": null,
       "grid_column": null,
       "grid_gap": null,
       "grid_row": null,
       "grid_template_areas": null,
       "grid_template_columns": null,
       "grid_template_rows": null,
       "height": null,
       "justify_content": null,
       "justify_items": null,
       "left": null,
       "margin": null,
       "max_height": null,
       "max_width": null,
       "min_height": null,
       "min_width": null,
       "object_fit": null,
       "object_position": null,
       "order": null,
       "overflow": null,
       "padding": null,
       "right": null,
       "top": null,
       "visibility": null,
       "width": null
      }
     },
     "3c3562a5c794486db5c53f764f95b62f": {
      "model_module": "jupyter-matplotlib",
      "model_module_version": "^0.11",
      "model_name": "ToolbarModel",
      "state": {
       "_current_action": "",
       "_dom_classes": [],
       "_model_module": "jupyter-matplotlib",
       "_model_module_version": "^0.11",
       "_model_name": "ToolbarModel",
       "_view_count": null,
       "_view_module": "jupyter-matplotlib",
       "_view_module_version": "^0.11",
       "_view_name": "ToolbarView",
       "button_style": "",
       "collapsed": true,
       "layout": "IPY_MODEL_70d86d8cf0514e24bd0b2eb28d1d473e",
       "orientation": "vertical",
       "tabbable": null,
       "toolitems": [
        [
         "Home",
         "Reset original view",
         "home",
         "home"
        ],
        [
         "Back",
         "Back to previous view",
         "arrow-left",
         "back"
        ],
        [
         "Forward",
         "Forward to next view",
         "arrow-right",
         "forward"
        ],
        [
         "Pan",
         "Left button pans, Right button zooms\nx/y fixes axis, CTRL fixes aspect",
         "arrows",
         "pan"
        ],
        [
         "Zoom",
         "Zoom to rectangle\nx/y fixes axis",
         "square-o",
         "zoom"
        ],
        [
         "Download",
         "Download plot",
         "floppy-o",
         "save_figure"
        ]
       ],
       "tooltip": null
      }
     },
     "440ce77b9595425aae3e9a19b0af343f": {
      "model_module": "jupyter-matplotlib",
      "model_module_version": "^0.11",
      "model_name": "MPLCanvasModel",
      "state": {
       "_cursor": "pointer",
       "_data_url": "data:image/png;base64,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",
       "_dom_classes": [],
       "_figure_label": "Figure",
       "_image_mode": "full",
       "_message": "",
       "_model_module": "jupyter-matplotlib",
       "_model_module_version": "^0.11",
       "_model_name": "MPLCanvasModel",
       "_rubberband_height": 0,
       "_rubberband_width": 0,
       "_rubberband_x": 0,
       "_rubberband_y": 0,
       "_size": [
        640.0,
        480.0
       ],
       "_view_count": null,
       "_view_module": "jupyter-matplotlib",
       "_view_module_version": "^0.11",
       "_view_name": "MPLCanvasView",
       "capture_scroll": false,
       "footer_visible": true,
       "header_visible": true,
       "layout": "IPY_MODEL_cd02300ef1684c88a512a70a1ef384e2",
       "pan_zoom_throttle": 33.0,
       "resizable": true,
       "tabbable": null,
       "toolbar": "IPY_MODEL_3c3562a5c794486db5c53f764f95b62f",
       "toolbar_position": "left",
       "toolbar_visible": "fade-in-fade-out",
       "tooltip": null
      }
     },
     "49813d95df1a47048fa1f67a1a50d0d7": {
      "model_module": "@jupyter-widgets/base",
      "model_module_version": "2.0.0",
      "model_name": "LayoutModel",
      "state": {
       "_model_module": "@jupyter-widgets/base",
       "_model_module_version": "2.0.0",
       "_model_name": "LayoutModel",
       "_view_count": null,
       "_view_module": "@jupyter-widgets/base",
       "_view_module_version": "2.0.0",
       "_view_name": "LayoutView",
       "align_content": null,
       "align_items": null,
       "align_self": null,
       "border_bottom": null,
       "border_left": null,
       "border_right": null,
       "border_top": null,
       "bottom": null,
       "display": null,
       "flex": null,
       "flex_flow": null,
       "grid_area": null,
       "grid_auto_columns": null,
       "grid_auto_flow": null,
       "grid_auto_rows": null,
       "grid_column": null,
       "grid_gap": null,
       "grid_row": null,
       "grid_template_areas": null,
       "grid_template_columns": null,
       "grid_template_rows": null,
       "height": null,
       "justify_content": null,
       "justify_items": null,
       "left": null,
       "margin": null,
       "max_height": null,
       "max_width": null,
       "min_height": null,
       "min_width": null,
       "object_fit": null,
       "object_position": null,
       "order": null,
       "overflow": null,
       "padding": null,
       "right": null,
       "top": null,
       "visibility": null,
       "width": null
      }
     },
     "5e0d76a77bac49e7a020d16c4a6be59c": {
      "model_module": "@jupyter-widgets/base",
      "model_module_version": "2.0.0",
      "model_name": "LayoutModel",
      "state": {
       "_model_module": "@jupyter-widgets/base",
       "_model_module_version": "2.0.0",
       "_model_name": "LayoutModel",
       "_view_count": null,
       "_view_module": "@jupyter-widgets/base",
       "_view_module_version": "2.0.0",
       "_view_name": "LayoutView",
       "align_content": null,
       "align_items": null,
       "align_self": null,
       "border_bottom": null,
       "border_left": null,
       "border_right": null,
       "border_top": null,
       "bottom": null,
       "display": null,
       "flex": null,
       "flex_flow": null,
       "grid_area": null,
       "grid_auto_columns": null,
       "grid_auto_flow": null,
       "grid_auto_rows": null,
       "grid_column": null,
       "grid_gap": null,
       "grid_row": null,
       "grid_template_areas": null,
       "grid_template_columns": null,
       "grid_template_rows": null,
       "height": null,
       "justify_content": null,
       "justify_items": null,
       "left": null,
       "margin": null,
       "max_height": null,
       "max_width": null,
       "min_height": null,
       "min_width": null,
       "object_fit": null,
       "object_position": null,
       "order": null,
       "overflow": null,
       "padding": null,
       "right": null,
       "top": null,
       "visibility": null,
       "width": null
      }
     },
     "664c42979ae040b8970e5769c356cafd": {
      "model_module": "jupyter-matplotlib",
      "model_module_version": "^0.11",
      "model_name": "ToolbarModel",
      "state": {
       "_current_action": "",
       "_dom_classes": [],
       "_model_module": "jupyter-matplotlib",
       "_model_module_version": "^0.11",
       "_model_name": "ToolbarModel",
       "_view_count": null,
       "_view_module": "jupyter-matplotlib",
       "_view_module_version": "^0.11",
       "_view_name": "ToolbarView",
       "button_style": "",
       "collapsed": true,
       "layout": "IPY_MODEL_2b411bc732cc4704b6e1279181b76494",
       "orientation": "vertical",
       "tabbable": null,
       "toolitems": [
        [
         "Home",
         "Reset original view",
         "home",
         "home"
        ],
        [
         "Back",
         "Back to previous view",
         "arrow-left",
         "back"
        ],
        [
         "Forward",
         "Forward to next view",
         "arrow-right",
         "forward"
        ],
        [
         "Pan",
         "Left button pans, Right button zooms\nx/y fixes axis, CTRL fixes aspect",
         "arrows",
         "pan"
        ],
        [
         "Zoom",
         "Zoom to rectangle\nx/y fixes axis",
         "square-o",
         "zoom"
        ],
        [
         "Download",
         "Download plot",
         "floppy-o",
         "save_figure"
        ]
       ],
       "tooltip": null
      }
     },
     "67ebab8ab01d47aca7d2eb328636d844": {
      "model_module": "jupyter-matplotlib",
      "model_module_version": "^0.11",
      "model_name": "ToolbarModel",
      "state": {
       "_current_action": "",
       "_dom_classes": [],
       "_model_module": "jupyter-matplotlib",
       "_model_module_version": "^0.11",
       "_model_name": "ToolbarModel",
       "_view_count": null,
       "_view_module": "jupyter-matplotlib",
       "_view_module_version": "^0.11",
       "_view_name": "ToolbarView",
       "button_style": "",
       "collapsed": true,
       "layout": "IPY_MODEL_14f1394054fe4c368e654873756b08d5",
       "orientation": "vertical",
       "tabbable": null,
       "toolitems": [
        [
         "Home",
         "Reset original view",
         "home",
         "home"
        ],
        [
         "Back",
         "Back to previous view",
         "arrow-left",
         "back"
        ],
        [
         "Forward",
         "Forward to next view",
         "arrow-right",
         "forward"
        ],
        [
         "Pan",
         "Left button pans, Right button zooms\nx/y fixes axis, CTRL fixes aspect",
         "arrows",
         "pan"
        ],
        [
         "Zoom",
         "Zoom to rectangle\nx/y fixes axis",
         "square-o",
         "zoom"
        ],
        [
         "Download",
         "Download plot",
         "floppy-o",
         "save_figure"
        ]
       ],
       "tooltip": null
      }
     },
     "70d86d8cf0514e24bd0b2eb28d1d473e": {
      "model_module": "@jupyter-widgets/base",
      "model_module_version": "2.0.0",
      "model_name": "LayoutModel",
      "state": {
       "_model_module": "@jupyter-widgets/base",
       "_model_module_version": "2.0.0",
       "_model_name": "LayoutModel",
       "_view_count": null,
       "_view_module": "@jupyter-widgets/base",
       "_view_module_version": "2.0.0",
       "_view_name": "LayoutView",
       "align_content": null,
       "align_items": null,
       "align_self": null,
       "border_bottom": null,
       "border_left": null,
       "border_right": null,
       "border_top": null,
       "bottom": null,
       "display": null,
       "flex": null,
       "flex_flow": null,
       "grid_area": null,
       "grid_auto_columns": null,
       "grid_auto_flow": null,
       "grid_auto_rows": null,
       "grid_column": null,
       "grid_gap": null,
       "grid_row": null,
       "grid_template_areas": null,
       "grid_template_columns": null,
       "grid_template_rows": null,
       "height": null,
       "justify_content": null,
       "justify_items": null,
       "left": null,
       "margin": null,
       "max_height": null,
       "max_width": null,
       "min_height": null,
       "min_width": null,
       "object_fit": null,
       "object_position": null,
       "order": null,
       "overflow": null,
       "padding": null,
       "right": null,
       "top": null,
       "visibility": null,
       "width": null
      }
     },
     "90d03ebd78724918abcc48376d0e6345": {
      "model_module": "@jupyter-widgets/base",
      "model_module_version": "2.0.0",
      "model_name": "LayoutModel",
      "state": {
       "_model_module": "@jupyter-widgets/base",
       "_model_module_version": "2.0.0",
       "_model_name": "LayoutModel",
       "_view_count": null,
       "_view_module": "@jupyter-widgets/base",
       "_view_module_version": "2.0.0",
       "_view_name": "LayoutView",
       "align_content": null,
       "align_items": null,
       "align_self": null,
       "border_bottom": null,
       "border_left": null,
       "border_right": null,
       "border_top": null,
       "bottom": null,
       "display": null,
       "flex": null,
       "flex_flow": null,
       "grid_area": null,
       "grid_auto_columns": null,
       "grid_auto_flow": null,
       "grid_auto_rows": null,
       "grid_column": null,
       "grid_gap": null,
       "grid_row": null,
       "grid_template_areas": null,
       "grid_template_columns": null,
       "grid_template_rows": null,
       "height": null,
       "justify_content": null,
       "justify_items": null,
       "left": null,
       "margin": null,
       "max_height": null,
       "max_width": null,
       "min_height": null,
       "min_width": null,
       "object_fit": null,
       "object_position": null,
       "order": null,
       "overflow": null,
       "padding": null,
       "right": null,
       "top": null,
       "visibility": null,
       "width": null
      }
     },
     "944b3edd25534ffbbd882285716cda01": {
      "model_module": "@jupyter-widgets/base",
      "model_module_version": "2.0.0",
      "model_name": "LayoutModel",
      "state": {
       "_model_module": "@jupyter-widgets/base",
       "_model_module_version": "2.0.0",
       "_model_name": "LayoutModel",
       "_view_count": null,
       "_view_module": "@jupyter-widgets/base",
       "_view_module_version": "2.0.0",
       "_view_name": "LayoutView",
       "align_content": null,
       "align_items": null,
       "align_self": null,
       "border_bottom": null,
       "border_left": null,
       "border_right": null,
       "border_top": null,
       "bottom": null,
       "display": null,
       "flex": null,
       "flex_flow": null,
       "grid_area": null,
       "grid_auto_columns": null,
       "grid_auto_flow": null,
       "grid_auto_rows": null,
       "grid_column": null,
       "grid_gap": null,
       "grid_row": null,
       "grid_template_areas": null,
       "grid_template_columns": null,
       "grid_template_rows": null,
       "height": null,
       "justify_content": null,
       "justify_items": null,
       "left": null,
       "margin": null,
       "max_height": null,
       "max_width": null,
       "min_height": null,
       "min_width": null,
       "object_fit": null,
       "object_position": null,
       "order": null,
       "overflow": null,
       "padding": null,
       "right": null,
       "top": null,
       "visibility": null,
       "width": null
      }
     },
     "a23c41dee6c64fcd8e5e5b6233412707": {
      "model_module": "@jupyter-widgets/base",
      "model_module_version": "2.0.0",
      "model_name": "LayoutModel",
      "state": {
       "_model_module": "@jupyter-widgets/base",
       "_model_module_version": "2.0.0",
       "_model_name": "LayoutModel",
       "_view_count": null,
       "_view_module": "@jupyter-widgets/base",
       "_view_module_version": "2.0.0",
       "_view_name": "LayoutView",
       "align_content": null,
       "align_items": null,
       "align_self": null,
       "border_bottom": null,
       "border_left": null,
       "border_right": null,
       "border_top": null,
       "bottom": null,
       "display": null,
       "flex": null,
       "flex_flow": null,
       "grid_area": null,
       "grid_auto_columns": null,
       "grid_auto_flow": null,
       "grid_auto_rows": null,
       "grid_column": null,
       "grid_gap": null,
       "grid_row": null,
       "grid_template_areas": null,
       "grid_template_columns": null,
       "grid_template_rows": null,
       "height": null,
       "justify_content": null,
       "justify_items": null,
       "left": null,
       "margin": null,
       "max_height": null,
       "max_width": null,
       "min_height": null,
       "min_width": null,
       "object_fit": null,
       "object_position": null,
       "order": null,
       "overflow": null,
       "padding": null,
       "right": null,
       "top": null,
       "visibility": null,
       "width": null
      }
     },
     "c005acfe0f454e138f42bb40cd396109": {
      "model_module": "jupyter-matplotlib",
      "model_module_version": "^0.11",
      "model_name": "MPLCanvasModel",
      "state": {
       "_cursor": "pointer",
       "_data_url": "data:image/png;base64,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",
       "_dom_classes": [],
       "_figure_label": "Figure",
       "_image_mode": "full",
       "_message": "",
       "_model_module": "jupyter-matplotlib",
       "_model_module_version": "^0.11",
       "_model_name": "MPLCanvasModel",
       "_rubberband_height": 0,
       "_rubberband_width": 0,
       "_rubberband_x": 0,
       "_rubberband_y": 0,
       "_size": [
        640.0,
        480.0
       ],
       "_view_count": null,
       "_view_module": "jupyter-matplotlib",
       "_view_module_version": "^0.11",
       "_view_name": "MPLCanvasView",
       "capture_scroll": false,
       "footer_visible": true,
       "header_visible": true,
       "layout": "IPY_MODEL_944b3edd25534ffbbd882285716cda01",
       "pan_zoom_throttle": 33.0,
       "resizable": true,
       "tabbable": null,
       "toolbar": "IPY_MODEL_f77f4948cbb147fb9c4a2a7f4b108272",
       "toolbar_position": "left",
       "toolbar_visible": "fade-in-fade-out",
       "tooltip": null
      }
     },
     "cd02300ef1684c88a512a70a1ef384e2": {
      "model_module": "@jupyter-widgets/base",
      "model_module_version": "2.0.0",
      "model_name": "LayoutModel",
      "state": {
       "_model_module": "@jupyter-widgets/base",
       "_model_module_version": "2.0.0",
       "_model_name": "LayoutModel",
       "_view_count": null,
       "_view_module": "@jupyter-widgets/base",
       "_view_module_version": "2.0.0",
       "_view_name": "LayoutView",
       "align_content": null,
       "align_items": null,
       "align_self": null,
       "border_bottom": null,
       "border_left": null,
       "border_right": null,
       "border_top": null,
       "bottom": null,
       "display": null,
       "flex": null,
       "flex_flow": null,
       "grid_area": null,
       "grid_auto_columns": null,
       "grid_auto_flow": null,
       "grid_auto_rows": null,
       "grid_column": null,
       "grid_gap": null,
       "grid_row": null,
       "grid_template_areas": null,
       "grid_template_columns": null,
       "grid_template_rows": null,
       "height": null,
       "justify_content": null,
       "justify_items": null,
       "left": null,
       "margin": null,
       "max_height": null,
       "max_width": null,
       "min_height": null,
       "min_width": null,
       "object_fit": null,
       "object_position": null,
       "order": null,
       "overflow": null,
       "padding": null,
       "right": null,
       "top": null,
       "visibility": null,
       "width": null
      }
     },
     "ee728ab53d5c45b597aee8472dcb5ea6": {
      "model_module": "jupyter-matplotlib",
      "model_module_version": "^0.11",
      "model_name": "MPLCanvasModel",
      "state": {
       "_cursor": "pointer",
       "_data_url": "data:image/png;base64,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",
       "_dom_classes": [],
       "_figure_label": "Figure",
       "_image_mode": "full",
       "_message": "",
       "_model_module": "jupyter-matplotlib",
       "_model_module_version": "^0.11",
       "_model_name": "MPLCanvasModel",
       "_rubberband_height": 0,
       "_rubberband_width": 0,
       "_rubberband_x": 0,
       "_rubberband_y": 0,
       "_size": [
        600.0,
        300.0
       ],
       "_view_count": null,
       "_view_module": "jupyter-matplotlib",
       "_view_module_version": "^0.11",
       "_view_name": "MPLCanvasView",
       "capture_scroll": false,
       "footer_visible": true,
       "header_visible": true,
       "layout": "IPY_MODEL_f4a9eb2e04e24dcda843cd098268dfb4",
       "pan_zoom_throttle": 33.0,
       "resizable": true,
       "tabbable": null,
       "toolbar": "IPY_MODEL_664c42979ae040b8970e5769c356cafd",
       "toolbar_position": "left",
       "toolbar_visible": "fade-in-fade-out",
       "tooltip": null
      }
     },
     "f4a9eb2e04e24dcda843cd098268dfb4": {
      "model_module": "@jupyter-widgets/base",
      "model_module_version": "2.0.0",
      "model_name": "LayoutModel",
      "state": {
       "_model_module": "@jupyter-widgets/base",
       "_model_module_version": "2.0.0",
       "_model_name": "LayoutModel",
       "_view_count": null,
       "_view_module": "@jupyter-widgets/base",
       "_view_module_version": "2.0.0",
       "_view_name": "LayoutView",
       "align_content": null,
       "align_items": null,
       "align_self": null,
       "border_bottom": null,
       "border_left": null,
       "border_right": null,
       "border_top": null,
       "bottom": null,
       "display": null,
       "flex": null,
       "flex_flow": null,
       "grid_area": null,
       "grid_auto_columns": null,
       "grid_auto_flow": null,
       "grid_auto_rows": null,
       "grid_column": null,
       "grid_gap": null,
       "grid_row": null,
       "grid_template_areas": null,
       "grid_template_columns": null,
       "grid_template_rows": null,
       "height": null,
       "justify_content": null,
       "justify_items": null,
       "left": null,
       "margin": null,
       "max_height": null,
       "max_width": null,
       "min_height": null,
       "min_width": null,
       "object_fit": null,
       "object_position": null,
       "order": null,
       "overflow": null,
       "padding": null,
       "right": null,
       "top": null,
       "visibility": null,
       "width": null
      }
     },
     "f59630d375dd405f98f68b4ff6c02277": {
      "model_module": "jupyter-matplotlib",
      "model_module_version": "^0.11",
      "model_name": "MPLCanvasModel",
      "state": {
       "_cursor": "pointer",
       "_data_url": "data:image/png;base64,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",
       "_dom_classes": [],
       "_figure_label": "Figure",
       "_image_mode": "full",
       "_message": "",
       "_model_module": "jupyter-matplotlib",
       "_model_module_version": "^0.11",
       "_model_name": "MPLCanvasModel",
       "_rubberband_height": 0,
       "_rubberband_width": 0,
       "_rubberband_x": 0,
       "_rubberband_y": 0,
       "_size": [
        600.0,
        300.0
       ],
       "_view_count": null,
       "_view_module": "jupyter-matplotlib",
       "_view_module_version": "^0.11",
       "_view_name": "MPLCanvasView",
       "capture_scroll": false,
       "footer_visible": true,
       "header_visible": true,
       "layout": "IPY_MODEL_49813d95df1a47048fa1f67a1a50d0d7",
       "pan_zoom_throttle": 33.0,
       "resizable": true,
       "tabbable": null,
       "toolbar": "IPY_MODEL_67ebab8ab01d47aca7d2eb328636d844",
       "toolbar_position": "left",
       "toolbar_visible": "fade-in-fade-out",
       "tooltip": null
      }
     },
     "f69c394a902749d3b066054703dfe0b4": {
      "model_module": "jupyter-matplotlib",
      "model_module_version": "^0.11",
      "model_name": "MPLCanvasModel",
      "state": {
       "_cursor": "pointer",
       "_data_url": "data:image/png;base64,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",
       "_dom_classes": [],
       "_figure_label": "Figure",
       "_image_mode": "full",
       "_message": "",
       "_model_module": "jupyter-matplotlib",
       "_model_module_version": "^0.11",
       "_model_name": "MPLCanvasModel",
       "_rubberband_height": 0,
       "_rubberband_width": 0,
       "_rubberband_x": 0,
       "_rubberband_y": 0,
       "_size": [
        600.0,
        300.0
       ],
       "_view_count": null,
       "_view_module": "jupyter-matplotlib",
       "_view_module_version": "^0.11",
       "_view_name": "MPLCanvasView",
       "capture_scroll": false,
       "footer_visible": true,
       "header_visible": true,
       "layout": "IPY_MODEL_5e0d76a77bac49e7a020d16c4a6be59c",
       "pan_zoom_throttle": 33.0,
       "resizable": true,
       "tabbable": null,
       "toolbar": "IPY_MODEL_128c3eee714341d9b783dc6eb2bf8f74",
       "toolbar_position": "left",
       "toolbar_visible": "fade-in-fade-out",
       "tooltip": null
      }
     },
     "f77f4948cbb147fb9c4a2a7f4b108272": {
      "model_module": "jupyter-matplotlib",
      "model_module_version": "^0.11",
      "model_name": "ToolbarModel",
      "state": {
       "_current_action": "",
       "_dom_classes": [],
       "_model_module": "jupyter-matplotlib",
       "_model_module_version": "^0.11",
       "_model_name": "ToolbarModel",
       "_view_count": null,
       "_view_module": "jupyter-matplotlib",
       "_view_module_version": "^0.11",
       "_view_name": "ToolbarView",
       "button_style": "",
       "collapsed": true,
       "layout": "IPY_MODEL_a23c41dee6c64fcd8e5e5b6233412707",
       "orientation": "vertical",
       "tabbable": null,
       "toolitems": [
        [
         "Home",
         "Reset original view",
         "home",
         "home"
        ],
        [
         "Back",
         "Back to previous view",
         "arrow-left",
         "back"
        ],
        [
         "Forward",
         "Forward to next view",
         "arrow-right",
         "forward"
        ],
        [
         "Pan",
         "Left button pans, Right button zooms\nx/y fixes axis, CTRL fixes aspect",
         "arrows",
         "pan"
        ],
        [
         "Zoom",
         "Zoom to rectangle\nx/y fixes axis",
         "square-o",
         "zoom"
        ],
        [
         "Download",
         "Download plot",
         "floppy-o",
         "save_figure"
        ]
       ],
       "tooltip": null
      }
     }
    },
    "version_major": 2,
    "version_minor": 0
   }
  }
 },
 "nbformat": 4,
 "nbformat_minor": 5
}