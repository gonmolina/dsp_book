{
 "cells": [
  {
   "cell_type": "markdown",
   "id": "bcfd6d23",
   "metadata": {
    "editable": true,
    "slideshow": {
     "slide_type": "slide"
    }
   },
   "source": [
    "# FILTROS"
   ]
  },
  {
   "cell_type": "markdown",
   "id": "c57c4c1a",
   "metadata": {
    "editable": true,
    "slideshow": {
     "slide_type": "slide"
    }
   },
   "source": [
    "## Temario\n",
    "\n",
    "1. Transformada de Laplace\n",
    "2. Funciones transferencias\n",
    "3. Caracterización de los filtros\n",
    "    1. Pasa-bajos\n",
    "    2. Pasa-altos\n",
    "    3. Pasa-banda\n",
    "    4. Elimina-banda\n",
    "    5. Pasa-todo\n",
    "4. Tipos de filtros con LTI. Butterworth, Chebyshev I y II, Elípticos (Cauer), Bessel\n",
    "5. Obtención de la función transferencia de un filtro con SciPy  (`sicpy.signal`)\n",
    "6. Simulación del filtro en Python\n",
    "7. Presentación de herramienta web para diseño de filtros electrónicos activos: [Web Bench Filter Design Tool](https://webench.ti.com/filter-design-tool/)."
   ]
  },
  {
   "cell_type": "markdown",
   "id": "0e8cc24d",
   "metadata": {
    "editable": true,
    "slideshow": {
     "slide_type": "slide"
    }
   },
   "source": [
    "## Transformada de Laplace"
   ]
  },
  {
   "cell_type": "markdown",
   "id": "40db0a6e",
   "metadata": {
    "editable": true,
    "slideshow": {
     "slide_type": "notes"
    }
   },
   "source": [
    "Hasa el momento en la materia estuvimos trabajando con la transformada de Fourier.\n",
    "A esta transformada la podemos pensar como la correlación de la señal que se desea transformar con senos y cosenos de diferentes frecuencias que hacemos variar entre $-\\infty$ e $\\infty$."
   ]
  },
  {
   "cell_type": "markdown",
   "id": "cf48b70c",
   "metadata": {
    "editable": true,
    "slideshow": {
     "slide_type": "notes"
    }
   },
   "source": [
    "La principal desventaja de está transformada, por la características periódicas del seno y del coseno, es que no permite capturar las componentes transitorias de las señales.\n",
    "Para salvar esta dificultad se define la transformada de Laplace.\n",
    "Se define a transformada de Laplace $F(s)$ de una función definida para $t\\in\\mathbb R \\ge 0$ como:"
   ]
  },
  {
   "cell_type": "markdown",
   "id": "010be3da",
   "metadata": {
    "editable": true,
    "slideshow": {
     "slide_type": "fragment"
    }
   },
   "source": [
    "$$F(s) = \\int_{0}^{\\infty} e^{-st}f(t)dt$$\n",
    "\n",
    "La función de tranformación anterior se la conoce como transformada unilateral de Laplace."
   ]
  },
  {
   "cell_type": "markdown",
   "id": "828483dd",
   "metadata": {
    "editable": true,
    "slideshow": {
     "slide_type": "slide"
    }
   },
   "source": [
    "Analizando la expresión anterior y sabiendo que la variable $s$ es un número complejo que podemos escribir como:\n",
    "\n",
    "$$s=\\sigma  \\pm j\\omega$$\n",
    "\n",
    "Podemos notar que la transformada de Laplace es una generalización de la transformada de Fourier tomando $\\sigma=0$ ."
   ]
  },
  {
   "cell_type": "markdown",
   "id": "4c3a5c07",
   "metadata": {
    "editable": true,
    "slideshow": {
     "slide_type": "slide"
    }
   },
   "source": [
    "## Tabla de transformadas de Laplace"
   ]
  },
  {
   "cell_type": "markdown",
   "id": "70367535",
   "metadata": {
    "editable": true,
    "slideshow": {
     "slide_type": "notes"
    }
   },
   "source": [
    "Para funciones típicas, existen tablas de transformada de Laplace que nos permiten rápidamente ir del dominio $t$ (en general tiempo) al dominio de Laplace $s$, que se lo conoce como dominio de frecuencia generalizada."
   ]
  },
  {
   "cell_type": "markdown",
   "id": "b8732737",
   "metadata": {
    "editable": true,
    "slideshow": {
     "slide_type": "fragment"
    }
   },
   "source": [
    "![Tabla de transformadas de Laplace](bg2.png)"
   ]
  },
  {
   "cell_type": "markdown",
   "id": "abe165cf",
   "metadata": {
    "editable": true,
    "slideshow": {
     "slide_type": "slide"
    }
   },
   "source": [
    "### Propiedades\n",
    "\n",
    "La trasformada de Laplace tiene propiedades similares a la de la transformada de Fourier.\n",
    "\n",
    "Siendo $\\alpha$, $\\beta$ $\\in$ $\\mathbb R$ y $f(t)$ $g(t)$ dos funciones definidas para $t \\ge 0$ entonces la transformada de Laplace satisface las siguientes propiedades:"
   ]
  },
  {
   "cell_type": "markdown",
   "id": "5e6eb892",
   "metadata": {
    "editable": true,
    "slideshow": {
     "slide_type": "subslide"
    }
   },
   "source": [
    "#### Linealidad\n",
    "\n",
    "$$\\mathcal {L}\\{\\alpha f(t)+\\beta g(t)\\}=\\alpha {\\mathcal {L}}\\{f(t)\\}+\\beta {\\mathcal {L}}\\{g(t)\\}$$"
   ]
  },
  {
   "cell_type": "markdown",
   "id": "9a50e105",
   "metadata": {
    "editable": true,
    "slideshow": {
     "slide_type": "subslide"
    }
   },
   "source": [
    "#### Primer teorema de traslación\n",
    "\n",
    "Esta propiedad se obtiene aplicando la definición de transformada y a través del cambio de variable $u=s-a$.\n",
    "\n",
    " $$\\mathcal {L}\\{e^{at}f(t)\\}=F(s-a)$$"
   ]
  },
  {
   "cell_type": "markdown",
   "id": "e21bb2bc",
   "metadata": {
    "editable": true,
    "slideshow": {
     "slide_type": "subslide"
    }
   },
   "source": [
    "#### Segundo teorema de traslación\n",
    "\n",
    "Esta propiedad se demuestra por definición y teniendo en cuenta la definición de la función escalón unitario\n",
    "\n",
    "$$\\mathcal {L}\\{f(t-a)u(t-a)\\}=e^{-as}\\mathcal {L}\\{f\\}$$"
   ]
  },
  {
   "cell_type": "markdown",
   "id": "49fe9978",
   "metadata": {
    "editable": true,
    "slideshow": {
     "slide_type": "subslide"
    }
   },
   "source": [
    "#### Transformada de una derivada de primer orden\n",
    "\n",
    "$\\mathcal{L}\\left\\{\\dfrac{df(t)}{dt}\\right\\}=sF(s)-f(0)$"
   ]
  },
  {
   "cell_type": "markdown",
   "id": "b55133b5",
   "metadata": {
    "editable": true,
    "slideshow": {
     "slide_type": "subslide"
    }
   },
   "source": [
    "#### Transformada de una derivada de segundo orden\n",
    "\n",
    "$\\mathcal{L} \\left\\{ \\dfrac{d^2f(t)}{dt^2} \\right\\}=s^2F(s)-sf(0)-f'(0)$"
   ]
  },
  {
   "cell_type": "markdown",
   "id": "c288e2d1",
   "metadata": {
    "editable": true,
    "slideshow": {
     "slide_type": "subslide"
    }
   },
   "source": [
    "#### Transformada de una derivada de orden n\n",
    "\n",
    "$\\mathcal{L} \\left\\{ \\dfrac{d^nf(t)}{dt^n} \\right\\}= s^n F(s)- s^{n-1}f(0) - s^{n-2}f'(0) - \\ldots - sf^{n-2}(0)-f^{n-1}(0)$"
   ]
  },
  {
   "cell_type": "markdown",
   "id": "2edad973",
   "metadata": {
    "editable": true,
    "slideshow": {
     "slide_type": "subslide"
    }
   },
   "source": [
    "#### Transformada de la Integral de una función\n",
    "\n",
    "$$\\mathcal{L} \\left\\{ \\int_0^tf(\\tau)d\\tau \\right\\} =\\dfrac{F(s)}{s}$$"
   ]
  },
  {
   "cell_type": "markdown",
   "id": "058b716f",
   "metadata": {
    "editable": true,
    "slideshow": {
     "slide_type": "subslide"
    }
   },
   "source": [
    "#### Valor final de una función: teorema de valor final\n",
    "\n",
    "$$f(\\infty)=\\lim_{s\\rightarrow 0}sF(s)$$"
   ]
  },
  {
   "cell_type": "markdown",
   "id": "f7b405cc",
   "metadata": {
    "editable": true,
    "slideshow": {
     "slide_type": "subslide"
    }
   },
   "source": [
    "#### Valor inicial de una función: teorema de valor inicial\n",
    "\n",
    "$$f(0)=\\lim_{s\\rightarrow \\infty}sF(s)$$"
   ]
  },
  {
   "cell_type": "markdown",
   "id": "eceeebdf",
   "metadata": {
    "editable": true,
    "slideshow": {
     "slide_type": "notes"
    }
   },
   "source": [
    "Usando la tabla anterior junto con las propiedades, podemos obtener rapidamente la transformada de Laplace de un conjunto muy grande de funciones temporales."
   ]
  },
  {
   "cell_type": "markdown",
   "id": "0b9d7353",
   "metadata": {
    "editable": true,
    "slideshow": {
     "slide_type": "slide"
    }
   },
   "source": [
    "## Función transferencia"
   ]
  },
  {
   "cell_type": "markdown",
   "id": "443817fd",
   "metadata": {
    "editable": true,
    "slideshow": {
     "slide_type": "slide"
    }
   },
   "source": [
    "Para definir la función transferencia vamos a comenzar estudiando un ejemplo mecánico simple: un sistema lineal de una masa y un resorte. Vamos a estudiar la velocidad de la masa según una entrada fuerza aplicada a la misma.\n",
    "\n",
    "![Sistema masa resorte](ejemplo_sis_mec.png)"
   ]
  },
  {
   "cell_type": "markdown",
   "id": "45e1fd9c",
   "metadata": {
    "editable": true,
    "slideshow": {
     "slide_type": "slide"
    }
   },
   "source": [
    "Las ecuaciones que gobiernan el movimiento de la masa son principalmente las leyes de Newton:\n",
    "\n",
    "$$f(t) - bv(t) - kx(t) = ma(t)$$\n",
    "\n",
    "A esta misma ecuación la podemos expresar como:\n",
    "\n",
    "$$ f(t) - b\\frac{\\text{d}x(t)}{dt} - kx(t) = m \\frac{\\text{d}^2x(t)}{dt^2} $$\n",
    "\n",
    "donde $f(t)$ es la fuerza aplicada a la masa (entrada del sistema) y $x(t)$ es la posición de la masa (salida del sistema)."
   ]
  },
  {
   "cell_type": "markdown",
   "id": "a46370b0",
   "metadata": {
    "editable": true,
    "slideshow": {
     "slide_type": "notes"
    }
   },
   "source": [
    "Obtener la respuesta temporal del sistema a partir de esta ecuación puede resultar complejo ya que requiere resolver la ecuación diferencial anterior. Por otro lado, es difícil de estudiar en forma genérica que pasa para diferentes funciones de la entrada $f(t)$.\n",
    "Aquí es donde la transformada de Laplace comienza a ser de gran utilidad."
   ]
  },
  {
   "cell_type": "markdown",
   "id": "531fb882",
   "metadata": {
    "editable": true,
    "slideshow": {
     "slide_type": "notes"
    }
   },
   "source": [
    "Suponiendo que existen las transformadas de Laplace de $f(t)$ y $x(t)$ y que las mismas son $F(s)$ y $X(s)$ respectivamente, podemos escribir la misma ecuación anterior en el dominio transformado de Laplace utilizando las propiedades vistas anteriormente:"
   ]
  },
  {
   "cell_type": "markdown",
   "id": "844597fc",
   "metadata": {
    "editable": true,
    "slideshow": {
     "slide_type": "slide"
    }
   },
   "source": [
    "$$ F(s) - b sX(s) - kX(s) = m s^2 X(s)$$"
   ]
  },
  {
   "cell_type": "markdown",
   "id": "8058cfc6",
   "metadata": {
    "editable": true,
    "slideshow": {
     "slide_type": "notes"
    }
   },
   "source": [
    "Podemos notar que pasamos de una ecuación diferencial en el dominio temporal a una ecuación algebraica en el dominio temporal. Además, a la ecuación anterior la podemos reescribir como:"
   ]
  },
  {
   "cell_type": "markdown",
   "id": "00a979a6",
   "metadata": {
    "editable": true,
    "slideshow": {
     "slide_type": "fragment"
    }
   },
   "source": [
    "$$ \\frac{X(s)}{F(s)} = \\frac{1}{ms^2+bs+k} $$"
   ]
  },
  {
   "cell_type": "markdown",
   "id": "bc8a9b0a",
   "metadata": {
    "editable": true,
    "slideshow": {
     "slide_type": "fragment"
    }
   },
   "source": [
    "Esta última ecuación es la descripción del sistema escrita como la relación entre la salida y la entrada del sistema en el dominio transformado de Laplace. A esta realación de la conoce como **función transferencia** del sistema."
   ]
  },
  {
   "cell_type": "markdown",
   "id": "28dd1567",
   "metadata": {
    "editable": true,
    "slideshow": {
     "slide_type": "slide"
    }
   },
   "source": [
    "## Ejercicio (5 minutos)\n",
    "\n",
    "Usando la tabla de propiedades, obtener la función transferencia del sistema si la salida es la velocidad $v(t)$"
   ]
  },
  {
   "cell_type": "markdown",
   "id": "9b078f72",
   "metadata": {
    "editable": true,
    "slideshow": {
     "slide_type": "slide"
    }
   },
   "source": [
    "## Anti tranformada de Laplace de la función transferencia"
   ]
  },
  {
   "cell_type": "markdown",
   "id": "a2d5ea99",
   "metadata": {
    "editable": true,
    "slideshow": {
     "slide_type": "notes"
    }
   },
   "source": [
    "Dijimos que la transformada de Laplace es, en general, la transformada de señales temporales.\n",
    "Entonces, podríamos preguntarnos, ¿qué señal temporal es la antitransformada de la función transferencia?\n",
    "\n",
    "Para responder a esta pregunta lo que haremos es analizar que excitación se necesita el sistema para que la salida sea, en el dominio de Laplace, la función transferencia. Dejando la salida n función de la entrada, tenemos que:"
   ]
  },
  {
   "cell_type": "markdown",
   "id": "964fa422",
   "metadata": {
    "editable": true,
    "slideshow": {
     "slide_type": "fragment"
    }
   },
   "source": [
    "$$X(s)=\\frac{1}{ms^2+bs+k}F(s)$$"
   ]
  },
  {
   "cell_type": "markdown",
   "id": "245003e0",
   "metadata": {
    "editable": true,
    "slideshow": {
     "slide_type": "notes"
    }
   },
   "source": [
    "Si $F(s)$ es 1 entonces la respuesta del sistema es la función transferencia. Ahora, de la tablas de transformadas de Laplace podemos ver que la señal temporal cuya transformada es 1 es el impulso unitario. Por lo tanto tenemos que:"
   ]
  },
  {
   "cell_type": "markdown",
   "id": "39d85ee5",
   "metadata": {
    "editable": true,
    "slideshow": {
     "slide_type": "slide"
    }
   },
   "source": [
    "$$X_{\\delta}(s)=\\frac{1}{ms^2+bs+k}$$"
   ]
  },
  {
   "cell_type": "markdown",
   "id": "5ea28711",
   "metadata": {
    "editable": true,
    "slideshow": {
     "slide_type": "notes"
    }
   },
   "source": [
    "donde $X_{\\delta}(s)$ es la transformada de Laplace de la salida del sistema cuando la entada es un impulso unitario."
   ]
  },
  {
   "cell_type": "markdown",
   "id": "31469e4c",
   "metadata": {
    "editable": true,
    "slideshow": {
     "slide_type": "fragment"
    }
   },
   "source": [
    "Por lo tanto podemos decir que **la función transferencia es la transformada de Laplace  de la respuesta al impulso de un sistema LTI**."
   ]
  },
  {
   "cell_type": "markdown",
   "id": "a03670ed",
   "metadata": {
    "editable": true,
    "slideshow": {
     "slide_type": "slide"
    }
   },
   "source": [
    "## Ejercicio de simulación del sistema mecánico"
   ]
  },
  {
   "cell_type": "markdown",
   "id": "91c28829",
   "metadata": {
    "editable": true,
    "slideshow": {
     "slide_type": "fragment"
    }
   },
   "source": [
    "El paquete de control instalado con las herramientas del curso nos brinda la posibildad de implementar sistemas descriptos a partir de su función transferencia y simularlos frente a entradas."
   ]
  },
  {
   "cell_type": "markdown",
   "id": "3e6add6a",
   "metadata": {
    "editable": true,
    "slideshow": {
     "slide_type": "notes"
    }
   },
   "source": [
    "El paquete de control aprovecha la particularidad de que las funciones transferencias transferencias son, en general, relaciónes de polinomios en $s$, por lo tanto se definen con los coficientes del polinomio numerador y los coeficientes del polinomio numerador."
   ]
  },
  {
   "cell_type": "code",
   "execution_count": 1,
   "id": "a81784f8",
   "metadata": {
    "editable": true,
    "slideshow": {
     "slide_type": "slide"
    }
   },
   "outputs": [
    {
     "data": {
      "text/latex": [
       "$$\\frac{1}{s^2 + 0.2 s + 0.5}$$"
      ],
      "text/plain": [
       "TransferFunction(array([1]), array([1. , 0.2, 0.5]))"
      ]
     },
     "execution_count": 1,
     "metadata": {},
     "output_type": "execute_result"
    }
   ],
   "source": [
    "from control import tf, step_response\n",
    "m=1\n",
    "b=0.2\n",
    "k=0.5\n",
    "\n",
    "H=tf([1],[m,b,k]) # primer arg coef. de pol. den y seg arg coef. del pol. den.\n",
    "H"
   ]
  },
  {
   "cell_type": "code",
   "execution_count": 2,
   "id": "f9c0493f",
   "metadata": {
    "editable": true,
    "raw_mimetype": "",
    "slideshow": {
     "slide_type": "fragment"
    }
   },
   "outputs": [
    {
     "data": {
      "text/plain": [
       "<control.timeresp.TimeResponseData at 0x7fed32a8a150>"
      ]
     },
     "execution_count": 2,
     "metadata": {},
     "output_type": "execute_result"
    }
   ],
   "source": [
    "r = step_response(H) # simula al sistema anterior con una entrada escalón \n",
    "                     # unitario en t=0\n",
    "r"
   ]
  },
  {
   "cell_type": "markdown",
   "id": "8ce00301",
   "metadata": {
    "editable": true,
    "slideshow": {
     "slide_type": ""
    }
   },
   "source": [
    "En `r` se encuentra la información relevante de la respuesta al escalón del este sistema. Si queremos graficar la señal de salida del sistema, luego del escalón podremos hacerlo usando `matplotlib`."
   ]
  },
  {
   "cell_type": "code",
   "execution_count": 3,
   "id": "4e82909c",
   "metadata": {
    "editable": true,
    "slideshow": {
     "slide_type": "skip"
    }
   },
   "outputs": [],
   "source": [
    "import matplotlib.pyplot as plt\n",
    "%matplotlib inline"
   ]
  },
  {
   "cell_type": "code",
   "execution_count": 4,
   "id": "a4443c2b",
   "metadata": {
    "editable": true,
    "slideshow": {
     "slide_type": "slide"
    }
   },
   "outputs": [
    {
     "data": {
      "image/png": "[encoded data removed]",
      "text/plain": [
       "<Figure size 800x300 with 1 Axes>"
      ]
     },
     "metadata": {},
     "output_type": "display_data"
    }
   ],
   "source": [
    "plt.figure(figsize=(8,3))\n",
    "plt.plot(r.t, r.y[0,0])\n",
    "plt.grid()\n",
    "plt.title('Respuesta al escalón')\n",
    "plt.xlabel('Tiempo [s]')\n",
    "plt.ylabel('Desplazamiento[m]');"
   ]
  },
  {
   "cell_type": "markdown",
   "id": "fccb8639",
   "metadata": {
    "editable": true,
    "slideshow": {
     "slide_type": "notes"
    }
   },
   "source": [
    "Si se observa el código detenidamente podrán ver que la salida se usa con el indice [0,0]. Para entender esto veamos la forma que tiene el `y` de la respuesta al escalón."
   ]
  },
  {
   "cell_type": "code",
   "execution_count": 5,
   "id": "467eff6d",
   "metadata": {
    "editable": true,
    "slideshow": {
     "slide_type": "slide"
    }
   },
   "outputs": [
    {
     "data": {
      "text/plain": [
       "(1, 1, 196)"
      ]
     },
     "execution_count": 5,
     "metadata": {},
     "output_type": "execute_result"
    }
   ],
   "source": [
    "r.y.shape"
   ]
  },
  {
   "cell_type": "markdown",
   "id": "425cfa95",
   "metadata": {
    "editable": true,
    "slideshow": {
     "slide_type": "notes"
    }
   },
   "source": [
    "Podemos ver que el la respuesta tiene 3 dimensiones.\n",
    "En tercera dimensión se encuentran los puntos de la respuesta al escalón, las primeras dos dimensiones se usan en casos de que el sistema simulado tenga muchas entras/salidas.\n",
    "Con la primera dimensión se seleccion la salida, y con la segunda dimensión la entrada a la cual se aplica el escalón.\n",
    "En este caso como el sistema tiene solo una entrada y una salida debemos seleccionar obliagoriamente la salida 0 para la primer dimensión y la entrada 0 para la segunda dimensión."
   ]
  },
  {
   "cell_type": "markdown",
   "id": "f1c5630f",
   "metadata": {
    "editable": true,
    "slideshow": {
     "slide_type": "slide"
    }
   },
   "source": [
    "## Ejercicio (5 minutos)\n",
    "\n",
    "Usando la función `impulse_response` graficar la respuesta al impulso (o lo que es lo mismo, la antitrasformada de la función transferencia)"
   ]
  },
  {
   "cell_type": "markdown",
   "id": "987d5493",
   "metadata": {
    "editable": true,
    "slideshow": {
     "slide_type": "slide"
    }
   },
   "source": [
    "## Ejercicio (15 minutos)\n",
    "\n",
    "Obtener la transformada de Laplace del sistema del pizarrón sabiendo que la entrada es la tensión $u(t)$ en bornes de la fuente, la salida es la tensión $y(t)$ en bornes de la resistencia, y que la ecuación que gobierna la tensión en un capacitor es \n",
    "\n",
    "$$v_c(t) = \\frac{1}{C}\\int_0^ti_C(t)dt$$ \n",
    "\n",
    "y la tensión en la resistencia es \n",
    "\n",
    "$$v_R(t)=i_R(t)R$$\n",
    "\n",
    "Ayudas:\n",
    "1. Aplicar ley de Kirchoff de tensiones teniendo en cuenta que $i_R(t) = i_C(t)$ escribiendola $u(t)= v_c(t)+v_R(t)$ \n",
    "2. Transformar por Laplace la ecuación anterior y obtener la función transferencia $\\frac{I_R(s)}{U(s)}$\n",
    "3. A partir de la ecuación anterior se puede obtener $\\frac{V_C(s)}{U(s)}$ y $\\frac{V_R(s)}{U(s)}$"
   ]
  },
  {
   "cell_type": "markdown",
   "id": "ce1de068",
   "metadata": {
    "editable": true,
    "slideshow": {
     "slide_type": "slide"
    }
   },
   "source": [
    "## Filtros analógicos"
   ]
  },
  {
   "cell_type": "markdown",
   "id": "602a6aa8",
   "metadata": {
    "editable": true,
    "slideshow": {
     "slide_type": "notes"
    }
   },
   "source": [
    "Vamos a describir las características de los tipos de filtros más habituales.\n",
    "Por otra parte, un cierto conocimiento de filtrado analógico es necesario para diseñar las etapas de adquisición (filtros antialising) y reproducción (filtros de reconstrucción) en sistemas de procesamiento digital.\n",
    "Se distinguen por la caída de la respuesta en frecuencia en la primera década, desde la frecuencia de corte y en el retardo de grupo.\n",
    "En la siguiente figura mostramos las respuestas en frecuencia que definen la los filtros analógicos más empleados.\n",
    "\n",
    "En general, para poder sintetizar un filtro análogico, primero vamos a obtener su función transferencia.\n",
    "Según los objetivos del filtro existen distintos tipos entre los cuales podemos elegir para obtener la función transferencia."
   ]
  },
  {
   "cell_type": "markdown",
   "id": "1f7b9edc",
   "metadata": {
    "editable": true,
    "slideshow": {
     "slide_type": "slide"
    }
   },
   "source": [
    "## Tipos de filtros según su rango de frecuencias de paso\n",
    "\n",
    "- pasa-bajos: permite el paso de bajas frecuencias eliminando las altas\n",
    "- pasa-altos: permite el paso de las altes frecuencias elimando las altas\n",
    "- pasa-banda: permite el paso de un rango de frencuencias, elimando las altas y las bajas\n",
    "- elimina-banda: rechaza un rango de frecuencias, permitiendo el paso de frecuencias altas y bajas\n",
    "- pasa-todos: son filtro que lo que buscar es modificar la fase más que la ganancia del sistema."
   ]
  },
  {
   "cell_type": "markdown",
   "id": "e3acd928",
   "metadata": {
    "editable": true,
    "slideshow": {
     "slide_type": "slide"
    }
   },
   "source": [
    "## Parámetros de los filtros \n",
    "\n",
    "- frecuencia de corte: frecuencia a la cual la ganancia cae 3 db respecto a la ganancia en la freuncia de paso: (frecuencia infinita para el pasa alto, frecuencia 0 para el pasa bajo y frecuencia media para el pasa banda)\n",
    "- ancho de banda: tiene sentido su definición para el pasa-banda y es la resta entre la frecuencia de corte superior y la inferior del filtro. En un pasa-bajos el ancho de banda es la frecuencia de corte del sistema.\n",
    "- atenuación mínima: en general se requiere una atenuación mínima en un rango de frecuencias determinado en la banda de rechazo. Por ejemplo para un filtro pasabajos de frecuencia de corte 100 Hz se le puede pedir una atenuación (inversa de la ganancia) mínima de 100 para frecuencias mayores a 500 Hz."
   ]
  },
  {
   "cell_type": "markdown",
   "id": "7ac4d469",
   "metadata": {
    "editable": true,
    "slideshow": {
     "slide_type": "slide"
    }
   },
   "source": [
    "## Tipos de filtros según su forma en la banda de paso y de rechazo"
   ]
  },
  {
   "cell_type": "markdown",
   "id": "10cc0b56",
   "metadata": {
    "editable": true,
    "slideshow": {
     "slide_type": "fragment"
    }
   },
   "source": [
    "![Tipos de filtro según su forma](tipos_filtros.png)"
   ]
  },
  {
   "cell_type": "markdown",
   "id": "a3d6dfba",
   "metadata": {
    "editable": true,
    "slideshow": {
     "slide_type": "notes"
    }
   },
   "source": [
    "- Filtro de butterworth: Respuesta maximamente plana en la banda de paso y en la banda de eliminación.\n",
    "- Filtro de   filtros Tchebyshev tipo I: consiguen una caída más abrupta a frecuencias bajas en base a permitir un rizado de la respuesta en frecuencia en alguna de las bandas:\n",
    "  - Son filtros solo polos\n",
    "  - Presentan rizado constante en la banda pasante\n",
    "  - Presentan una caída monotónica en la banda no pasante"
   ]
  },
  {
   "cell_type": "markdown",
   "id": "c7210f89",
   "metadata": {
    "editable": true,
    "slideshow": {
     "slide_type": "notes"
    }
   },
   "source": [
    "- Filtro de filtros Tchebyshev tipo II: consiguen una caída más abrupta a frecuencias bajas en base a permitir un rizado de la respuesta en frecuencia en alguna de las bandas:\n",
    "  - Son filtros polos y ceros\n",
    "  - Presentan rizado constante en la banda atenuación\n",
    "  - Presentan una caída monotónica en la banda de paso\n",
    "- Filtro de Cauer: consiguen una caída más abrupta en base a permitir rizados constantes en ambas bandas.\n",
    "- Filtro de Bessel: son filtros solo polos que no pretenden optimizar la anchura de la zona de transición sino asegurar fase lineal en toda la bandas pasante, ya que los filtros anteriores la degradaban progresivamente con la frecuencia."
   ]
  },
  {
   "cell_type": "markdown",
   "id": "c42d554f",
   "metadata": {
    "editable": true,
    "slideshow": {
     "slide_type": "slide"
    }
   },
   "source": [
    "## Herramienta de diseño de filtro\n",
    "\n",
    "El paquete de `scipy` de Python cuenta con varias herramientas para el diseño de filtros dentro del módulo `signal`.\n",
    "\n",
    "Vamos a mostrar aquí las funciones para un filtro butterworth:\n",
    "\n",
    "- `scipy.signal.buttord`: sirve para obtener el orden del filtro de butterwoth que cumple con los requerimientos en la banda de paso y en la banda de rechazo. Toma como argumento las banda de paso de y rechazo y las ganancias de para esas bandas.\n",
    "- `scipy.signal.butt`: sirve para obtener el filtro a partir de las frecuecnias de corte y el orden obtenido con la función anterior."
   ]
  },
  {
   "cell_type": "markdown",
   "id": "5536f423",
   "metadata": {
    "editable": true,
    "slideshow": {
     "slide_type": "slide"
    }
   },
   "source": [
    "El mismo par de funciones anteriores se puede encontrar para los otros tipos de filtros: Cauer, Chebyshev I y II, y Bessel.\n",
    "\n",
    "Otras dos funciones útiles par el diseño de filtros pueden ser:\n",
    "\n",
    "- `scipy.signal.iirdesign`\n",
    "- `scipy.signal.iirfilter`\n",
    "\n",
    "Todas estas funciones están pensadas para obtener la función transferencia de un filtro, pero se utilizan de manera diferente. Siempre es conveniente chuequear la documentación de `scipy.signal` al respecto."
   ]
  },
  {
   "cell_type": "markdown",
   "id": "732c0ab5",
   "metadata": {
    "editable": true,
    "slideshow": {
     "slide_type": "slide"
    }
   },
   "source": [
    "### Ejemplo\n",
    "\n",
    "Supongamos que queremos realizar un filtro pasa-banda con frecuencias de corte 100 y 500 rad/seg, con ganancia 1 en la banda de paso y una atenuación 20 para ganancias menores a 10 rad/seg y mayores 2500 rad/seg.\n",
    "\n",
    "Para estudiar este filtro voy a utilizar el paquete de control instalado con las herramientas dadas."
   ]
  },
  {
   "cell_type": "code",
   "execution_count": 6,
   "id": "86a9b9f3",
   "metadata": {
    "editable": true,
    "slideshow": {
     "slide_type": "slide"
    }
   },
   "outputs": [],
   "source": [
    "from control import tf, bode, forced_response\n",
    "from scipy.signal import iirdesign, iirfilter\n",
    "import numpy as np\n",
    "import matplotlib.pyplot as plt\n",
    "\n",
    "b,a= iirdesign([100, 500], [10, 2500], 3, 26, True, 'butter', 'ba')"
   ]
  },
  {
   "cell_type": "markdown",
   "id": "a393b8f4",
   "metadata": {},
   "source": [
    "Los argumentos de la función anterior, en el orden en que aparecen son: la banda de paso, la banda de rechazo, la atenuación máxima en la banda de paso, la atenuación mínima en la banda de rechazo, si se trata de un filtro analógico, tipo de filtro y por último el formato en que `scipy` devuelve la función transferencia del filtro. Con este último argumento lo que devuelve son los coeficientes de los polinomios del numerador y denominador.  \n",
    "\n",
    "Estos valores son los que usa la función `tf` del paquete de control de Python para generar funciones transferencia. Definamos entonces la función trnasferencia del filtro con el paquete de Python."
   ]
  },
  {
   "cell_type": "code",
   "execution_count": 7,
   "id": "10c987bd",
   "metadata": {
    "editable": true,
    "slideshow": {
     "slide_type": "slide"
    }
   },
   "outputs": [
    {
     "data": {
      "text/latex": [
       "$$\\frac{1.604 \\times 10^{5} s^2}{s^4 + 566.4 s^3 + 2.604 \\times 10^{5} s^2 + 2.832 \\times 10^{7} s + 2.5 \\times 10^{9}}$$"
      ],
      "text/plain": [
       "TransferFunction(array([160380.36688122,      0.        ,      0.        ]), array([1.00000000e+00, 5.66357426e+02, 2.60380367e+05, 2.83178713e+07,\n",
       "       2.50000000e+09]))"
      ]
     },
     "execution_count": 7,
     "metadata": {},
     "output_type": "execute_result"
    }
   ],
   "source": [
    "G=tf(b,a)\n",
    "G"
   ]
  },
  {
   "cell_type": "markdown",
   "id": "f1755b26",
   "metadata": {},
   "source": [
    "Recordando que la trnasformada de Fourier es lo mismo que la transformada de Laplace con la parte real igualada a 0.  Es decir, si $s =\\sigma\\pm j\\omega$, si hacemos $\\sigma = 0$ la trnasformada de Laplace y de Fourier resultan iguales.\n",
    "\n",
    "Por lo tanto, podemos estudiar de alguna manera, el comportamiento en frecuencia del sistema haciendo $\\sigma = 0$ en la función trnasferencia del filtro. Para esto primero definimos un vector de frecuencias entre 1 y 10000 espaciados logaritmicamente."
   ]
  },
  {
   "cell_type": "code",
   "execution_count": 8,
   "id": "12339c70",
   "metadata": {},
   "outputs": [],
   "source": [
    "w = np.logspace(0, 4, 1001)"
   ]
  },
  {
   "cell_type": "markdown",
   "id": "c2baac8f",
   "metadata": {},
   "source": [
    "Para estudiar el comportamiento del sistema en frecuencia evaluaremos en cada  unos de los valores en `w` el modulo de la función transferencia. Esto se hace de la siguiente manera:"
   ]
  },
  {
   "cell_type": "code",
   "execution_count": 9,
   "id": "1b01c3b1",
   "metadata": {},
   "outputs": [],
   "source": [
    "m=np.abs(G(1j*w))"
   ]
  },
  {
   "cell_type": "code",
   "execution_count": 10,
   "id": "2f86687a",
   "metadata": {},
   "outputs": [
    {
     "data": {
      "text/plain": [
       "(1001,)"
      ]
     },
     "execution_count": 10,
     "metadata": {},
     "output_type": "execute_result"
    }
   ],
   "source": [
    "w.shape"
   ]
  },
  {
   "cell_type": "code",
   "execution_count": 11,
   "id": "fba54838",
   "metadata": {},
   "outputs": [
    {
     "data": {
      "image/png": "[encoded data removed]",
      "text/plain": [
       "<Figure size 600x300 with 1 Axes>"
      ]
     },
     "metadata": {},
     "output_type": "display_data"
    }
   ],
   "source": [
    "f, ax = plt.subplots(1,1, figsize=(6,3))\n",
    "ax.semilogx(w, m)\n",
    "ax.grid()"
   ]
  },
  {
   "cell_type": "markdown",
   "id": "b824947c",
   "metadata": {},
   "source": [
    "Si queremos graficarlo centrado deberemos respetar una simetría logarítmica. Poniedo en el centro de la figura en el centro de la banda de paso y los limites de la figura equidistantes al centro de la banda de paso en escala logaritmica la figura quedará mejor presentada. Esto lo podemos hacer la sigueinte manera:"
   ]
  },
  {
   "cell_type": "code",
   "execution_count": 12,
   "id": "3a7a038b",
   "metadata": {},
   "outputs": [],
   "source": [
    "wc = np.sqrt(100*500) # centro de la banda de paso\n",
    "ul = wc*40\n",
    "ll = wc/40"
   ]
  },
  {
   "cell_type": "code",
   "execution_count": 13,
   "id": "df42da82",
   "metadata": {},
   "outputs": [
    {
     "data": {
      "image/png": "[encoded data removed]",
      "text/plain": [
       "<Figure size 600x300 with 1 Axes>"
      ]
     },
     "metadata": {},
     "output_type": "display_data"
    }
   ],
   "source": [
    "f, ax = plt.subplots(1,1, figsize=(6,3))\n",
    "ax.semilogx(w, m)\n",
    "ax.set_xlim([ll, ul])\n",
    "ax.set_ylabel(r'|G(j$\\omega$)|')\n",
    "ax.set_xlabel(r'j$\\omega$)[rad/seg]')\n",
    "ax.grid();"
   ]
  },
  {
   "cell_type": "markdown",
   "id": "90122511",
   "metadata": {},
   "source": [
    "Esta grafica nos da la información de la **respuesta en frecuencia del filtro enestado estacionario**. Esto quiere decir que nos data el valor de ganancia del sistema en estado estacionario a señales seniodales para cada una de las frecuencias $\\omega$.\n",
    "\n",
    "Podríamos hacer una grafica de la fase, de de en vez de módulo. Para eso tedremos que hacer:"
   ]
  },
  {
   "cell_type": "code",
   "execution_count": 14,
   "id": "6ed431d4",
   "metadata": {},
   "outputs": [
    {
     "data": {
      "application/vnd.jupyter.widget-view+json": {
       "model_id": "349039777cfb4fb5bb707d86e7879877",
       "version_major": 2,
       "version_minor": 0
      },
      "image/png": "[encoded data removed]",
      "text/html": [
       "\n",
       "            <div style=\"display: inline-block;\">\n",
       "                <div class=\"jupyter-widgets widget-label\" style=\"text-align: center;\">\n",
       "                    Figure\n",
       "                </div>\n",
       "                <img src='data:image/png;base64,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' width=600.0/>\n",
       "            </div>\n",
       "        "
      ],
      "text/plain": [
       "Canvas(toolbar=Toolbar(toolitems=[('Home', 'Reset original view', 'home', 'home'), ('Back', 'Back to previous …"
      ]
     },
     "metadata": {},
     "output_type": "display_data"
    }
   ],
   "source": [
    "%matplotlib widget\n",
    "ang=np.angle(G(1j*w), deg=True)\n",
    "f, ax = plt.subplots(1,1, figsize=(6,3))\n",
    "ax.semilogx(w, ang)\n",
    "ax.set_xlim([ll, ul])\n",
    "ax.set_ylabel(r'$\\angle G(j\\omega)$')\n",
    "ax.set_xlabel(r'j$\\omega$)[rad/seg]')\n",
    "ax.grid();"
   ]
  },
  {
   "cell_type": "markdown",
   "id": "1dae1ce8",
   "metadata": {},
   "source": [
    "Lo que indica está figura es el desfasaje entre la salida y la entrada en estado estacionario para entradas senoidales de cada una de las frecuencias."
   ]
  },
  {
   "cell_type": "markdown",
   "id": "32810c09",
   "metadata": {},
   "source": [
    "Uniendo las dos figuras, pdríamos decir que, por ejemplo, para una señal senoidal de 100 rad/seg y amplitud 1, tedremos como salida una señal senoidal de 100 rad/seg, amplitud 0.7 aproximadamente y un desfasaje con la entrada de unos 90 grados aproximadamente. Para verificarlo podemos **simular** el filtro."
   ]
  },
  {
   "cell_type": "code",
   "execution_count": 15,
   "id": "ed1bf006",
   "metadata": {},
   "outputs": [],
   "source": [
    "# Genero la señal de entrada\n",
    "ws = 100\n",
    "tf= 10\n",
    "t=np.linspace(0, tf, 20001)\n",
    "u=np.sin(ws*t)"
   ]
  },
  {
   "cell_type": "markdown",
   "id": "7d0b0cd8",
   "metadata": {},
   "source": [
    "Para simular sistemas representados como funciones transferencias en el paquete de control frene a cualquier entrada, podemos usar la función `forced_response`."
   ]
  },
  {
   "cell_type": "code",
   "execution_count": 16,
   "id": "19ce9b98",
   "metadata": {},
   "outputs": [],
   "source": [
    "y=forced_response(G,t,u)"
   ]
  },
  {
   "cell_type": "code",
   "execution_count": 17,
   "id": "47cd5241",
   "metadata": {},
   "outputs": [
    {
     "data": {
      "text/plain": [
       "[<matplotlib.lines.Line2D at 0x7fed2885ec00>]"
      ]
     },
     "execution_count": 17,
     "metadata": {},
     "output_type": "execute_result"
    },
    {
     "data": {
      "application/vnd.jupyter.widget-view+json": {
       "model_id": "61fb9d4ffe6c4c44949c758bce4c37b5",
       "version_major": 2,
       "version_minor": 0
      },
      "image/png": "[encoded data removed]",
      "text/html": [
       "\n",
       "            <div style=\"display: inline-block;\">\n",
       "                <div class=\"jupyter-widgets widget-label\" style=\"text-align: center;\">\n",
       "                    Figure\n",
       "                </div>\n",
       "                <img src='data:image/png;base64,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' width=600.0/>\n",
       "            </div>\n",
       "        "
      ],
      "text/plain": [
       "Canvas(toolbar=Toolbar(toolitems=[('Home', 'Reset original view', 'home', 'home'), ('Back', 'Back to previous …"
      ]
     },
     "metadata": {},
     "output_type": "display_data"
    }
   ],
   "source": [
    "f, ax = plt.subplots(1,1, figsize=(6,3))\n",
    "ax.plot(t, u, 'r')\n",
    "ax.plot(t, y.y[0], 'b')"
   ]
  },
  {
   "cell_type": "markdown",
   "id": "6ec945c3",
   "metadata": {},
   "source": [
    "Para verificar las conclusiones veremos el final de la onda (estado estacionario) y compararemos la señal de entrada $u$ en rojo con la salida $y$ en azul."
   ]
  },
  {
   "cell_type": "code",
   "execution_count": 18,
   "id": "b2b5530b",
   "metadata": {},
   "outputs": [
    {
     "data": {
      "application/vnd.jupyter.widget-view+json": {
       "model_id": "0ff94f5700274998af03b885f8d469ca",
       "version_major": 2,
       "version_minor": 0
      },
      "image/png": "[encoded data removed]",
      "text/html": [
       "\n",
       "            <div style=\"display: inline-block;\">\n",
       "                <div class=\"jupyter-widgets widget-label\" style=\"text-align: center;\">\n",
       "                    Figure\n",
       "                </div>\n",
       "                <img src='data:image/png;base64,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' width=600.0/>\n",
       "            </div>\n",
       "        "
      ],
      "text/plain": [
       "Canvas(toolbar=Toolbar(toolitems=[('Home', 'Reset original view', 'home', 'home'), ('Back', 'Back to previous …"
      ]
     },
     "metadata": {},
     "output_type": "display_data"
    }
   ],
   "source": [
    "%matplotlib widget\n",
    "f, ax = plt.subplots(1,1, figsize=(6,3))\n",
    "ax.plot(t[-500:], u[-500:], 'r')\n",
    "ax.plot(t[-500:], y.y[0,-500:], 'b')\n",
    "ax.grid()"
   ]
  },
  {
   "cell_type": "markdown",
   "id": "d4a9a4c3",
   "metadata": {},
   "source": [
    "Haciendo zoom en las zonas de interes, podemos que que la amplitud máxima de la azul es aproximadanete 0.71, lo cual confirma dos cosas:\n",
    "\n",
    "- el diseño del filtro es correcto, ya que 100 rad/seg es la frecuencia de corte y 0.707 significa -3dB.\n",
    "- que el diagrama de amplitud que hicimos nos dio el valor de la ganancia del filtro a esa frecuencia\n",
    "\n",
    "Para ver el desfasaje, veamos el diferencia de tiempos del curce por cero de las dos ondas cuando suben. Haciendo zoom y una regla de tres simple, obtenemos el desfasaje:"
   ]
  },
  {
   "cell_type": "code",
   "execution_count": 19,
   "id": "ed0569d9",
   "metadata": {},
   "outputs": [
    {
     "data": {
      "text/plain": [
       "89.95437383554334"
      ]
     },
     "execution_count": 19,
     "metadata": {},
     "output_type": "execute_result"
    }
   ],
   "source": [
    "tazul = 9.786\n",
    "trojo= 9.8017\n",
    "(trojo-tazul)/(2*np.pi/100)*360  #(diferencia de tiempos/(periodo de la onda)*360 da el desfasaje en grados)"
   ]
  },
  {
   "cell_type": "markdown",
   "id": "391dbced",
   "metadata": {},
   "source": [
    "Se dice que el el desfasaje es 90 grados positivo. Es decir que la salida adelante a la entada en 90 gados para la freuencia 100 rad/seg."
   ]
  },
  {
   "cell_type": "markdown",
   "id": "c9d9411e",
   "metadata": {},
   "source": [
    "##  Teorema de la convolución"
   ]
  },
  {
   "cell_type": "markdown",
   "id": "a2c9a538",
   "metadata": {},
   "source": [
    "En la primera parte del temario de filtros vimos una herramienta de modelado de sistemas dinámicos: *la función transferencia*. Vimos que la función transferencia la podemos pensar de dos formas:\n",
    "\n",
    "- La transformada de Laplace de la salida del sistema sobre la transformada de Laplace de la entrada del sistema.\n",
    "- La transformada de Laplace de la respuesta al impulso del sistema.\n",
    "\n",
    "Sin embargo, hemos dejado pasar una propiedad de la transformada de Laplace muy importante, que es la convolución. Está propiedad nos dice que la multiplicación de dos funciones en el dominio transformado de Laplace es la convolución en el dominio sin transformar. Es decir:\n",
    "\n",
    "$$G_1(s).G_2(s)=g_1(t) * g_2(t)=\\int_0^t g(\\tau)h_1(t-\\tau)\\text d\\tau$$\n",
    "\n",
    "Está propiedad es impratante para el cáculo de las repuestas temporales de los sistemas."
   ]
  },
  {
   "cell_type": "markdown",
   "id": "673ff791",
   "metadata": {},
   "source": [
    "### Cálculo de la respuesta temporal de un sistema\n",
    "\n",
    "Recordando lo visto en la clase anterior podemos notar que la salida del sistema en el dominio de Laplace lo podemos calcular como:\n",
    "\n",
    "$$Y(s)=H(s)U(s)$$\n",
    "\n",
    "donde $H(s)$ es la función transferencia, $U(s)$ es la transformada de Laplace de la entrada y $Y(s)$ es la transformada de Laplace de la salida.\n",
    "\n",
    "Utilizando la propiedad de convolución se puede ver muy facilmente que:\n",
    "\n",
    "$$y(t) = h(t)*u(t)=\\int_0^th(\\tau)u(t-\\tau)\\text d \\tau$$\n",
    "\n",
    "La salida de un sistema lineal e invariente en el tiempo se puede calcular como la convolución de la respuesta al impulso y la entrada aplicada.\n",
    "\n",
    "De esta manera podemos que el la respuesta al impulso también caraceriza la sistema, es decir, que conociendo la respuesta al impulso podemos obtener la respuesta a cualquier entrada arbitraría."
   ]
  },
  {
   "cell_type": "markdown",
   "id": "e80d192a",
   "metadata": {},
   "source": [
    "## Ejemplo respuesta al impulso del sistema masa resorte\n",
    "\n",
    "Volvamos al sistema masa resorte anterior. Recordemos que la función transferencia es:\n",
    "\n",
    "$$X_{\\delta}(s)=\\frac{1}{ms^2+bs+k}$$\n",
    "\n",
    "Para poder antitransformarla facilmente, lo que se suele hacer es separar la función en fracciones simples. Para hacer estor debemos tener en cuenta la posición de los polos (ceros del denominador) del sistema. Podemos separar el problema en dos casos:"
   ]
  },
  {
   "cell_type": "markdown",
   "id": "8c40f960",
   "metadata": {},
   "source": [
    "1. Si el sistema tiene polos complejos conjugados, entonces las freacciones simples se pueden escribir como:\n",
    "\n",
    "$$H(s)=\\frac{As+B}{(s-(-\\sigma+j\\omega))(s-(-\\sigma-j\\omega))}$$\n",
    "\n",
    "2.  El caso de se tengan polos reales simples:\n",
    "\n",
    "$$H(s)=\\frac{A}{s-p_1}+\\frac{B}{s-p_2}$$"
   ]
  },
  {
   "cell_type": "markdown",
   "id": "8dd2295e",
   "metadata": {},
   "source": [
    "Luego aplicando superposición podemos resovler los dos términos de la respuesta la transformada de la respuesta al impulso mediante la suma de las transformadas de cada una de las fracciones simples.\n",
    "\n",
    "```{note}\n",
    "Todas las funciones transferencias de sistemas físicos tienen el orden del denominado mayor o igual que el del denominador, por lo tanto todos son factibles de aplicar fracciones, y encontrar de esta manera su antitransformada o respuesta al impulso \n",
    "```"
   ]
  },
  {
   "cell_type": "markdown",
   "id": "da90d6a8",
   "metadata": {},
   "source": [
    "Volvamos al caso de una masa y un resorte, y obtengamos la antitrasformada para una combinación de valores de $m$, $b$ y $k$ en que sean complejos cojugados y otro para el caso en que sean reales simples.\n",
    "\n",
    "Supondremos que saben aplicar fracciones simples y utilizar las tablas (son problemas matemáticos que no son cubiertos en este curso), lo haremos mediante el paquete de simbólico de Python `sympy`."
   ]
  },
  {
   "cell_type": "markdown",
   "id": "1f47a470",
   "metadata": {},
   "source": [
    "### Caso 1: Polos complejos conjugados\n",
    "\n",
    "Supongamos que $m=1$, $b=0.24$ y $k=5$. Entonces los polos resultan:"
   ]
  },
  {
   "cell_type": "code",
   "execution_count": 20,
   "id": "a88d4a2f",
   "metadata": {},
   "outputs": [
    {
     "data": {
      "text/plain": [
       "array([-0.1+0.7j, -0.1-0.7j])"
      ]
     },
     "execution_count": 20,
     "metadata": {},
     "output_type": "execute_result"
    }
   ],
   "source": [
    "import numpy as np\n",
    "m=1\n",
    "b=0.2\n",
    "k=0.5\n",
    "\n",
    "np.roots([m,b,k]) "
   ]
  },
  {
   "cell_type": "markdown",
   "id": "5dffd435",
   "metadata": {},
   "source": [
    "Supongamos que queremos la respuesta al escalón del sistema. Para resolver la respusta temporal debemos hacer la antitransformada de la función transferencia por la transformada de la función escalón que es $\\dfrac{1}{s}$. Para no hacer las cuentas a mano utilizaré `sympy`."
   ]
  },
  {
   "cell_type": "code",
   "execution_count": 21,
   "id": "a9e105cd",
   "metadata": {},
   "outputs": [],
   "source": [
    "import sympy as sp\n",
    "s, t=sp.symbols('s, t') # defino las variables s y t"
   ]
  },
  {
   "cell_type": "code",
   "execution_count": 22,
   "id": "0d671939",
   "metadata": {},
   "outputs": [
    {
     "data": {
      "text/latex": [
       "$\\displaystyle - \\frac{2.0 \\cdot \\left(1.0 s + 0.2\\right)}{1.0 s^{2} + 0.2 s + 0.5} + \\frac{2.0}{s}$"
      ],
      "text/plain": [
       "-2.0*(1.0*s + 0.2)/(1.0*s**2 + 0.2*s + 0.5) + 2.0/s"
      ]
     },
     "execution_count": 22,
     "metadata": {},
     "output_type": "execute_result"
    }
   ],
   "source": [
    "H = 1/(m*s**2+b*s+k)*(1/s)\n",
    "\n",
    "sp.apart(H, s)"
   ]
  },
  {
   "cell_type": "code",
   "execution_count": 23,
   "id": "b92bb16b",
   "metadata": {},
   "outputs": [
    {
     "data": {
      "text/latex": [
       "$\\displaystyle \\left(- 0.285714285714286 e^{- 0.1 t} \\sin{\\left(0.7 t \\right)} - 2.0 e^{- 0.1 t} \\cos{\\left(0.7 t \\right)}\\right) \\theta\\left(t\\right) + 2.0 \\theta\\left(t\\right)$"
      ],
      "text/plain": [
       "(-0.285714285714286*exp(-0.1*t)*sin(0.7*t) - 2.0*exp(-0.1*t)*cos(0.7*t))*Heaviside(t) + 2.0*Heaviside(t)"
      ]
     },
     "execution_count": 23,
     "metadata": {},
     "output_type": "execute_result"
    }
   ],
   "source": [
    "rt = sp.inverse_laplace_transform(H, s, t)\n",
    "rt"
   ]
  },
  {
   "cell_type": "markdown",
   "id": "b44d3022",
   "metadata": {},
   "source": [
    "Se puede ver que está señal no es más que una señal senoidal modulada por una exponencial. La podemos grafica con el módulo de `sympy` de la siguiente manera:"
   ]
  },
  {
   "cell_type": "code",
   "execution_count": 24,
   "id": "07b947cb",
   "metadata": {},
   "outputs": [
    {
     "data": {
      "application/vnd.jupyter.widget-view+json": {
       "model_id": "5f8c0783d1904c8fa331f4c71ba00b6e",
       "version_major": 2,
       "version_minor": 0
      },
      "image/png": "[encoded data removed]",
      "text/html": [
       "\n",
       "            <div style=\"display: inline-block;\">\n",
       "                <div class=\"jupyter-widgets widget-label\" style=\"text-align: center;\">\n",
       "                    Figure\n",
       "                </div>\n",
       "                <img src='data:image/png;base64,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' width=640.0/>\n",
       "            </div>\n",
       "        "
      ],
      "text/plain": [
       "Canvas(toolbar=Toolbar(toolitems=[('Home', 'Reset original view', 'home', 'home'), ('Back', 'Back to previous …"
      ]
     },
     "metadata": {},
     "output_type": "display_data"
    },
    {
     "data": {
      "text/plain": [
       "<sympy.plotting.plot.Plot at 0x7fed2492b650>"
      ]
     },
     "execution_count": 24,
     "metadata": {},
     "output_type": "execute_result"
    }
   ],
   "source": [
    "sp.plot(rt, (t,-1,60))"
   ]
  },
  {
   "cell_type": "markdown",
   "id": "8c5bc4f7",
   "metadata": {},
   "source": [
    "### para el caso en que los polos sean reales simples \n",
    "\n",
    "Hagamos que $b=2$"
   ]
  },
  {
   "cell_type": "code",
   "execution_count": 25,
   "id": "b7c5e27c",
   "metadata": {},
   "outputs": [
    {
     "data": {
      "text/plain": [
       "array([-1.70710678, -0.29289322])"
      ]
     },
     "execution_count": 25,
     "metadata": {},
     "output_type": "execute_result"
    }
   ],
   "source": [
    "b2 = 2\n",
    "np.roots([m, b2, k])"
   ]
  },
  {
   "cell_type": "code",
   "execution_count": 26,
   "id": "d8e0a42f",
   "metadata": {},
   "outputs": [],
   "source": [
    "H2 = 1/(m*s*s+b2*s+k)*(1/s)"
   ]
  },
  {
   "cell_type": "markdown",
   "id": "c03ae7a3",
   "metadata": {},
   "source": [
    "Ahora la separación por facciones simples es:"
   ]
  },
  {
   "cell_type": "code",
   "execution_count": 27,
   "id": "36e9be85",
   "metadata": {},
   "outputs": [
    {
     "data": {
      "text/latex": [
       "$\\displaystyle \\frac{0.414213562373096}{s + 1.70710678118655} - \\frac{2.4142135623731}{s + 0.292893218813452} + \\frac{2.0}{s}$"
      ],
      "text/plain": [
       "0.414213562373096/(s + 1.70710678118655) - 2.4142135623731/(s + 0.292893218813452) + 2.0/s"
      ]
     },
     "execution_count": 27,
     "metadata": {},
     "output_type": "execute_result"
    }
   ],
   "source": [
    "H2a = sp.apart(H2, s, full=True).doit()\n",
    "H2a"
   ]
  },
  {
   "cell_type": "markdown",
   "id": "6dc75c78",
   "metadata": {},
   "source": [
    "Hagamos la antitranformada de H2"
   ]
  },
  {
   "cell_type": "code",
   "execution_count": 28,
   "id": "d05a0925",
   "metadata": {},
   "outputs": [
    {
     "data": {
      "text/latex": [
       "$\\displaystyle 2.0 \\theta\\left(t\\right) + 0.414213562373096 e^{- 1.70710678118655 t} \\theta\\left(t\\right) - 2.4142135623731 e^{- 0.292893218813452 t} \\theta\\left(t\\right)$"
      ],
      "text/plain": [
       "2.0*Heaviside(t) + 0.414213562373096*exp(-1.70710678118655*t)*Heaviside(t) - 2.4142135623731*exp(-0.292893218813452*t)*Heaviside(t)"
      ]
     },
     "execution_count": 28,
     "metadata": {},
     "output_type": "execute_result"
    }
   ],
   "source": [
    "rta = sp.inverse_laplace_transform(H2a, s, t)\n",
    "rta"
   ]
  },
  {
   "cell_type": "markdown",
   "id": "80ca5c75",
   "metadata": {},
   "source": [
    "Podemos ver que aunque `sympy` resuelve correctamente la antitrasformadas, a veces es conveniete procesar la funciones para que el cálculo simbólico sea más simple, como por ejemplo es realizar la separación por fracciones simples.\n",
    "\n",
    "Graficamos la respuesta igual que antes"
   ]
  },
  {
   "cell_type": "code",
   "execution_count": 29,
   "id": "28fce2e8",
   "metadata": {},
   "outputs": [
    {
     "data": {
      "application/vnd.jupyter.widget-view+json": {
       "model_id": "9feb414a802d4f63b5a1c2f3829d7097",
       "version_major": 2,
       "version_minor": 0
      },
      "image/png": "[encoded data removed]",
      "text/html": [
       "\n",
       "            <div style=\"display: inline-block;\">\n",
       "                <div class=\"jupyter-widgets widget-label\" style=\"text-align: center;\">\n",
       "                    Figure\n",
       "                </div>\n",
       "                <img src='data:image/png;base64,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' width=640.0/>\n",
       "            </div>\n",
       "        "
      ],
      "text/plain": [
       "Canvas(toolbar=Toolbar(toolitems=[('Home', 'Reset original view', 'home', 'home'), ('Back', 'Back to previous …"
      ]
     },
     "metadata": {},
     "output_type": "display_data"
    },
    {
     "data": {
      "text/plain": [
       "<sympy.plotting.plot.Plot at 0x7fed24181130>"
      ]
     },
     "execution_count": 29,
     "metadata": {},
     "output_type": "execute_result"
    }
   ],
   "source": [
    "sp.plot(rta, (t,-1,60))"
   ]
  },
  {
   "cell_type": "code",
   "execution_count": null,
   "id": "bc586d28",
   "metadata": {},
   "outputs": [],
   "source": []
  }
 ],
 "metadata": {
  "jupytext": {
   "formats": "ipynb,md:myst",
   "text_representation": {
    "extension": ".md",
    "format_name": "myst",
    "format_version": 0.13,
    "jupytext_version": "1.16.1"
   }
  },
  "kernelspec": {
   "display_name": "Python 3 (ipykernel)",
   "language": "python",
   "name": "python3"
  },
  "language_info": {
   "codemirror_mode": {
    "name": "ipython",
    "version": 3
   },
   "file_extension": ".py",
   "mimetype": "text/x-python",
   "name": "python",
   "nbconvert_exporter": "python",
   "pygments_lexer": "ipython3",
   "version": "3.12.3"
  },
  "source_map": [
   15,
   19,
   36,
   40,
   45,
   51,
   57,
   65,
   69,
   73,
   77,
   85,
   91,
   99,
   107,
   113,
   119,
   125,
   131,
   137,
   143,
   147,
   151,
   157,
   169,
   174,
   178,
   182,
   186,
   190,
   194,
   200,
   204,
   211,
   215,
   219,
   223,
   227,
   231,
   235,
   239,
   243,
   258,
   270,
   274,
   284,
   298,
   302,
   311,
   318,
   324,
   341,
   345,
   355,
   365,
   373,
   377,
   381,
   389,
   398,
   409,
   420,
   428,
   440,
   446,
   454,
   460,
   462,
   466,
   470,
   474,
   478,
   482,
   488,
   495,
   501,
   510,
   514,
   518,
   524,
   528,
   532,
   536,
   540,
   546,
   555,
   559,
   563,
   567,
   580,
   598,
   608,
   618,
   626,
   632,
   638,
   645,
   649,
   654,
   660,
   663,
   667,
   669,
   675,
   680,
   682,
   686,
   689,
   693,
   696,
   702,
   706
  ],
  "widgets": {
   "application/vnd.jupyter.widget-state+json": {
    "state": {
     "0ff94f5700274998af03b885f8d469ca": {
      "model_module": "jupyter-matplotlib",
      "model_module_version": "^0.11",
      "model_name": "MPLCanvasModel",
      "state": {
       "_cursor": "pointer",
       "_data_url": "data:image/png;base64,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",
       "_dom_classes": [],
       "_figure_label": "Figure",
       "_image_mode": "full",
       "_message": "",
       "_model_module": "jupyter-matplotlib",
       "_model_module_version": "^0.11",
       "_model_name": "MPLCanvasModel",
       "_rubberband_height": 0,
       "_rubberband_width": 0,
       "_rubberband_x": 0,
       "_rubberband_y": 0,
       "_size": [
        600.0,
        300.0
       ],
       "_view_count": null,
       "_view_module": "jupyter-matplotlib",
       "_view_module_version": "^0.11",
       "_view_name": "MPLCanvasView",
       "capture_scroll": false,
       "footer_visible": true,
       "header_visible": true,
       "layout": "IPY_MODEL_99601cd534184832be32782451783e19",
       "pan_zoom_throttle": 33.0,
       "resizable": true,
       "tabbable": null,
       "toolbar": "IPY_MODEL_a1a98ce6293c4d23a9b8ab54f0abdec2",
       "toolbar_position": "left",
       "toolbar_visible": "fade-in-fade-out",
       "tooltip": null
      }
     },
     "1873f6db0ff249e9baaf2cd2be9a1171": {
      "model_module": "@jupyter-widgets/base",
      "model_module_version": "2.0.0",
      "model_name": "LayoutModel",
      "state": {
       "_model_module": "@jupyter-widgets/base",
       "_model_module_version": "2.0.0",
       "_model_name": "LayoutModel",
       "_view_count": null,
       "_view_module": "@jupyter-widgets/base",
       "_view_module_version": "2.0.0",
       "_view_name": "LayoutView",
       "align_content": null,
       "align_items": null,
       "align_self": null,
       "border_bottom": null,
       "border_left": null,
       "border_right": null,
       "border_top": null,
       "bottom": null,
       "display": null,
       "flex": null,
       "flex_flow": null,
       "grid_area": null,
       "grid_auto_columns": null,
       "grid_auto_flow": null,
       "grid_auto_rows": null,
       "grid_column": null,
       "grid_gap": null,
       "grid_row": null,
       "grid_template_areas": null,
       "grid_template_columns": null,
       "grid_template_rows": null,
       "height": null,
       "justify_content": null,
       "justify_items": null,
       "left": null,
       "margin": null,
       "max_height": null,
       "max_width": null,
       "min_height": null,
       "min_width": null,
       "object_fit": null,
       "object_position": null,
       "order": null,
       "overflow": null,
       "padding": null,
       "right": null,
       "top": null,
       "visibility": null,
       "width": null
      }
     },
     "24797137b9ea4b33a030f24a790ed857": {
      "model_module": "jupyter-matplotlib",
      "model_module_version": "^0.11",
      "model_name": "ToolbarModel",
      "state": {
       "_current_action": "",
       "_dom_classes": [],
       "_model_module": "jupyter-matplotlib",
       "_model_module_version": "^0.11",
       "_model_name": "ToolbarModel",
       "_view_count": null,
       "_view_module": "jupyter-matplotlib",
       "_view_module_version": "^0.11",
       "_view_name": "ToolbarView",
       "button_style": "",
       "collapsed": true,
       "layout": "IPY_MODEL_1873f6db0ff249e9baaf2cd2be9a1171",
       "orientation": "vertical",
       "tabbable": null,
       "toolitems": [
        [
         "Home",
         "Reset original view",
         "home",
         "home"
        ],
        [
         "Back",
         "Back to previous view",
         "arrow-left",
         "back"
        ],
        [
         "Forward",
         "Forward to next view",
         "arrow-right",
         "forward"
        ],
        [
         "Pan",
         "Left button pans, Right button zooms\nx/y fixes axis, CTRL fixes aspect",
         "arrows",
         "pan"
        ],
        [
         "Zoom",
         "Zoom to rectangle\nx/y fixes axis",
         "square-o",
         "zoom"
        ],
        [
         "Download",
         "Download plot",
         "floppy-o",
         "save_figure"
        ]
       ],
       "tooltip": null
      }
     },
     "2969460b01f04af4afc78e04e8aaeb06": {
      "model_module": "@jupyter-widgets/base",
      "model_module_version": "2.0.0",
      "model_name": "LayoutModel",
      "state": {
       "_model_module": "@jupyter-widgets/base",
       "_model_module_version": "2.0.0",
       "_model_name": "LayoutModel",
       "_view_count": null,
       "_view_module": "@jupyter-widgets/base",
       "_view_module_version": "2.0.0",
       "_view_name": "LayoutView",
       "align_content": null,
       "align_items": null,
       "align_self": null,
       "border_bottom": null,
       "border_left": null,
       "border_right": null,
       "border_top": null,
       "bottom": null,
       "display": null,
       "flex": null,
       "flex_flow": null,
       "grid_area": null,
       "grid_auto_columns": null,
       "grid_auto_flow": null,
       "grid_auto_rows": null,
       "grid_column": null,
       "grid_gap": null,
       "grid_row": null,
       "grid_template_areas": null,
       "grid_template_columns": null,
       "grid_template_rows": null,
       "height": null,
       "justify_content": null,
       "justify_items": null,
       "left": null,
       "margin": null,
       "max_height": null,
       "max_width": null,
       "min_height": null,
       "min_width": null,
       "object_fit": null,
       "object_position": null,
       "order": null,
       "overflow": null,
       "padding": null,
       "right": null,
       "top": null,
       "visibility": null,
       "width": null
      }
     },
     "349039777cfb4fb5bb707d86e7879877": {
      "model_module": "jupyter-matplotlib",
      "model_module_version": "^0.11",
      "model_name": "MPLCanvasModel",
      "state": {
       "_cursor": "pointer",
       "_data_url": "data:image/png;base64,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",
       "_dom_classes": [],
       "_figure_label": "Figure",
       "_image_mode": "full",
       "_message": "",
       "_model_module": "jupyter-matplotlib",
       "_model_module_version": "^0.11",
       "_model_name": "MPLCanvasModel",
       "_rubberband_height": 0,
       "_rubberband_width": 0,
       "_rubberband_x": 0,
       "_rubberband_y": 0,
       "_size": [
        600.0,
        300.0
       ],
       "_view_count": null,
       "_view_module": "jupyter-matplotlib",
       "_view_module_version": "^0.11",
       "_view_name": "MPLCanvasView",
       "capture_scroll": false,
       "footer_visible": true,
       "header_visible": true,
       "layout": "IPY_MODEL_c4259113494b4cc29d10937886311027",
       "pan_zoom_throttle": 33.0,
       "resizable": true,
       "tabbable": null,
       "toolbar": "IPY_MODEL_a988e01f247f476aabacd0a5b9e25791",
       "toolbar_position": "left",
       "toolbar_visible": "fade-in-fade-out",
       "tooltip": null
      }
     },
     "5f8c0783d1904c8fa331f4c71ba00b6e": {
      "model_module": "jupyter-matplotlib",
      "model_module_version": "^0.11",
      "model_name": "MPLCanvasModel",
      "state": {
       "_cursor": "pointer",
       "_data_url": "data:image/png;base64,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",
       "_dom_classes": [],
       "_figure_label": "Figure",
       "_image_mode": "full",
       "_message": "",
       "_model_module": "jupyter-matplotlib",
       "_model_module_version": "^0.11",
       "_model_name": "MPLCanvasModel",
       "_rubberband_height": 0,
       "_rubberband_width": 0,
       "_rubberband_x": 0,
       "_rubberband_y": 0,
       "_size": [
        640.0,
        480.0
       ],
       "_view_count": null,
       "_view_module": "jupyter-matplotlib",
       "_view_module_version": "^0.11",
       "_view_name": "MPLCanvasView",
       "capture_scroll": false,
       "footer_visible": true,
       "header_visible": true,
       "layout": "IPY_MODEL_ed11eff00092444e9a2bd03b0956a75e",
       "pan_zoom_throttle": 33.0,
       "resizable": true,
       "tabbable": null,
       "toolbar": "IPY_MODEL_de9f503b20ed4b6e90e428ef5d176af7",
       "toolbar_position": "left",
       "toolbar_visible": "fade-in-fade-out",
       "tooltip": null
      }
     },
     "61fb9d4ffe6c4c44949c758bce4c37b5": {
      "model_module": "jupyter-matplotlib",
      "model_module_version": "^0.11",
      "model_name": "MPLCanvasModel",
      "state": {
       "_cursor": "pointer",
       "_data_url": "data:image/png;base64,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",
       "_dom_classes": [],
       "_figure_label": "Figure",
       "_image_mode": "full",
       "_message": "",
       "_model_module": "jupyter-matplotlib",
       "_model_module_version": "^0.11",
       "_model_name": "MPLCanvasModel",
       "_rubberband_height": 0,
       "_rubberband_width": 0,
       "_rubberband_x": 0,
       "_rubberband_y": 0,
       "_size": [
        600.0,
        300.0
       ],
       "_view_count": null,
       "_view_module": "jupyter-matplotlib",
       "_view_module_version": "^0.11",
       "_view_name": "MPLCanvasView",
       "capture_scroll": false,
       "footer_visible": true,
       "header_visible": true,
       "layout": "IPY_MODEL_a7d047cd69d44712b22ad38e1c92c280",
       "pan_zoom_throttle": 33.0,
       "resizable": true,
       "tabbable": null,
       "toolbar": "IPY_MODEL_d920384c8d2b4718abe4a03ab38c65e8",
       "toolbar_position": "left",
       "toolbar_visible": "fade-in-fade-out",
       "tooltip": null
      }
     },
     "89bb711c54204f16b6d9f28e258d2cc4": {
      "model_module": "@jupyter-widgets/base",
      "model_module_version": "2.0.0",
      "model_name": "LayoutModel",
      "state": {
       "_model_module": "@jupyter-widgets/base",
       "_model_module_version": "2.0.0",
       "_model_name": "LayoutModel",
       "_view_count": null,
       "_view_module": "@jupyter-widgets/base",
       "_view_module_version": "2.0.0",
       "_view_name": "LayoutView",
       "align_content": null,
       "align_items": null,
       "align_self": null,
       "border_bottom": null,
       "border_left": null,
       "border_right": null,
       "border_top": null,
       "bottom": null,
       "display": null,
       "flex": null,
       "flex_flow": null,
       "grid_area": null,
       "grid_auto_columns": null,
       "grid_auto_flow": null,
       "grid_auto_rows": null,
       "grid_column": null,
       "grid_gap": null,
       "grid_row": null,
       "grid_template_areas": null,
       "grid_template_columns": null,
       "grid_template_rows": null,
       "height": null,
       "justify_content": null,
       "justify_items": null,
       "left": null,
       "margin": null,
       "max_height": null,
       "max_width": null,
       "min_height": null,
       "min_width": null,
       "object_fit": null,
       "object_position": null,
       "order": null,
       "overflow": null,
       "padding": null,
       "right": null,
       "top": null,
       "visibility": null,
       "width": null
      }
     },
     "8c493fa77d2e4248aa94beaf644ac46b": {
      "model_module": "@jupyter-widgets/base",
      "model_module_version": "2.0.0",
      "model_name": "LayoutModel",
      "state": {
       "_model_module": "@jupyter-widgets/base",
       "_model_module_version": "2.0.0",
       "_model_name": "LayoutModel",
       "_view_count": null,
       "_view_module": "@jupyter-widgets/base",
       "_view_module_version": "2.0.0",
       "_view_name": "LayoutView",
       "align_content": null,
       "align_items": null,
       "align_self": null,
       "border_bottom": null,
       "border_left": null,
       "border_right": null,
       "border_top": null,
       "bottom": null,
       "display": null,
       "flex": null,
       "flex_flow": null,
       "grid_area": null,
       "grid_auto_columns": null,
       "grid_auto_flow": null,
       "grid_auto_rows": null,
       "grid_column": null,
       "grid_gap": null,
       "grid_row": null,
       "grid_template_areas": null,
       "grid_template_columns": null,
       "grid_template_rows": null,
       "height": null,
       "justify_content": null,
       "justify_items": null,
       "left": null,
       "margin": null,
       "max_height": null,
       "max_width": null,
       "min_height": null,
       "min_width": null,
       "object_fit": null,
       "object_position": null,
       "order": null,
       "overflow": null,
       "padding": null,
       "right": null,
       "top": null,
       "visibility": null,
       "width": null
      }
     },
     "99601cd534184832be32782451783e19": {
      "model_module": "@jupyter-widgets/base",
      "model_module_version": "2.0.0",
      "model_name": "LayoutModel",
      "state": {
       "_model_module": "@jupyter-widgets/base",
       "_model_module_version": "2.0.0",
       "_model_name": "LayoutModel",
       "_view_count": null,
       "_view_module": "@jupyter-widgets/base",
       "_view_module_version": "2.0.0",
       "_view_name": "LayoutView",
       "align_content": null,
       "align_items": null,
       "align_self": null,
       "border_bottom": null,
       "border_left": null,
       "border_right": null,
       "border_top": null,
       "bottom": null,
       "display": null,
       "flex": null,
       "flex_flow": null,
       "grid_area": null,
       "grid_auto_columns": null,
       "grid_auto_flow": null,
       "grid_auto_rows": null,
       "grid_column": null,
       "grid_gap": null,
       "grid_row": null,
       "grid_template_areas": null,
       "grid_template_columns": null,
       "grid_template_rows": null,
       "height": null,
       "justify_content": null,
       "justify_items": null,
       "left": null,
       "margin": null,
       "max_height": null,
       "max_width": null,
       "min_height": null,
       "min_width": null,
       "object_fit": null,
       "object_position": null,
       "order": null,
       "overflow": null,
       "padding": null,
       "right": null,
       "top": null,
       "visibility": null,
       "width": null
      }
     },
     "9feb414a802d4f63b5a1c2f3829d7097": {
      "model_module": "jupyter-matplotlib",
      "model_module_version": "^0.11",
      "model_name": "MPLCanvasModel",
      "state": {
       "_cursor": "pointer",
       "_data_url": "data:image/png;base64,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",
       "_dom_classes": [],
       "_figure_label": "Figure",
       "_image_mode": "full",
       "_message": "",
       "_model_module": "jupyter-matplotlib",
       "_model_module_version": "^0.11",
       "_model_name": "MPLCanvasModel",
       "_rubberband_height": 0,
       "_rubberband_width": 0,
       "_rubberband_x": 0,
       "_rubberband_y": 0,
       "_size": [
        640.0,
        480.0
       ],
       "_view_count": null,
       "_view_module": "jupyter-matplotlib",
       "_view_module_version": "^0.11",
       "_view_name": "MPLCanvasView",
       "capture_scroll": false,
       "footer_visible": true,
       "header_visible": true,
       "layout": "IPY_MODEL_89bb711c54204f16b6d9f28e258d2cc4",
       "pan_zoom_throttle": 33.0,
       "resizable": true,
       "tabbable": null,
       "toolbar": "IPY_MODEL_24797137b9ea4b33a030f24a790ed857",
       "toolbar_position": "left",
       "toolbar_visible": "fade-in-fade-out",
       "tooltip": null
      }
     },
     "a1a98ce6293c4d23a9b8ab54f0abdec2": {
      "model_module": "jupyter-matplotlib",
      "model_module_version": "^0.11",
      "model_name": "ToolbarModel",
      "state": {
       "_current_action": "",
       "_dom_classes": [],
       "_model_module": "jupyter-matplotlib",
       "_model_module_version": "^0.11",
       "_model_name": "ToolbarModel",
       "_view_count": null,
       "_view_module": "jupyter-matplotlib",
       "_view_module_version": "^0.11",
       "_view_name": "ToolbarView",
       "button_style": "",
       "collapsed": true,
       "layout": "IPY_MODEL_8c493fa77d2e4248aa94beaf644ac46b",
       "orientation": "vertical",
       "tabbable": null,
       "toolitems": [
        [
         "Home",
         "Reset original view",
         "home",
         "home"
        ],
        [
         "Back",
         "Back to previous view",
         "arrow-left",
         "back"
        ],
        [
         "Forward",
         "Forward to next view",
         "arrow-right",
         "forward"
        ],
        [
         "Pan",
         "Left button pans, Right button zooms\nx/y fixes axis, CTRL fixes aspect",
         "arrows",
         "pan"
        ],
        [
         "Zoom",
         "Zoom to rectangle\nx/y fixes axis",
         "square-o",
         "zoom"
        ],
        [
         "Download",
         "Download plot",
         "floppy-o",
         "save_figure"
        ]
       ],
       "tooltip": null
      }
     },
     "a7d047cd69d44712b22ad38e1c92c280": {
      "model_module": "@jupyter-widgets/base",
      "model_module_version": "2.0.0",
      "model_name": "LayoutModel",
      "state": {
       "_model_module": "@jupyter-widgets/base",
       "_model_module_version": "2.0.0",
       "_model_name": "LayoutModel",
       "_view_count": null,
       "_view_module": "@jupyter-widgets/base",
       "_view_module_version": "2.0.0",
       "_view_name": "LayoutView",
       "align_content": null,
       "align_items": null,
       "align_self": null,
       "border_bottom": null,
       "border_left": null,
       "border_right": null,
       "border_top": null,
       "bottom": null,
       "display": null,
       "flex": null,
       "flex_flow": null,
       "grid_area": null,
       "grid_auto_columns": null,
       "grid_auto_flow": null,
       "grid_auto_rows": null,
       "grid_column": null,
       "grid_gap": null,
       "grid_row": null,
       "grid_template_areas": null,
       "grid_template_columns": null,
       "grid_template_rows": null,
       "height": null,
       "justify_content": null,
       "justify_items": null,
       "left": null,
       "margin": null,
       "max_height": null,
       "max_width": null,
       "min_height": null,
       "min_width": null,
       "object_fit": null,
       "object_position": null,
       "order": null,
       "overflow": null,
       "padding": null,
       "right": null,
       "top": null,
       "visibility": null,
       "width": null
      }
     },
     "a988e01f247f476aabacd0a5b9e25791": {
      "model_module": "jupyter-matplotlib",
      "model_module_version": "^0.11",
      "model_name": "ToolbarModel",
      "state": {
       "_current_action": "",
       "_dom_classes": [],
       "_model_module": "jupyter-matplotlib",
       "_model_module_version": "^0.11",
       "_model_name": "ToolbarModel",
       "_view_count": null,
       "_view_module": "jupyter-matplotlib",
       "_view_module_version": "^0.11",
       "_view_name": "ToolbarView",
       "button_style": "",
       "collapsed": true,
       "layout": "IPY_MODEL_aebfeb465b53436c89f338dff88a456b",
       "orientation": "vertical",
       "tabbable": null,
       "toolitems": [
        [
         "Home",
         "Reset original view",
         "home",
         "home"
        ],
        [
         "Back",
         "Back to previous view",
         "arrow-left",
         "back"
        ],
        [
         "Forward",
         "Forward to next view",
         "arrow-right",
         "forward"
        ],
        [
         "Pan",
         "Left button pans, Right button zooms\nx/y fixes axis, CTRL fixes aspect",
         "arrows",
         "pan"
        ],
        [
         "Zoom",
         "Zoom to rectangle\nx/y fixes axis",
         "square-o",
         "zoom"
        ],
        [
         "Download",
         "Download plot",
         "floppy-o",
         "save_figure"
        ]
       ],
       "tooltip": null
      }
     },
     "ada3e5d4c148464a80a363a3c1c3c349": {
      "model_module": "@jupyter-widgets/base",
      "model_module_version": "2.0.0",
      "model_name": "LayoutModel",
      "state": {
       "_model_module": "@jupyter-widgets/base",
       "_model_module_version": "2.0.0",
       "_model_name": "LayoutModel",
       "_view_count": null,
       "_view_module": "@jupyter-widgets/base",
       "_view_module_version": "2.0.0",
       "_view_name": "LayoutView",
       "align_content": null,
       "align_items": null,
       "align_self": null,
       "border_bottom": null,
       "border_left": null,
       "border_right": null,
       "border_top": null,
       "bottom": null,
       "display": null,
       "flex": null,
       "flex_flow": null,
       "grid_area": null,
       "grid_auto_columns": null,
       "grid_auto_flow": null,
       "grid_auto_rows": null,
       "grid_column": null,
       "grid_gap": null,
       "grid_row": null,
       "grid_template_areas": null,
       "grid_template_columns": null,
       "grid_template_rows": null,
       "height": null,
       "justify_content": null,
       "justify_items": null,
       "left": null,
       "margin": null,
       "max_height": null,
       "max_width": null,
       "min_height": null,
       "min_width": null,
       "object_fit": null,
       "object_position": null,
       "order": null,
       "overflow": null,
       "padding": null,
       "right": null,
       "top": null,
       "visibility": null,
       "width": null
      }
     },
     "aebfeb465b53436c89f338dff88a456b": {
      "model_module": "@jupyter-widgets/base",
      "model_module_version": "2.0.0",
      "model_name": "LayoutModel",
      "state": {
       "_model_module": "@jupyter-widgets/base",
       "_model_module_version": "2.0.0",
       "_model_name": "LayoutModel",
       "_view_count": null,
       "_view_module": "@jupyter-widgets/base",
       "_view_module_version": "2.0.0",
       "_view_name": "LayoutView",
       "align_content": null,
       "align_items": null,
       "align_self": null,
       "border_bottom": null,
       "border_left": null,
       "border_right": null,
       "border_top": null,
       "bottom": null,
       "display": null,
       "flex": null,
       "flex_flow": null,
       "grid_area": null,
       "grid_auto_columns": null,
       "grid_auto_flow": null,
       "grid_auto_rows": null,
       "grid_column": null,
       "grid_gap": null,
       "grid_row": null,
       "grid_template_areas": null,
       "grid_template_columns": null,
       "grid_template_rows": null,
       "height": null,
       "justify_content": null,
       "justify_items": null,
       "left": null,
       "margin": null,
       "max_height": null,
       "max_width": null,
       "min_height": null,
       "min_width": null,
       "object_fit": null,
       "object_position": null,
       "order": null,
       "overflow": null,
       "padding": null,
       "right": null,
       "top": null,
       "visibility": null,
       "width": null
      }
     },
     "c4259113494b4cc29d10937886311027": {
      "model_module": "@jupyter-widgets/base",
      "model_module_version": "2.0.0",
      "model_name": "LayoutModel",
      "state": {
       "_model_module": "@jupyter-widgets/base",
       "_model_module_version": "2.0.0",
       "_model_name": "LayoutModel",
       "_view_count": null,
       "_view_module": "@jupyter-widgets/base",
       "_view_module_version": "2.0.0",
       "_view_name": "LayoutView",
       "align_content": null,
       "align_items": null,
       "align_self": null,
       "border_bottom": null,
       "border_left": null,
       "border_right": null,
       "border_top": null,
       "bottom": null,
       "display": null,
       "flex": null,
       "flex_flow": null,
       "grid_area": null,
       "grid_auto_columns": null,
       "grid_auto_flow": null,
       "grid_auto_rows": null,
       "grid_column": null,
       "grid_gap": null,
       "grid_row": null,
       "grid_template_areas": null,
       "grid_template_columns": null,
       "grid_template_rows": null,
       "height": null,
       "justify_content": null,
       "justify_items": null,
       "left": null,
       "margin": null,
       "max_height": null,
       "max_width": null,
       "min_height": null,
       "min_width": null,
       "object_fit": null,
       "object_position": null,
       "order": null,
       "overflow": null,
       "padding": null,
       "right": null,
       "top": null,
       "visibility": null,
       "width": null
      }
     },
     "d920384c8d2b4718abe4a03ab38c65e8": {
      "model_module": "jupyter-matplotlib",
      "model_module_version": "^0.11",
      "model_name": "ToolbarModel",
      "state": {
       "_current_action": "",
       "_dom_classes": [],
       "_model_module": "jupyter-matplotlib",
       "_model_module_version": "^0.11",
       "_model_name": "ToolbarModel",
       "_view_count": null,
       "_view_module": "jupyter-matplotlib",
       "_view_module_version": "^0.11",
       "_view_name": "ToolbarView",
       "button_style": "",
       "collapsed": true,
       "layout": "IPY_MODEL_2969460b01f04af4afc78e04e8aaeb06",
       "orientation": "vertical",
       "tabbable": null,
       "toolitems": [
        [
         "Home",
         "Reset original view",
         "home",
         "home"
        ],
        [
         "Back",
         "Back to previous view",
         "arrow-left",
         "back"
        ],
        [
         "Forward",
         "Forward to next view",
         "arrow-right",
         "forward"
        ],
        [
         "Pan",
         "Left button pans, Right button zooms\nx/y fixes axis, CTRL fixes aspect",
         "arrows",
         "pan"
        ],
        [
         "Zoom",
         "Zoom to rectangle\nx/y fixes axis",
         "square-o",
         "zoom"
        ],
        [
         "Download",
         "Download plot",
         "floppy-o",
         "save_figure"
        ]
       ],
       "tooltip": null
      }
     },
     "de9f503b20ed4b6e90e428ef5d176af7": {
      "model_module": "jupyter-matplotlib",
      "model_module_version": "^0.11",
      "model_name": "ToolbarModel",
      "state": {
       "_current_action": "",
       "_dom_classes": [],
       "_model_module": "jupyter-matplotlib",
       "_model_module_version": "^0.11",
       "_model_name": "ToolbarModel",
       "_view_count": null,
       "_view_module": "jupyter-matplotlib",
       "_view_module_version": "^0.11",
       "_view_name": "ToolbarView",
       "button_style": "",
       "collapsed": true,
       "layout": "IPY_MODEL_ada3e5d4c148464a80a363a3c1c3c349",
       "orientation": "vertical",
       "tabbable": null,
       "toolitems": [
        [
         "Home",
         "Reset original view",
         "home",
         "home"
        ],
        [
         "Back",
         "Back to previous view",
         "arrow-left",
         "back"
        ],
        [
         "Forward",
         "Forward to next view",
         "arrow-right",
         "forward"
        ],
        [
         "Pan",
         "Left button pans, Right button zooms\nx/y fixes axis, CTRL fixes aspect",
         "arrows",
         "pan"
        ],
        [
         "Zoom",
         "Zoom to rectangle\nx/y fixes axis",
         "square-o",
         "zoom"
        ],
        [
         "Download",
         "Download plot",
         "floppy-o",
         "save_figure"
        ]
       ],
       "tooltip": null
      }
     },
     "ed11eff00092444e9a2bd03b0956a75e": {
      "model_module": "@jupyter-widgets/base",
      "model_module_version": "2.0.0",
      "model_name": "LayoutModel",
      "state": {
       "_model_module": "@jupyter-widgets/base",
       "_model_module_version": "2.0.0",
       "_model_name": "LayoutModel",
       "_view_count": null,
       "_view_module": "@jupyter-widgets/base",
       "_view_module_version": "2.0.0",
       "_view_name": "LayoutView",
       "align_content": null,
       "align_items": null,
       "align_self": null,
       "border_bottom": null,
       "border_left": null,
       "border_right": null,
       "border_top": null,
       "bottom": null,
       "display": null,
       "flex": null,
       "flex_flow": null,
       "grid_area": null,
       "grid_auto_columns": null,
       "grid_auto_flow": null,
       "grid_auto_rows": null,
       "grid_column": null,
       "grid_gap": null,
       "grid_row": null,
       "grid_template_areas": null,
       "grid_template_columns": null,
       "grid_template_rows": null,
       "height": null,
       "justify_content": null,
       "justify_items": null,
       "left": null,
       "margin": null,
       "max_height": null,
       "max_width": null,
       "min_height": null,
       "min_width": null,
       "object_fit": null,
       "object_position": null,
       "order": null,
       "overflow": null,
       "padding": null,
       "right": null,
       "top": null,
       "visibility": null,
       "width": null
      }
     }
    },
    "version_major": 2,
    "version_minor": 0
   }
  }
 },
 "nbformat": 4,
 "nbformat_minor": 5
}