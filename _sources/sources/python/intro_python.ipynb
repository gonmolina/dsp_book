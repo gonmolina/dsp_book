{
 "cells": [
  {
   "cell_type": "markdown",
   "id": "5537e7c1",
   "metadata": {},
   "source": [
    "# Introducción a Python\n",
    "\n",
    "Este cuaderno usará Python como lenguaje de programación. La mayor parte de lo aprendido en este curso puede ser desarrollado y aplicado en cuadernos. Los cuadernos se dividen en celdas donde se puede poner código y luego correrlo haciendo **Mayúscula + Enter**.\n",
    "\n",
    "Aquí intenta ase intentará mostrarles algunos de los tipo de datos más comunes de Python con el fin de comenzar a interiorizarnos tanto con el lenguaje como con los cuadernos de de Jupyter."
   ]
  },
  {
   "cell_type": "markdown",
   "id": "5d431a96",
   "metadata": {},
   "source": [
    "## Números\n",
    "\n",
    "Python cuenta con varios formatos o tipos de datos para representar números.\n",
    "\n",
    "### Enteros\n",
    "\n",
    "Cuando una nueva variable numérica se define Python por defecto lo hace como entero. Por ejemplo:"
   ]
  },
  {
   "cell_type": "code",
   "execution_count": 1,
   "id": "811137a1",
   "metadata": {},
   "outputs": [
    {
     "data": {
      "text/plain": [
       "int"
      ]
     },
     "execution_count": 1,
     "metadata": {},
     "output_type": "execute_result"
    }
   ],
   "source": [
    "num = 1\n",
    "type(num)"
   ]
  },
  {
   "cell_type": "markdown",
   "id": "f673d2d6",
   "metadata": {},
   "source": [
    "O podemos pasar  un númeor flotante a entero (con perdidas de información):"
   ]
  },
  {
   "cell_type": "code",
   "execution_count": 2,
   "id": "7cb812f6",
   "metadata": {},
   "outputs": [
    {
     "data": {
      "text/plain": [
       "int"
      ]
     },
     "execution_count": 2,
     "metadata": {},
     "output_type": "execute_result"
    }
   ],
   "source": [
    "num = int(1.6)\n",
    "type(num)"
   ]
  },
  {
   "cell_type": "code",
   "execution_count": 3,
   "id": "b525d13c",
   "metadata": {},
   "outputs": [
    {
     "name": "stdout",
     "output_type": "stream",
     "text": [
      "1\n"
     ]
    }
   ],
   "source": [
    "print(num)"
   ]
  },
  {
   "cell_type": "markdown",
   "id": "db1e1987",
   "metadata": {},
   "source": [
    "### Punto flotante\n",
    "\n",
    "En caso de necesitar números con decimales que no pueden ser representados mediante enteros, Python automáticamente los transforma en números punto flotantes, o `float`:"
   ]
  },
  {
   "cell_type": "code",
   "execution_count": 4,
   "id": "aa929331",
   "metadata": {},
   "outputs": [
    {
     "data": {
      "text/plain": [
       "float"
      ]
     },
     "execution_count": 4,
     "metadata": {},
     "output_type": "execute_result"
    }
   ],
   "source": [
    "num = 1.1\n",
    "type(num)"
   ]
  },
  {
   "cell_type": "markdown",
   "id": "1f62508e",
   "metadata": {},
   "source": [
    "En caso de necesitar que un número entero sea representado como un flotante, se puede resolver agregando un punto detrás de entero, por ejemplo:"
   ]
  },
  {
   "cell_type": "code",
   "execution_count": 5,
   "id": "c5cc77f6",
   "metadata": {},
   "outputs": [
    {
     "data": {
      "text/plain": [
       "float"
      ]
     },
     "execution_count": 5,
     "metadata": {},
     "output_type": "execute_result"
    }
   ],
   "source": [
    "num = 1.\n",
    "type(num)"
   ]
  },
  {
   "cell_type": "markdown",
   "id": "122306b9",
   "metadata": {},
   "source": [
    "Otra forma de hacerlo, mucho menos común es:"
   ]
  },
  {
   "cell_type": "code",
   "execution_count": 6,
   "id": "180c7ed5",
   "metadata": {},
   "outputs": [
    {
     "data": {
      "text/plain": [
       "float"
      ]
     },
     "execution_count": 6,
     "metadata": {},
     "output_type": "execute_result"
    }
   ],
   "source": [
    "num = float(1)\n",
    "type(num)"
   ]
  },
  {
   "cell_type": "markdown",
   "id": "bcbc3dd4",
   "metadata": {},
   "source": [
    "### Números complejos\n",
    "\n",
    "Python tiene soporte nativo para números complejos usando la letra `j` de la siguiente manera:"
   ]
  },
  {
   "cell_type": "code",
   "execution_count": 7,
   "id": "77fc75d6",
   "metadata": {},
   "outputs": [
    {
     "name": "stdout",
     "output_type": "stream",
     "text": [
      "La variable num toma el siguiente valor:  (1+2j)\n",
      "La variable num es del tipo:  <class 'complex'>\n"
     ]
    }
   ],
   "source": [
    "num = 1+2j\n",
    "print('La variable num toma el siguiente valor: ', num)\n",
    "print('La variable num es del tipo: ', type(num))"
   ]
  },
  {
   "cell_type": "markdown",
   "id": "e3773952",
   "metadata": {},
   "source": [
    "Python soporta ciertas operaciones de forma nativa con los números complejos:"
   ]
  },
  {
   "cell_type": "code",
   "execution_count": 8,
   "id": "dae09291",
   "metadata": {},
   "outputs": [
    {
     "name": "stdout",
     "output_type": "stream",
     "text": [
      " La suma de a + b es:  (3+7.8j)\n"
     ]
    }
   ],
   "source": [
    "a = 1 + 2j\n",
    "b = 2 + 5.8j\n",
    "print(' La suma de a + b es: ', a+b)"
   ]
  },
  {
   "cell_type": "code",
   "execution_count": 9,
   "id": "cf84b203",
   "metadata": {},
   "outputs": [
    {
     "name": "stdout",
     "output_type": "stream",
     "text": [
      "El conjugado de a vale:  (1-2j)\n"
     ]
    }
   ],
   "source": [
    "print('El conjugado de a vale: ', a.conjugate())"
   ]
  },
  {
   "cell_type": "markdown",
   "id": "5d0e7021",
   "metadata": {},
   "source": [
    "Fácilmente podemos obtener la parte real e imaginaria"
   ]
  },
  {
   "cell_type": "code",
   "execution_count": 10,
   "id": "51e85891",
   "metadata": {},
   "outputs": [
    {
     "name": "stdout",
     "output_type": "stream",
     "text": [
      "La parte real de a es  1.0  y la parte imaginaria es  2.0\n"
     ]
    }
   ],
   "source": [
    "print('La parte real de a es ', a.real, ' y la parte imaginaria es ',\n",
    "      a.imag)"
   ]
  },
  {
   "cell_type": "markdown",
   "id": "87019ab3",
   "metadata": {},
   "source": [
    "Notar la diferencia entre el **método** `conjugate` y la **propiedad** `real` y la **propiedad** `imag`. Mientras que `conjugate` se comporta como una función propia de número complejo y debemos llamarla usando paréntesis, `imag` y `real` se comportan como datos o variables del número complejo."
   ]
  },
  {
   "cell_type": "markdown",
   "id": "b490cadf",
   "metadata": {},
   "source": [
    "## Listas\n",
    "\n",
    "Ejemplo de lista, se acumulan con un patron"
   ]
  },
  {
   "cell_type": "code",
   "execution_count": 11,
   "id": "1c193738",
   "metadata": {},
   "outputs": [
    {
     "data": {
      "text/plain": [
       "[4, 1, 9, 4, 9]"
      ]
     },
     "execution_count": 11,
     "metadata": {},
     "output_type": "execute_result"
    }
   ],
   "source": [
    "inputs = [2, 1, 3, 2, 4, 3, 6]\n",
    "result = []  # Comenzamos con una lista vacía\n",
    "for i in inputs:  # Iteramos sobre la lista inputs\n",
    "    if i < 4:  # si se cumple esta condición agregamos a result\n",
    "        result.append(i**2)\n",
    "\n",
    "result"
   ]
  },
  {
   "cell_type": "markdown",
   "id": "7fc6bcb8",
   "metadata": {},
   "source": [
    "Es común ver en Python incluya una sintaxis algo diferente del `for` y el `if` cuando se tiene que ejecutar una sola línea. El siguiente es un ejemplo con ambos cosas."
   ]
  },
  {
   "cell_type": "code",
   "execution_count": 12,
   "id": "71bbe030",
   "metadata": {},
   "outputs": [
    {
     "data": {
      "text/plain": [
       "[4, 1, 9, 4, 9, 1]"
      ]
     },
     "execution_count": 12,
     "metadata": {},
     "output_type": "execute_result"
    }
   ],
   "source": [
    "result = [i**2 for i in inputs if i < 4]\n",
    "result.append(1)\n",
    "result"
   ]
  },
  {
   "cell_type": "markdown",
   "id": "4c14d260",
   "metadata": {},
   "source": [
    "## Diccionarios\n",
    "\n",
    "Una vez familiarizado con las listas, vemos los diccionarios, que son otro tipo de contenedores ordenados."
   ]
  },
  {
   "cell_type": "code",
   "execution_count": 13,
   "id": "43837255",
   "metadata": {},
   "outputs": [],
   "source": [
    "lst = [1, 2, 3]"
   ]
  },
  {
   "cell_type": "markdown",
   "id": "83dd9fa1",
   "metadata": {},
   "source": [
    "Podemos recuperar elementos de la lista mediante _indexado_"
   ]
  },
  {
   "cell_type": "code",
   "execution_count": 14,
   "id": "128bf44b",
   "metadata": {},
   "outputs": [
    {
     "data": {
      "text/plain": [
       "2"
      ]
     },
     "execution_count": 14,
     "metadata": {},
     "output_type": "execute_result"
    }
   ],
   "source": [
    "lst[1]"
   ]
  },
  {
   "cell_type": "markdown",
   "id": "9aa61bf7",
   "metadata": {},
   "source": [
    "Un diccionario nos da un contenedor como una lista, pero los índices pueden ser mucho más generales, no solo números, sino cadenas o variables de cualquier tipo, como por ejemplo `sympy` (y una gran cantidad de otros tipos)"
   ]
  },
  {
   "cell_type": "code",
   "execution_count": 15,
   "id": "f03689de",
   "metadata": {},
   "outputs": [
    {
     "name": "stdout",
     "output_type": "stream",
     "text": [
      "100 45\n"
     ]
    }
   ],
   "source": [
    "dic = {'a': 100, 2: 45, 100: 45}\n",
    "print(dic['a'], dic[2])"
   ]
  },
  {
   "cell_type": "code",
   "execution_count": 16,
   "id": "a89f4434",
   "metadata": {
    "editable": true,
    "slideshow": {
     "slide_type": ""
    },
    "tags": [
     "raises-exception"
    ]
   },
   "outputs": [
    {
     "ename": "KeyError",
     "evalue": "0",
     "output_type": "error",
     "traceback": [
      "\u001b[0;31m---------------------------------------------------------------------------\u001b[0m",
      "\u001b[0;31mKeyError\u001b[0m                                  Traceback (most recent call last)",
      "Cell \u001b[0;32mIn[16], line 1\u001b[0m\n\u001b[0;32m----> 1\u001b[0m \u001b[38;5;28mprint\u001b[39m(\u001b[43mdic\u001b[49m\u001b[43m[\u001b[49m\u001b[38;5;241;43m0\u001b[39;49m\u001b[43m]\u001b[49m)\n",
      "\u001b[0;31mKeyError\u001b[0m: 0"
     ]
    }
   ],
   "source": [
    "print(dic[0])"
   ]
  },
  {
   "cell_type": "markdown",
   "id": "b1db07c5",
   "metadata": {},
   "source": [
    "## Tuplas\n",
    "\n",
    "Finalmente, otro contenedor es la tupla:"
   ]
  },
  {
   "cell_type": "code",
   "execution_count": 17,
   "id": "895a763d",
   "metadata": {
    "editable": true,
    "slideshow": {
     "slide_type": ""
    }
   },
   "outputs": [],
   "source": [
    "x = 1, 2, 3\n",
    "a, b, c = x\n",
    "d, e, f = 4, 5, 6"
   ]
  },
  {
   "cell_type": "code",
   "execution_count": 18,
   "id": "269d1e5c",
   "metadata": {
    "editable": true,
    "slideshow": {
     "slide_type": ""
    }
   },
   "outputs": [
    {
     "name": "stdout",
     "output_type": "stream",
     "text": [
      "2\n"
     ]
    }
   ],
   "source": [
    "def f(x):\n",
    "    Ca, Cb, Cc = x\n",
    "    return Cb\n",
    "\n",
    "\n",
    "k = f(x)\n",
    "print(k)"
   ]
  },
  {
   "cell_type": "code",
   "execution_count": 19,
   "id": "77e7c4ae",
   "metadata": {
    "editable": true,
    "slideshow": {
     "slide_type": ""
    }
   },
   "outputs": [
    {
     "data": {
      "text/plain": [
       "list"
      ]
     },
     "execution_count": 19,
     "metadata": {},
     "output_type": "execute_result"
    }
   ],
   "source": [
    "li = [1, 2, 3, 4]\n",
    "type(li)"
   ]
  },
  {
   "cell_type": "markdown",
   "id": "ddf06ce6",
   "metadata": {
    "editable": true,
    "slideshow": {
     "slide_type": ""
    }
   },
   "source": [
    "Las tuplas son como listas, pero se crean con comas:"
   ]
  },
  {
   "cell_type": "code",
   "execution_count": 20,
   "id": "70f3c7b2",
   "metadata": {
    "editable": true,
    "slideshow": {
     "slide_type": ""
    }
   },
   "outputs": [
    {
     "data": {
      "text/plain": [
       "tuple"
      ]
     },
     "execution_count": 20,
     "metadata": {},
     "output_type": "execute_result"
    }
   ],
   "source": [
    "t = 1, 2, 3, 4\n",
    "type(t)"
   ]
  },
  {
   "cell_type": "markdown",
   "id": "2e1c7a80",
   "metadata": {
    "editable": true,
    "slideshow": {
     "slide_type": ""
    }
   },
   "source": [
    "En algunos casos, es útil usar paréntesis para agrupar tuplas, pero tenga en\n",
    "cuenta que no son requerimientos en la sintaxis:"
   ]
  },
  {
   "cell_type": "code",
   "execution_count": 21,
   "id": "a90e7d75",
   "metadata": {
    "editable": true,
    "slideshow": {
     "slide_type": ""
    }
   },
   "outputs": [
    {
     "data": {
      "text/plain": [
       "tuple"
      ]
     },
     "execution_count": 21,
     "metadata": {},
     "output_type": "execute_result"
    }
   ],
   "source": [
    "t2 = (1, 2, 3, 4)\n",
    "type(t2)"
   ]
  },
  {
   "cell_type": "markdown",
   "id": "ffcbcfb6",
   "metadata": {
    "editable": true,
    "slideshow": {
     "slide_type": ""
    }
   },
   "source": [
    "Es importante entender que la coma, no los paréntesis forman tuplas:"
   ]
  },
  {
   "cell_type": "code",
   "execution_count": 22,
   "id": "487d7a6b",
   "metadata": {
    "editable": true,
    "slideshow": {
     "slide_type": ""
    }
   },
   "outputs": [
    {
     "data": {
      "text/plain": [
       "int"
      ]
     },
     "execution_count": 22,
     "metadata": {},
     "output_type": "execute_result"
    }
   ],
   "source": [
    "only_one = (((((((1)))))))\n",
    "type(only_one)"
   ]
  },
  {
   "cell_type": "code",
   "execution_count": 23,
   "id": "ca2db2f9",
   "metadata": {
    "editable": true,
    "slideshow": {
     "slide_type": ""
    }
   },
   "outputs": [
    {
     "data": {
      "text/plain": [
       "tuple"
      ]
     },
     "execution_count": 23,
     "metadata": {},
     "output_type": "execute_result"
    }
   ],
   "source": [
    "only_one = 1,\n",
    "type(only_one)"
   ]
  },
  {
   "cell_type": "code",
   "execution_count": 24,
   "id": "fe253912",
   "metadata": {
    "editable": true,
    "slideshow": {
     "slide_type": ""
    }
   },
   "outputs": [
    {
     "data": {
      "text/plain": [
       "1"
      ]
     },
     "execution_count": 24,
     "metadata": {},
     "output_type": "execute_result"
    }
   ],
   "source": [
    "len(only_one)"
   ]
  },
  {
   "cell_type": "markdown",
   "id": "f7b33a36",
   "metadata": {
    "editable": true,
    "slideshow": {
     "slide_type": ""
    }
   },
   "source": [
    "La única excepción a esta regla es que una tupla vacía se construye con `()`:"
   ]
  },
  {
   "cell_type": "code",
   "execution_count": 25,
   "id": "a790dd0a",
   "metadata": {
    "editable": true,
    "slideshow": {
     "slide_type": ""
    }
   },
   "outputs": [
    {
     "data": {
      "text/plain": [
       "tuple"
      ]
     },
     "execution_count": 25,
     "metadata": {},
     "output_type": "execute_result"
    }
   ],
   "source": [
    "empty = ()\n",
    "type(empty)"
   ]
  },
  {
   "cell_type": "code",
   "execution_count": 26,
   "id": "eff30168",
   "metadata": {
    "editable": true,
    "slideshow": {
     "slide_type": ""
    }
   },
   "outputs": [
    {
     "data": {
      "text/plain": [
       "0"
      ]
     },
     "execution_count": 26,
     "metadata": {},
     "output_type": "execute_result"
    }
   ],
   "source": [
    "len(empty)"
   ]
  },
  {
   "cell_type": "markdown",
   "id": "d1d17735",
   "metadata": {
    "editable": true,
    "slideshow": {
     "slide_type": ""
    }
   },
   "source": [
    "Las diferencias entre las tuplas y las listas son que las tuplas son\n",
    "inmutables (no se pueden cambiar \"inplace\")"
   ]
  },
  {
   "cell_type": "code",
   "execution_count": 27,
   "id": "a158ea74",
   "metadata": {
    "editable": true,
    "slideshow": {
     "slide_type": ""
    }
   },
   "outputs": [
    {
     "data": {
      "text/plain": [
       "[1, 2, 3, 4, 1]"
      ]
     },
     "execution_count": 27,
     "metadata": {},
     "output_type": "execute_result"
    }
   ],
   "source": [
    "li.append(1) # la lista puede modificarse\n",
    "li"
   ]
  },
  {
   "cell_type": "markdown",
   "id": "a63920d1",
   "metadata": {
    "editable": true,
    "slideshow": {
     "slide_type": ""
    }
   },
   "source": [
    "Pero si ejecutamos"
   ]
  },
  {
   "cell_type": "code",
   "execution_count": 28,
   "id": "177a1418",
   "metadata": {
    "editable": true,
    "slideshow": {
     "slide_type": ""
    },
    "tags": [
     "raises-exception"
    ]
   },
   "outputs": [
    {
     "ename": "AttributeError",
     "evalue": "'tuple' object has no attribute 'append'",
     "output_type": "error",
     "traceback": [
      "\u001b[0;31m---------------------------------------------------------------------------\u001b[0m",
      "\u001b[0;31mAttributeError\u001b[0m                            Traceback (most recent call last)",
      "Cell \u001b[0;32mIn[28], line 1\u001b[0m\n\u001b[0;32m----> 1\u001b[0m \u001b[43mt\u001b[49m\u001b[38;5;241;43m.\u001b[39;49m\u001b[43mappend\u001b[49m(\u001b[38;5;241m1\u001b[39m) \u001b[38;5;66;03m# esto da error, ya que como no puede modificarse no existe el método append\u001b[39;00m\n",
      "\u001b[0;31mAttributeError\u001b[0m: 'tuple' object has no attribute 'append'"
     ]
    }
   ],
   "source": [
    "t.append(1) # esto da error, ya que como no puede modificarse no existe el método append"
   ]
  },
  {
   "cell_type": "markdown",
   "id": "d91e181e",
   "metadata": {
    "editable": true,
    "slideshow": {
     "slide_type": ""
    }
   },
   "source": [
    "### Expansión de la tupla\n",
    "\n",
    "Una característica muy útil y general del operador de asignación en Python es que las tuplas se expandirán y asignarán en patrones coincidentes:"
   ]
  },
  {
   "cell_type": "code",
   "execution_count": 29,
   "id": "504b4a8b",
   "metadata": {
    "editable": true,
    "slideshow": {
     "slide_type": ""
    }
   },
   "outputs": [],
   "source": [
    "a, b = 1, 2"
   ]
  },
  {
   "cell_type": "markdown",
   "id": "a43be1ce",
   "metadata": {
    "editable": true,
    "slideshow": {
     "slide_type": ""
    }
   },
   "source": [
    "Esto es bastante sofisticado y puede manejar estructuras anidadas y\n",
    "expandirse a listas:"
   ]
  },
  {
   "cell_type": "code",
   "execution_count": 30,
   "id": "f8a1eb71",
   "metadata": {
    "editable": true,
    "slideshow": {
     "slide_type": ""
    }
   },
   "outputs": [],
   "source": [
    "[(a, b,), c, d] = [(1, 2), 1, 4]\n",
    "[f, g, h] = [(1, 2), 1, 4]"
   ]
  },
  {
   "cell_type": "code",
   "execution_count": 31,
   "id": "3d665669",
   "metadata": {
    "editable": true,
    "slideshow": {
     "slide_type": ""
    }
   },
   "outputs": [
    {
     "name": "stdout",
     "output_type": "stream",
     "text": [
      "(1, 2)\n",
      "((1, 2), 3)\n",
      "(1, 2, 3)\n"
     ]
    }
   ],
   "source": [
    "f = 1, 2\n",
    "print(f)\n",
    "g = f, 3\n",
    "print(g)\n",
    "h = f[0], f[1], 3\n",
    "print(h)"
   ]
  },
  {
   "cell_type": "markdown",
   "id": "2082b237",
   "metadata": {
    "editable": true,
    "slideshow": {
     "slide_type": ""
    }
   },
   "source": [
    "## El bucle for en Python\n",
    "\n",
    "Como resumen en Python el bucle `for` lo que hace es recorrer los elementos de objeto del tipo \"iterable\". Por ejemplo una lista, un diccionario o un array de numpy son iterables.\n",
    "\n",
    "Para una lista:"
   ]
  },
  {
   "cell_type": "code",
   "execution_count": 32,
   "id": "e629c9ba",
   "metadata": {
    "editable": true,
    "slideshow": {
     "slide_type": ""
    }
   },
   "outputs": [
    {
     "name": "stdout",
     "output_type": "stream",
     "text": [
      "1\n",
      "2\n",
      "3.0\n",
      "hola\n"
     ]
    }
   ],
   "source": [
    "lista_variada = [1, 2, 3., \"hola\"]\n",
    "for e in lista_variada:\n",
    "    print(e)"
   ]
  },
  {
   "cell_type": "markdown",
   "id": "47e5f51d",
   "metadata": {
    "editable": true,
    "slideshow": {
     "slide_type": ""
    }
   },
   "source": [
    "Para un diccionario, va a devolver en cada iteración la `key` es decir:"
   ]
  },
  {
   "cell_type": "code",
   "execution_count": 33,
   "id": "65e88643",
   "metadata": {
    "editable": true,
    "slideshow": {
     "slide_type": ""
    }
   },
   "outputs": [],
   "source": [
    "mi_diccionario = {\"el_1\": \"Primer item\", 2: \"segundo item\", \"3\": 45*3.2}"
   ]
  },
  {
   "cell_type": "code",
   "execution_count": 34,
   "id": "f8c054a9",
   "metadata": {
    "editable": true,
    "slideshow": {
     "slide_type": ""
    }
   },
   "outputs": [
    {
     "name": "stdout",
     "output_type": "stream",
     "text": [
      "La key es de tipo  <class 'str'> y es  el_1\n",
      "El items de tipo  <class 'str'> y es  Primer item\n",
      "La key es de tipo  <class 'int'> y es  2\n",
      "El items de tipo  <class 'str'> y es  segundo item\n",
      "La key es de tipo  <class 'str'> y es  3\n",
      "El items de tipo  <class 'float'> y es  144.0\n"
     ]
    }
   ],
   "source": [
    "for key in mi_diccionario:\n",
    "    print(\"La key es de tipo \", type(key), \"y es \", key)\n",
    "    print(\"El items de tipo \", type(mi_diccionario[key]),\n",
    "          \"y es \", mi_diccionario[key])"
   ]
  },
  {
   "cell_type": "markdown",
   "id": "c457e836",
   "metadata": {
    "editable": true,
    "slideshow": {
     "slide_type": ""
    }
   },
   "source": [
    "Finalmente para un `array` de `numpy` me va a devolver cada elemento del\n",
    "array"
   ]
  },
  {
   "cell_type": "code",
   "execution_count": 35,
   "id": "85590984",
   "metadata": {
    "editable": true,
    "slideshow": {
     "slide_type": ""
    }
   },
   "outputs": [
    {
     "name": "stdout",
     "output_type": "stream",
     "text": [
      "Elemento al cuadrado 1.0\n",
      "Elemento al cuadrado 28056.25\n",
      "Elemento al cuadrado 111556.0\n",
      "Elemento al cuadrado 250500.25\n",
      "Elemento al cuadrado 444889.0\n",
      "Elemento al cuadrado 694722.25\n",
      "Elemento al cuadrado 1000000.0\n"
     ]
    }
   ],
   "source": [
    "import numpy as np\n",
    "\n",
    "n = np.linspace(1, 1000, 7)\n",
    "for i in n:\n",
    "    print(\"Elemento al cuadrado\", i**2)"
   ]
  },
  {
   "cell_type": "markdown",
   "id": "9af59969",
   "metadata": {
    "editable": true,
    "slideshow": {
     "slide_type": ""
    }
   },
   "source": [
    "## Funciones\n",
    "\n",
    "Las funciones en Python se definen a partir de la palabra calve `def`.\n",
    "Pueden tomar argumentos posicionales, y argumentos con nombres y con valores por defecto. El siguiente es un ejemplo."
   ]
  },
  {
   "cell_type": "code",
   "execution_count": 36,
   "id": "6b8a6c06",
   "metadata": {
    "editable": true,
    "slideshow": {
     "slide_type": ""
    }
   },
   "outputs": [],
   "source": [
    "def cambio_de_escala(x, m=1, h=0):\n",
    "    y = [i*m+h for i in x]\n",
    "    return y"
   ]
  },
  {
   "cell_type": "markdown",
   "id": "95a4470a",
   "metadata": {
    "editable": true,
    "slideshow": {
     "slide_type": ""
    }
   },
   "source": [
    "El argumento x es un argumento posicional y es obligatorio a la hora\n",
    "de llamar a la función `cambio_de_escala`. Los otros dos, pueden estar o no presentes a la hora de llamar. Si no están presentes, usan el valor por defecto definido en la función."
   ]
  },
  {
   "cell_type": "code",
   "execution_count": 37,
   "id": "87c529f2",
   "metadata": {
    "editable": true,
    "slideshow": {
     "slide_type": ""
    }
   },
   "outputs": [
    {
     "name": "stdout",
     "output_type": "stream",
     "text": [
      "[1, 2, 3, 4, 5]\n"
     ]
    }
   ],
   "source": [
    "x = [1, 2, 3, 4, 5]\n",
    "x1 = cambio_de_escala(x)\n",
    "print(x1)"
   ]
  },
  {
   "cell_type": "markdown",
   "id": "3f37e000",
   "metadata": {
    "editable": true,
    "slideshow": {
     "slide_type": ""
    }
   },
   "source": [
    "Podemos ver que asumió que `m=0` y `h=1`. También podríamos llamarla a la\n",
    "función de la siguiente manera:"
   ]
  },
  {
   "cell_type": "code",
   "execution_count": 38,
   "id": "3d846e6b",
   "metadata": {
    "editable": true,
    "slideshow": {
     "slide_type": ""
    }
   },
   "outputs": [
    {
     "name": "stdout",
     "output_type": "stream",
     "text": [
      "[3, 5, 7, 9, 11]\n"
     ]
    }
   ],
   "source": [
    "x2 = cambio_de_escala(x, m=2, h=1)\n",
    "print(x2)"
   ]
  },
  {
   "cell_type": "markdown",
   "id": "98759a6e",
   "metadata": {
    "editable": true,
    "slideshow": {
     "slide_type": ""
    }
   },
   "source": [
    "O lo que es lo mismo:"
   ]
  },
  {
   "cell_type": "code",
   "execution_count": 39,
   "id": "c64c960d",
   "metadata": {
    "editable": true,
    "slideshow": {
     "slide_type": ""
    }
   },
   "outputs": [
    {
     "name": "stdout",
     "output_type": "stream",
     "text": [
      "[3, 5, 7, 9, 11]\n"
     ]
    }
   ],
   "source": [
    "x2 = cambio_de_escala(x, h=1, m=2)\n",
    "print(x2)"
   ]
  },
  {
   "cell_type": "markdown",
   "id": "1ada1031",
   "metadata": {
    "editable": true,
    "slideshow": {
     "slide_type": ""
    }
   },
   "source": [
    "O equivalentemente:"
   ]
  },
  {
   "cell_type": "code",
   "execution_count": 40,
   "id": "fe0f6fdc",
   "metadata": {
    "editable": true,
    "slideshow": {
     "slide_type": ""
    }
   },
   "outputs": [
    {
     "name": "stdout",
     "output_type": "stream",
     "text": [
      "[3, 4, 5, 6, 7]\n"
     ]
    }
   ],
   "source": [
    "x2 = cambio_de_escala(x, 1, 2)\n",
    "print(x2)"
   ]
  },
  {
   "cell_type": "markdown",
   "id": "62e2d34b",
   "metadata": {
    "editable": true,
    "slideshow": {
     "slide_type": ""
    }
   },
   "source": [
    "Pero si intentamos sin darle valores a `x` tendremos:"
   ]
  },
  {
   "cell_type": "code",
   "execution_count": 41,
   "id": "3bcd8ca2",
   "metadata": {
    "editable": true,
    "slideshow": {
     "slide_type": ""
    },
    "tags": [
     "raises-exception"
    ]
   },
   "outputs": [
    {
     "ename": "TypeError",
     "evalue": "cambio_de_escala() missing 1 required positional argument: 'x'",
     "output_type": "error",
     "traceback": [
      "\u001b[0;31m---------------------------------------------------------------------------\u001b[0m",
      "\u001b[0;31mTypeError\u001b[0m                                 Traceback (most recent call last)",
      "Cell \u001b[0;32mIn[41], line 1\u001b[0m\n\u001b[0;32m----> 1\u001b[0m x3 \u001b[38;5;241m=\u001b[39m \u001b[43mcambio_de_escala\u001b[49m\u001b[43m(\u001b[49m\u001b[43mm\u001b[49m\u001b[38;5;241;43m=\u001b[39;49m\u001b[38;5;241;43m1\u001b[39;49m\u001b[43m,\u001b[49m\u001b[43m \u001b[49m\u001b[43mh\u001b[49m\u001b[38;5;241;43m=\u001b[39;49m\u001b[38;5;241;43m2\u001b[39;49m\u001b[43m)\u001b[49m\n\u001b[1;32m      2\u001b[0m \u001b[38;5;28mprint\u001b[39m(x3)\n",
      "\u001b[0;31mTypeError\u001b[0m: cambio_de_escala() missing 1 required positional argument: 'x'"
     ]
    }
   ],
   "source": [
    "x3 = cambio_de_escala(m=1, h=2)\n",
    "print(x3)"
   ]
  },
  {
   "cell_type": "markdown",
   "id": "73f4a54a",
   "metadata": {
    "editable": true,
    "slideshow": {
     "slide_type": ""
    }
   },
   "source": [
    "## Paquetes y módulos de Python\n",
    "\n",
    "En las próximas lineas utilizaré el alias `np` para `numpy` con el fin reducir lo que debo escribir.\n",
    "\n",
    "Las bibliotecas de Python se organizan en paquetes que tienen a su vez uno o varios módulos y submódulos.\n",
    "\n",
    "En este curso estaremos usando varios paquetes de Python que describiremos en las próximas secciones."
   ]
  },
  {
   "cell_type": "markdown",
   "id": "33823b95",
   "metadata": {
    "editable": true,
    "slideshow": {
     "slide_type": ""
    }
   },
   "source": [
    "### Numpy\n",
    "\n",
    "Este paquete una gran cantidad de herramientas relacionadas con cáculos numéricos y cuenta con distintos tipos de datos para representar la información numérica. \n",
    "\n",
    "## Tipos de datos de numpy\n",
    "\n",
    "Estaremos hablando de ellos durante el curso, pero los tipos de datos más importante a mencionar:\n",
    "\n",
    "- `ndarray` es un arreglo de una o más dimensiones cuyos datos son homogéneos, es decir todos del mismo tipo (todos enteros `int` o todos flotantes `np.float32` o todos dobles `np.float64`, etc.). Con este tipo de datos de de una dimensión podemos definir vectores, y de dos dimensiones podemos definir matrices\n",
    "- `matrix` es una arreglo de 2 dimensiones especialmente diseños para representar matrices. Es menos eficiente que `ndarray` y su uso no es recomendado, aunque al principio puede ser cómodo. La principal diferencia reside en como están definidas las operaciones de multiplicación para uno y otro. Mientras que para que el tipo de datos `matrix` la operación `*` es la multiplicación de matrices como la realizamos normalmente en álgebra, para el tipo de datos `ndarray` la multiplicación con `*` es elemento a elemento. Si quiere realizar la operación multiplicación de matrices con el tipo de datos `ndarray` se debe usar el operador `@`.\n",
    "\n",
    "Veamos un ejemplo:"
   ]
  },
  {
   "cell_type": "code",
   "execution_count": 42,
   "id": "cecea737",
   "metadata": {
    "editable": true,
    "slideshow": {
     "slide_type": ""
    }
   },
   "outputs": [
    {
     "name": "stdout",
     "output_type": "stream",
     "text": [
      "el tipo de datos de Aa es: <class 'numpy.ndarray'> \n",
      "\n"
     ]
    },
    {
     "ename": "NameError",
     "evalue": "name 'A' is not defined",
     "output_type": "error",
     "traceback": [
      "\u001b[0;31m---------------------------------------------------------------------------\u001b[0m",
      "\u001b[0;31mNameError\u001b[0m                                 Traceback (most recent call last)",
      "Cell \u001b[0;32mIn[42], line 8\u001b[0m\n\u001b[1;32m      6\u001b[0m \u001b[38;5;28mprint\u001b[39m(\u001b[38;5;124m\"\u001b[39m\u001b[38;5;124mel tipo de datos de Aa es:\u001b[39m\u001b[38;5;124m\"\u001b[39m, \u001b[38;5;28mtype\u001b[39m(Aa), \u001b[38;5;124m\"\u001b[39m\u001b[38;5;130;01m\\n\u001b[39;00m\u001b[38;5;124m\"\u001b[39m)\n\u001b[1;32m      7\u001b[0m \u001b[38;5;66;03m# realizamos la operación multiplicación elemento a elemento\u001b[39;00m\n\u001b[0;32m----> 8\u001b[0m \u001b[38;5;28mprint\u001b[39m(\u001b[38;5;124m\"\u001b[39m\u001b[38;5;124mresultado multiplicación elemento a elemento:\u001b[39m\u001b[38;5;130;01m\\n\u001b[39;00m\u001b[38;5;124m\"\u001b[39m, \u001b[43mA\u001b[49m\u001b[38;5;241m*\u001b[39mB, \u001b[38;5;124m\"\u001b[39m\u001b[38;5;130;01m\\n\u001b[39;00m\u001b[38;5;130;01m\\n\u001b[39;00m\u001b[38;5;124m\"\u001b[39m)\n\u001b[1;32m     10\u001b[0m Am\u001b[38;5;241m=\u001b[39mnp\u001b[38;5;241m.\u001b[39mmatrix([[\u001b[38;5;241m1.\u001b[39m,\u001b[38;5;241m2.\u001b[39m],[\u001b[38;5;241m3.\u001b[39m,\u001b[38;5;241m4.\u001b[39m]])\n\u001b[1;32m     11\u001b[0m Bm\u001b[38;5;241m=\u001b[39mnp\u001b[38;5;241m.\u001b[39mmatrix([[\u001b[38;5;241m5.\u001b[39m,\u001b[38;5;241m6.\u001b[39m],[\u001b[38;5;241m7.\u001b[39m,\u001b[38;5;241m8.\u001b[39m]])\n",
      "\u001b[0;31mNameError\u001b[0m: name 'A' is not defined"
     ]
    }
   ],
   "source": [
    "import numpy as np\n",
    "\n",
    "Aa=np.array([[1.,2.],[3.,4.]])\n",
    "Ba=np.array([[5.,6.],[7.,8.]])\n",
    "\n",
    "print(\"el tipo de datos de Aa es:\", type(Aa), \"\\n\")\n",
    "# realizamos la operación multiplicación elemento a elemento\n",
    "print(\"resultado multiplicación elemento a elemento:\\n\", A*B, \"\\n\\n\")\n",
    "\n",
    "Am=np.matrix([[1.,2.],[3.,4.]])\n",
    "Bm=np.matrix([[5.,6.],[7.,8.]])\n",
    "\n",
    "print(\"el tipo de datos de Ama es:\", type(Am), \"\\n\")\n",
    "# relizamos la operación multiplicación elemento a elemento\n",
    "print(\"resultado multiplicación de matrices usando matrix:\\n\", Am*Bm, \"\\n\\n\")\n",
    "print(\"resultado multiplicación de matrices usando ndarray:\\n\", Am@Bm)"
   ]
  },
  {
   "cell_type": "markdown",
   "id": "9c423bec",
   "metadata": {
    "editable": true,
    "slideshow": {
     "slide_type": ""
    }
   },
   "source": [
    "### Módulos\n",
    "\n",
    "El paquete `numpy` contiene varios módulos. Quizás para nosotros el más importante será el que respecta a algebra lineal, que se encuentra en `linalg`. Por ejemplo calculemos los autovalores de las matrices anteriores:"
   ]
  },
  {
   "cell_type": "code",
   "execution_count": null,
   "id": "bbecb4e5",
   "metadata": {
    "editable": true,
    "slideshow": {
     "slide_type": ""
    }
   },
   "outputs": [],
   "source": [
    "np.linalg.eigvals(Aa)"
   ]
  },
  {
   "cell_type": "markdown",
   "id": "5cd058c4",
   "metadata": {
    "editable": true,
    "slideshow": {
     "slide_type": ""
    }
   },
   "source": [
    "En este caso usé el tipo de datos `ndarray` pero el resultado con matrices hubiera sido el mismo."
   ]
  },
  {
   "cell_type": "markdown",
   "id": "7efbbca6",
   "metadata": {
    "editable": true,
    "raw_mimetype": "",
    "slideshow": {
     "slide_type": ""
    }
   },
   "source": [
    "Es util conocer sabes como se llaman los métodos que debemos utilizar. Para ayudarnos podemos utilizar las opciones de autocompletado de Jupyter. Por ejemplo tipeamos `np.linalg.` y luego presionando la tecla `TAB` el IDE nos mostrará todas las opciones que tenemos dentro del módulo `np.linalg`.\n",
    "\n",
    "También en `jupyter` parándonos sobre una función o módulo podemos obtener la ayuda presionando `ctrl+I`.\n",
    "\n",
    "En el Visual Studio Code las opciones de autocompletado y ayuda se deben ver mientras se está tipeando."
   ]
  },
  {
   "cell_type": "markdown",
   "id": "85a8b91e",
   "metadata": {
    "editable": true,
    "slideshow": {
     "slide_type": ""
    }
   },
   "source": [
    "## Scipy\n",
    "\n",
    "Para `scipy` utilizaré el alias `sc`\n",
    "\n",
    "Otro paquete importante para hacer cálculos es `scipy`. Utiliza `numpy` debajo para hacer muchos de sus cálculos y se superpone en muchas casos, pero la cantidad de herramientas con las que cuenta es mucho mayor. En este curso estaremos usando principalmente los siguientes módulos:\n",
    "\n",
    "- `interpolate`: utilidades para interpolación de datos\n",
    "- `fft`: utilidades para obtener valores de la transformada de Fourier a partir de datos\n",
    "- `stats` utilidades de estadística. Tiene generadores de números con distintas distribuciones.\n",
    "\n",
    "Estaremos utilizándolos en lo que sigue de la clase"
   ]
  },
  {
   "cell_type": "code",
   "execution_count": null,
   "id": "cd01a71c",
   "metadata": {},
   "outputs": [],
   "source": [
    "import scipy as sc\n",
    "\n",
    "x= np.linspace(0,10, 11) # uso numpy que importé antes\n",
    "y=x**2\n",
    "\n",
    "f=sc.interpolate.interp1d(x, y)\n",
    "\n",
    "urv = sc.stats.uniform() # una variable de distribución uniforme entre 0 y 1\n",
    "x0= urv.rvs(1)*10 #  obtengo un valor aleatorio entre 0 y 10\n",
    "y0 = f(x0)\n",
    "\n",
    "print(\"el resultado de la interpolación de \", x0, \" para los puntos (x,y) es: \", y0, \"\\n\\n\")"
   ]
  },
  {
   "cell_type": "markdown",
   "id": "baa93745",
   "metadata": {},
   "source": [
    "### Matplotlib\n",
    "\n",
    "Es el paquete más utilizado de Python para realizar figuras. Hay un cuaderno tratando específicamente este paquete. La intención es que usen ese cuaderno como consulta cuando desean realizar figuras más detalladas.\n",
    "\n",
    "Es importante poder utilizarlo con cierta destreza a este paquete, ya que en general la calidad de las figuras influyen fuertemente en la presentación del trabajo que se está realizando."
   ]
  },
  {
   "cell_type": "markdown",
   "id": "12673101",
   "metadata": {},
   "source": [
    "### Sympy\n",
    "\n",
    "Es el paquete de cálculo simbólico de Python. También pondré a disposición un cuaderno con ejemplos del uso básico de `sympy` ya que puede ser una herramienta útil para resolver algunos problemas en los que es necesario el cálculo simbólico."
   ]
  },
  {
   "cell_type": "code",
   "execution_count": null,
   "id": "ec2609a0",
   "metadata": {},
   "outputs": [],
   "source": []
  }
 ],
 "metadata": {
  "jupytext": {
   "encoding": "# -*- coding: utf-8 -*-",
   "formats": "md:myst,ipynb",
   "text_representation": {
    "extension": ".md",
    "format_name": "myst",
    "format_version": 0.13,
    "jupytext_version": "1.16.1"
   }
  },
  "kernelspec": {
   "display_name": "Python 3 (ipykernel)",
   "language": "python",
   "name": "python3"
  },
  "language_info": {
   "codemirror_mode": {
    "name": "ipython",
    "version": 3
   },
   "file_extension": ".py",
   "mimetype": "text/x-python",
   "name": "python",
   "nbconvert_exporter": "python",
   "pygments_lexer": "ipython3",
   "version": "3.12.3"
  },
  "source_map": [
   14,
   22,
   32,
   35,
   39,
   44,
   46,
   52,
   55,
   59,
   62,
   66,
   69,
   75,
   79,
   83,
   89,
   91,
   95,
   98,
   102,
   108,
   116,
   120,
   124,
   130,
   132,
   136,
   138,
   142,
   147,
   155,
   161,
   172,
   187,
   197,
   201,
   211,
   216,
   226,
   230,
   240,
   250,
   259,
   263,
   273,
   282,
   287,
   297,
   301,
   311,
   317,
   326,
   331,
   341,
   355,
   363,
   374,
   378,
   387,
   399,
   404,
   417,
   424,
   435,
   440,
   451,
   456,
   466,
   470,
   480,
   484,
   494,
   498,
   509,
   519,
   534,
   558,
   564,
   573,
   577,
   585,
   599,
   612,
   620,
   626
  ]
 },
 "nbformat": 4,
 "nbformat_minor": 5
}